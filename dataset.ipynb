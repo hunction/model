{
 "cells": [
  {
   "cell_type": "code",
   "execution_count": 5,
   "id": "cb62ae22",
   "metadata": {},
   "outputs": [
    {
     "ename": "ModuleNotFoundError",
     "evalue": "No module named 'sklearn'",
     "output_type": "error",
     "traceback": [
      "\u001b[1;31m---------------------------------------------------------------------------\u001b[0m",
      "\u001b[1;31mModuleNotFoundError\u001b[0m                       Traceback (most recent call last)",
      "\u001b[1;32m<ipython-input-5-8b7b3ff5cc4c>\u001b[0m in \u001b[0;36m<module>\u001b[1;34m\u001b[0m\n\u001b[0;32m      2\u001b[0m \u001b[1;32mimport\u001b[0m \u001b[0mcv2\u001b[0m\u001b[1;33m\u001b[0m\u001b[1;33m\u001b[0m\u001b[0m\n\u001b[0;32m      3\u001b[0m \u001b[1;32mimport\u001b[0m \u001b[0mnumpy\u001b[0m \u001b[1;32mas\u001b[0m \u001b[0mnp\u001b[0m\u001b[1;33m\u001b[0m\u001b[1;33m\u001b[0m\u001b[0m\n\u001b[1;32m----> 4\u001b[1;33m \u001b[1;32mfrom\u001b[0m \u001b[0msklearn\u001b[0m\u001b[1;33m.\u001b[0m\u001b[0mmodel_selection\u001b[0m \u001b[1;32mimport\u001b[0m \u001b[0mtrain_test_split\u001b[0m\u001b[1;33m\u001b[0m\u001b[1;33m\u001b[0m\u001b[0m\n\u001b[0m\u001b[0;32m      5\u001b[0m \u001b[1;33m\u001b[0m\u001b[0m\n\u001b[0;32m      6\u001b[0m \u001b[0mgroups_folder_path\u001b[0m \u001b[1;33m=\u001b[0m \u001b[1;34m'./testimg/minuscule/'\u001b[0m\u001b[1;33m\u001b[0m\u001b[1;33m\u001b[0m\u001b[0m\n",
      "\u001b[1;31mModuleNotFoundError\u001b[0m: No module named 'sklearn'"
     ]
    }
   ],
   "source": [
    "import os, re, glob\n",
    "import cv2\n",
    "import numpy as np\n",
    "from sklearn.model_selection import train_test_split\n",
    "  \n",
    "groups_folder_path = './testimg/minuscule/'\n",
    "categories = [\"a\", \"b\", \"c\", \"d\", \"e\", \"f\", \"g\", \"h\", \"i\", \"j\",\n",
    "              \"k\", \"l\", \"m\", \"n\", \"o\", \"p\", \"q\",\"r\", \"s\", \"t\",\n",
    "              \"u\", \"v\", \"w\", \"x\", \"y\", \"z\"]\n",
    " \n",
    "num_classes = len(categories)\n",
    "  \n",
    "image_w = 28\n",
    "image_h = 28\n",
    "  \n",
    "X = []\n",
    "Y = []\n",
    "  \n",
    "for idex, categorie in enumerate(categories):\n",
    "    label = [0 for i in range(num_classes)]\n",
    "    label[idex] = 1\n",
    "    image_dir = groups_folder_path + categorie + '/'\n",
    "  \n",
    "    for top, dir, f in os.walk(image_dir):\n",
    "        for filename in f:\n",
    "            print(image_dir+filename)\n",
    "            img = cv2.imread(image_dir+filename)\n",
    "            img = cv2.resize(img, None, fx=image_w/img.shape[1], fy=image_h/img.shape[0])\n",
    "            X.append(img/256)\n",
    "            Y.append(label)\n",
    " \n",
    "X = np.array(X)\n",
    "Y = np.array(Y)\n",
    " \n",
    "X_train, X_test, Y_train, Y_test = train_test_split(X,Y)\n",
    "xy = (X_train, X_test, Y_train, Y_test)\n",
    " \n",
    "np.save(\"./img_data.npy\", xy)"
   ]
  },
  {
   "cell_type": "code",
   "execution_count": 3,
   "id": "634fb409",
   "metadata": {},
   "outputs": [],
   "source": [
    "import os, re, glob\n",
    "import cv2\n",
    "import numpy as np\n",
    "from sklearn.model_selection import train_test_split\n",
    "import matplotlib.pyplot as plt\n"
   ]
  },
  {
   "cell_type": "code",
   "execution_count": 11,
   "id": "1d37ca2d",
   "metadata": {},
   "outputs": [],
   "source": [
    "img = plt.imread(\"./testimg/minuscule/w/1700.png\")"
   ]
  },
  {
   "cell_type": "code",
   "execution_count": 18,
   "id": "d12114d8",
   "metadata": {},
   "outputs": [
    {
     "data": {
      "text/plain": [
       "<matplotlib.image.AxesImage at 0x1dc1673d6d8>"
      ]
     },
     "execution_count": 18,
     "metadata": {},
     "output_type": "execute_result"
    },
    {
     "data": {
      "image/png": "[encoded data removed]",
      "text/plain": [
       "<Figure size 432x288 with 1 Axes>"
      ]
     },
     "metadata": {
      "needs_background": "light"
     },
     "output_type": "display_data"
    }
   ],
   "source": [
    "plt.imshow(img[:,:,2]*255)"
   ]
  },
  {
   "cell_type": "code",
   "execution_count": 17,
   "id": "4cbd0f55",
   "metadata": {},
   "outputs": [
    {
     "name": "stdout",
     "output_type": "stream",
     "text": [
      "[[  0.   0.   0.   0.   0.   0.   0.   0.   0.   0.   0.   0.   0.   0.\n",
      "    0.   0.   0.   0.   0.   0.   0.   0.   0.   0.   0.   0.   0.   0.]\n",
      " [  0.   0.   0.   0.   0.   0.   0.   0.   0.   0.   0.   0.   0.   0.\n",
      "    0.   0.   0.   0.   0.   0.   0.   0.   0.   0.   0.   0.   0.   0.]\n",
      " [  0.   0.   0.   0.   0.   0.   0.   0.   0.   0.   0.   0.   0.   0.\n",
      "    0.   0.   0.   0.   0.   0.   0.   0.   0.   0.   0.   0.   0.   0.]\n",
      " [  0.   0.   0.   0.   0.   0.   0.   0.   0.   0.   0.   0.   0.   0.\n",
      "    0.   0.   0.   0.   0.   0.   0.   0.   0.   0.   0.   0.   0.   0.]\n",
      " [  0.   0.   0.   0.   0.   0.   0.   0.   0.   0.   0.   0.   0.   0.\n",
      "    0.   0.   0.   0.   0.   0.   0.   0.   0.   0.   0.   0.   0.   0.]\n",
      " [  0.   0.   0.   0.   0.   0.   0.   0.   0.   0.   0.   0.   0.   0.\n",
      "    0.   0.   0.   0.   0.   0.   0.   0.   0.   0.   0.   0.   0.   0.]\n",
      " [  0.   0.   0.   0.   0.   0.   0.   0.   0.   0.   0.   0.   0.   0.\n",
      "    0.   0.   0.   0.   0.   0.   0.   0.   0.   0.   0.   0.   0.   0.]\n",
      " [  0.   0.   0.   0.   0.   0.   0.   0.   0.   0.   0.   0.   0.   0.\n",
      "    0.   0.   0.   0.   0.   0.   0.   0.   0.   0.   0.   0.   0.   0.]\n",
      " [  0.   0.   0.   0.   0.   0.   0.   0.   0.   0.   0.   0.   0.   0.\n",
      "    0.   0.   0.   0.   0.   0.   0.   0.   0.   0.   0.  17.  35.   0.]\n",
      " [  0.   0.   0.   0.   0.   0.   0.   0.   0.   0.   0.   0.   0.   0.\n",
      "    0.   0.   0.   0.   0.   0.   1.   0.   1.   6.  33.  88. 154.  25.]\n",
      " [  0.   0.   0.   0.   0.   0.   0.   0.   0.   0.   0.   0.   0.   0.\n",
      "    0.   0.   0.   0.   9.   2.   0.   0.   0.   7.  63. 157. 227. 101.]\n",
      " [  0.   0.   0.   0.   0.   0.   0.   0.   0.   0.   0.   6.   1.   0.\n",
      "    1.   2.  24.  56.  67.  36.   7.   0.   0.   2.  41. 141. 226. 175.]\n",
      " [  0.   0.   0.   0.   0.   0.   0.   0.   2.  11.  26.  61.  63.  38.\n",
      "   12.  13.  70. 164. 178. 100.  19.   0.   0.   0.  12.  90. 203. 239.]\n",
      " [  0.   0.   0.   0.   0.   0.   0.   6.  49. 130. 200. 197. 158.  96.\n",
      "   42.  27.  93. 215. 242. 138.  18.   0.   0.   0.   0.  67. 182. 245.]\n",
      " [  0.   0.   0.   0.   0.   0.   1.  29. 122. 205. 251. 249. 196.  98.\n",
      "   23.  19.  94. 205. 244. 158.  39.   3.   0.   0.   0.  54. 162. 233.]\n",
      " [  0.   0.   0.   0.   0.   2.  18.  70. 153. 203. 239. 247. 177.  71.\n",
      "    9.  21.  92. 189. 241. 190.  87.  20.   4.   2.  15.  76. 162. 188.]\n",
      " [  0.   0.   0.   0.   0.   1.  32. 106. 172. 219. 249. 225. 126.  32.\n",
      "    5.  33. 104. 196. 250. 225. 150.  84.  48.  37.  85. 185. 181. 112.]\n",
      " [  0.   0.   0.   0.   4.  26.  73. 129. 187. 237. 237. 158.  55.   5.\n",
      "    5.  39. 126. 224. 255. 215. 188. 204. 168. 134. 166. 186. 118.  45.]\n",
      " [  0.   0.   1.   8.  33.  98. 181. 214. 213. 246. 234. 141.  40.   3.\n",
      "    0.  48. 157. 225. 186. 113. 114. 144. 165. 150. 116.  68.  28.   8.]\n",
      " [  0.   0.   2.   6.  55. 117. 154. 176. 186. 196. 230. 207. 125.  93.\n",
      "  101. 135. 172. 148.  61.  17.  24.  37.  34.  37.  26.   8.   0.   0.]\n",
      " [  0.   0.   1.   1.   4.  24.  38.  23.  15.  76. 156. 195. 183. 182.\n",
      "  205. 209. 133.  61.   8.   0.   1.   3.   1.   0.   0.   0.   0.   0.]\n",
      " [  0.   0.   0.   0.   0.   0.   0.   0.   0.  15.  50.  63. 102. 120.\n",
      "  108.  65.  37.  11.   1.   0.   0.   0.   0.   0.   0.   0.   0.   0.]\n",
      " [  0.   0.   0.   0.   0.   0.   0.   0.   0.   0.   3.   4.  13.  23.\n",
      "   18.   2.   0.   0.   0.   0.   0.   0.   0.   0.   0.   0.   0.   0.]\n",
      " [  0.   0.   0.   0.   0.   0.   0.   0.   0.   0.   0.   0.   0.   0.\n",
      "    0.   0.   0.   0.   0.   0.   0.   0.   0.   0.   0.   0.   0.   0.]\n",
      " [  0.   0.   0.   0.   0.   0.   0.   0.   0.   0.   0.   0.   0.   0.\n",
      "    0.   0.   0.   0.   0.   0.   0.   0.   0.   0.   0.   0.   0.   0.]\n",
      " [  0.   0.   0.   0.   0.   0.   0.   0.   0.   0.   0.   0.   0.   0.\n",
      "    0.   0.   0.   0.   0.   0.   0.   0.   0.   0.   0.   0.   0.   0.]\n",
      " [  0.   0.   0.   0.   0.   0.   0.   0.   0.   0.   0.   0.   0.   0.\n",
      "    0.   0.   0.   0.   0.   0.   0.   0.   0.   0.   0.   0.   0.   0.]\n",
      " [  0.   0.   0.   0.   0.   0.   0.   0.   0.   0.   0.   0.   0.   0.\n",
      "    0.   0.   0.   0.   0.   0.   0.   0.   0.   0.   0.   0.   0.   0.]]\n"
     ]
    }
   ],
   "source": [
    "print(img[:,:,2]*255)"
   ]
  },
  {
   "cell_type": "code",
   "execution_count": null,
   "id": "5865f051",
   "metadata": {},
   "outputs": [],
   "source": []
  }
 ],
 "metadata": {
  "kernelspec": {
   "display_name": "Python 3",
   "language": "python",
   "name": "python3"
  },
  "language_info": {
   "codemirror_mode": {
    "name": "ipython",
    "version": 3
   },
   "file_extension": ".py",
   "mimetype": "text/x-python",
   "name": "python",
   "nbconvert_exporter": "python",
   "pygments_lexer": "ipython3",
   "version": "3.6.13"
  }
 },
 "nbformat": 4,
 "nbformat_minor": 5
}
