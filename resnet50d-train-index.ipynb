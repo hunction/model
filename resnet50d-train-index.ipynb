{
 "cells": [
  {
   "cell_type": "code",
   "execution_count": 1,
   "id": "bcb9ea59",
   "metadata": {
    "execution": {
     "iopub.execute_input": "2022-02-19T13:52:08.316309Z",
     "iopub.status.busy": "2022-02-19T13:52:08.314686Z",
     "iopub.status.idle": "2022-02-19T13:52:14.304291Z",
     "shell.execute_reply": "2022-02-19T13:52:14.303630Z",
     "shell.execute_reply.started": "2022-02-19T13:40:08.527591Z"
    },
    "papermill": {
     "duration": 6.021102,
     "end_time": "2022-02-19T13:52:14.304451",
     "exception": false,
     "start_time": "2022-02-19T13:52:08.283349",
     "status": "completed"
    },
    "tags": []
   },
   "outputs": [],
   "source": [
    "import os\n",
    "import gc\n",
    "import matplotlib.pyplot as plt\n",
    "\n",
    "from tensorflow.keras.datasets import mnist\n",
    "import numpy as np\n",
    "import pandas as pd\n",
    "from sklearn.preprocessing import LabelBinarizer\n",
    "from sklearn.model_selection import train_test_split\n",
    "\n",
    "import tensorflow as tf\n",
    "import tensorflow_addons as tfa\n",
    "from tensorflow.keras.models import Sequential, Model, load_model\n",
    "from tensorflow.keras.preprocessing.image import ImageDataGenerator\n",
    "from tensorflow.keras.layers import Dense, Dropout, Activation, Input, BatchNormalization, GlobalAveragePooling2D\n",
    "from tensorflow.keras import layers\n",
    "from tensorflow.keras.callbacks import ModelCheckpoint, ReduceLROnPlateau, EarlyStopping\n",
    "from tensorflow.keras.experimental import CosineDecay\n",
    "from tensorflow.keras.utils import to_categorical\n",
    "from tensorflow.keras.applications import ResNet50V2, ResNet50\n",
    "from tensorflow.keras.layers.experimental.preprocessing import RandomCrop,CenterCrop, RandomRotation\n",
    "from tensorflow.keras.applications import EfficientNetB0\n",
    "\n",
    "import cv2"
   ]
  },
  {
   "cell_type": "code",
   "execution_count": 2,
   "id": "ee8356b0",
   "metadata": {
    "execution": {
     "iopub.execute_input": "2022-02-19T13:52:47.385381Z",
     "iopub.status.busy": "2022-02-19T13:52:47.384548Z",
     "iopub.status.idle": "2022-02-19T13:52:48.037452Z",
     "shell.execute_reply": "2022-02-19T13:52:48.037978Z",
     "shell.execute_reply.started": "2022-02-19T13:40:56.476889Z"
    },
    "papermill": {
     "duration": 0.686236,
     "end_time": "2022-02-19T13:52:48.038137",
     "exception": false,
     "start_time": "2022-02-19T13:52:47.351901",
     "status": "completed"
    },
    "tags": []
   },
   "outputs": [
    {
     "name": "stdout",
     "output_type": "stream",
     "text": [
      "(187000, 28, 28)\n",
      "(187000,)\n"
     ]
    }
   ],
   "source": [
    "# load data from tensorflow framework\n",
    "(x_train, x_test), (y_train, y_test) = np.load('./img_data3.npy',allow_pickle=True)\n",
    "\n",
    "# Stack train data and test data to form single array \n",
    "az_data = np.vstack([x_train, x_test])\n",
    "print(az_data.shape)\n",
    "# Horizontal stacking labels of train and test set\n",
    "az_labels = np.hstack([y_train, y_test])\n",
    "print(az_labels.shape)"
   ]
  },
  {
   "cell_type": "code",
   "execution_count": 3,
   "id": "5b5d77b3",
   "metadata": {
    "execution": {
     "iopub.execute_input": "2022-02-19T13:52:48.108281Z",
     "iopub.status.busy": "2022-02-19T13:52:48.107454Z",
     "iopub.status.idle": "2022-02-19T13:52:48.113349Z",
     "shell.execute_reply": "2022-02-19T13:52:48.113757Z",
     "shell.execute_reply.started": "2022-02-19T13:40:57.895797Z"
    },
    "papermill": {
     "duration": 0.043028,
     "end_time": "2022-02-19T13:52:48.113899",
     "exception": false,
     "start_time": "2022-02-19T13:52:48.070871",
     "status": "completed"
    },
    "tags": []
   },
   "outputs": [
    {
     "name": "stdout",
     "output_type": "stream",
     "text": [
      "Value counts of y_train modalities: [8277 8238 8229 8336 8269 8267 8149 8298 8239 8230 8313 8170 8208 8305\n",
      " 8213 8288 8221]\n",
      "\n",
      "Value counts of y_test modalities: [2723 2762 2771 2664 2731 2733 2851 2702 2761 2770 2687 2830 2792 2695\n",
      " 2787 2712 2779]\n"
     ]
    }
   ],
   "source": [
    "# Uniques and counts of train labels\n",
    "unique_train, counts_train = np.unique(y_train, return_counts= True)\n",
    "print(f\"Value counts of y_train modalities: {counts_train}\\n\")\n",
    "\n",
    "# Uniques and counts of test labels\n",
    "unique_test, counts_test = np.unique(y_test, return_counts= True)\n",
    "print(f\"Value counts of y_test modalities: {counts_test}\")"
   ]
  },
  {
   "cell_type": "code",
   "execution_count": 4,
   "id": "c35b6637",
   "metadata": {
    "execution": {
     "iopub.execute_input": "2022-02-19T13:54:08.731362Z",
     "iopub.status.busy": "2022-02-19T13:54:08.730569Z",
     "iopub.status.idle": "2022-02-19T13:54:08.733501Z",
     "shell.execute_reply": "2022-02-19T13:54:08.733908Z",
     "shell.execute_reply.started": "2022-02-19T13:42:36.117853Z"
    },
    "papermill": {
     "duration": 0.040096,
     "end_time": "2022-02-19T13:54:08.734078",
     "exception": false,
     "start_time": "2022-02-19T13:54:08.693982",
     "status": "completed"
    },
    "tags": []
   },
   "outputs": [
    {
     "data": {
      "text/plain": [
       "array([10,  3, 13, ...,  2,  7,  1])"
      ]
     },
     "execution_count": 4,
     "metadata": {},
     "output_type": "execute_result"
    }
   ],
   "source": [
    "az_labels"
   ]
  },
  {
   "cell_type": "code",
   "execution_count": 5,
   "id": "37498bcd",
   "metadata": {
    "execution": {
     "iopub.execute_input": "2022-02-19T13:54:08.885864Z",
     "iopub.status.busy": "2022-02-19T13:54:08.885107Z",
     "iopub.status.idle": "2022-02-19T13:54:08.888108Z",
     "shell.execute_reply": "2022-02-19T13:54:08.887661Z",
     "shell.execute_reply.started": "2022-02-19T13:42:36.139760Z"
    },
    "papermill": {
     "duration": 0.049125,
     "end_time": "2022-02-19T13:54:08.888266",
     "exception": false,
     "start_time": "2022-02-19T13:54:08.839141",
     "status": "completed"
    },
    "tags": []
   },
   "outputs": [],
   "source": [
    "z = np.hstack([az_labels])"
   ]
  },
  {
   "cell_type": "code",
   "execution_count": 6,
   "id": "5a92c238",
   "metadata": {
    "execution": {
     "iopub.execute_input": "2022-02-19T13:54:08.958883Z",
     "iopub.status.busy": "2022-02-19T13:54:08.958224Z",
     "iopub.status.idle": "2022-02-19T13:54:08.960982Z",
     "shell.execute_reply": "2022-02-19T13:54:08.961427Z",
     "shell.execute_reply.started": "2022-02-19T13:42:36.149277Z"
    },
    "papermill": {
     "duration": 0.040928,
     "end_time": "2022-02-19T13:54:08.961580",
     "exception": false,
     "start_time": "2022-02-19T13:54:08.920652",
     "status": "completed"
    },
    "tags": []
   },
   "outputs": [
    {
     "data": {
      "text/plain": [
       "(187000,)"
      ]
     },
     "execution_count": 6,
     "metadata": {},
     "output_type": "execute_result"
    }
   ],
   "source": [
    "z.shape"
   ]
  },
  {
   "cell_type": "code",
   "execution_count": 7,
   "id": "fdec01b2",
   "metadata": {
    "execution": {
     "iopub.execute_input": "2022-02-19T13:54:09.108527Z",
     "iopub.status.busy": "2022-02-19T13:54:09.107850Z",
     "iopub.status.idle": "2022-02-19T13:54:09.110728Z",
     "shell.execute_reply": "2022-02-19T13:54:09.111129Z",
     "shell.execute_reply.started": "2022-02-19T13:42:36.173110Z"
    },
    "papermill": {
     "duration": 0.041374,
     "end_time": "2022-02-19T13:54:09.111303",
     "exception": false,
     "start_time": "2022-02-19T13:54:09.069929",
     "status": "completed"
    },
    "tags": []
   },
   "outputs": [
    {
     "data": {
      "text/plain": [
       "array([10,  3, 13, ...,  2,  7,  1])"
      ]
     },
     "execution_count": 7,
     "metadata": {},
     "output_type": "execute_result"
    }
   ],
   "source": [
    "a= az_labels\n",
    "a"
   ]
  },
  {
   "cell_type": "code",
   "execution_count": 8,
   "id": "b57d55e3",
   "metadata": {
    "execution": {
     "iopub.execute_input": "2022-02-19T13:54:09.186045Z",
     "iopub.status.busy": "2022-02-19T13:54:09.184818Z",
     "iopub.status.idle": "2022-02-19T13:54:13.300114Z",
     "shell.execute_reply": "2022-02-19T13:54:13.299646Z",
     "shell.execute_reply.started": "2022-02-19T13:42:36.183874Z"
    },
    "papermill": {
     "duration": 4.155408,
     "end_time": "2022-02-19T13:54:13.300274",
     "exception": false,
     "start_time": "2022-02-19T13:54:09.144866",
     "status": "completed"
    },
    "tags": []
   },
   "outputs": [],
   "source": [
    "\n",
    "# stack the A-Z data and labels with the MNIST digits data and\n",
    "# Each image in the A-Z and MNIST digts datasets are 28x28 pixels;\n",
    "# However, the architecture we're using is designed for 32x32 images,\n",
    "# So we need to resize them to 32x32\n",
    "\n",
    "az_data = [cv2.resize(image, (32, 32)) for image in az_data]\n",
    "az_data = np.array(az_data, dtype=\"float32\")\n",
    "\n",
    "# add a channel dimension to every image in the dataset and scale the\n",
    "# pixel intensities of the images from [0, 255] down to [0, 1]\n",
    "\n",
    "az_data = np.expand_dims(az_data, axis=-1)\n",
    "az_data /= 255.0"
   ]
  },
  {
   "cell_type": "code",
   "execution_count": 9,
   "id": "bc482b47",
   "metadata": {},
   "outputs": [
    {
     "data": {
      "text/plain": [
       "array([[[[0.20784314],\n",
       "         [0.03921569],\n",
       "         [0.14117648],\n",
       "         ...,\n",
       "         [0.        ],\n",
       "         [0.        ],\n",
       "         [0.        ]],\n",
       "\n",
       "        [[0.2       ],\n",
       "         [0.03921569],\n",
       "         [0.02745098],\n",
       "         ...,\n",
       "         [0.        ],\n",
       "         [0.        ],\n",
       "         [0.        ]],\n",
       "\n",
       "        [[0.0627451 ],\n",
       "         [0.01176471],\n",
       "         [0.        ],\n",
       "         ...,\n",
       "         [0.09411765],\n",
       "         [0.        ],\n",
       "         [0.        ]],\n",
       "\n",
       "        ...,\n",
       "\n",
       "        [[0.20392157],\n",
       "         [0.25882354],\n",
       "         [0.7058824 ],\n",
       "         ...,\n",
       "         [0.        ],\n",
       "         [0.        ],\n",
       "         [0.        ]],\n",
       "\n",
       "        [[0.20784314],\n",
       "         [0.21176471],\n",
       "         [0.5686275 ],\n",
       "         ...,\n",
       "         [0.        ],\n",
       "         [0.        ],\n",
       "         [0.        ]],\n",
       "\n",
       "        [[0.20784314],\n",
       "         [0.22352941],\n",
       "         [0.1764706 ],\n",
       "         ...,\n",
       "         [0.        ],\n",
       "         [0.        ],\n",
       "         [0.        ]]],\n",
       "\n",
       "\n",
       "       [[[0.2       ],\n",
       "         [0.2       ],\n",
       "         [0.0627451 ],\n",
       "         ...,\n",
       "         [0.14117648],\n",
       "         [0.        ],\n",
       "         [0.        ]],\n",
       "\n",
       "        [[0.03921569],\n",
       "         [0.17254902],\n",
       "         [0.1764706 ],\n",
       "         ...,\n",
       "         [0.02745098],\n",
       "         [0.03137255],\n",
       "         [0.16078432]],\n",
       "\n",
       "        [[0.14117648],\n",
       "         [0.2       ],\n",
       "         [0.21176471],\n",
       "         ...,\n",
       "         [0.09411765],\n",
       "         [0.03529412],\n",
       "         [0.2       ]],\n",
       "\n",
       "        ...,\n",
       "\n",
       "        [[0.        ],\n",
       "         [0.        ],\n",
       "         [0.        ],\n",
       "         ...,\n",
       "         [0.09411765],\n",
       "         [0.        ],\n",
       "         [0.        ]],\n",
       "\n",
       "        [[0.        ],\n",
       "         [0.        ],\n",
       "         [0.        ],\n",
       "         ...,\n",
       "         [0.        ],\n",
       "         [0.        ],\n",
       "         [0.        ]],\n",
       "\n",
       "        [[0.        ],\n",
       "         [0.        ],\n",
       "         [0.        ],\n",
       "         ...,\n",
       "         [0.        ],\n",
       "         [0.        ],\n",
       "         [0.        ]]],\n",
       "\n",
       "\n",
       "       [[[0.2509804 ],\n",
       "         [0.20784314],\n",
       "         [0.2       ],\n",
       "         ...,\n",
       "         [0.        ],\n",
       "         [0.03529412],\n",
       "         [0.2       ]],\n",
       "\n",
       "        [[0.20784314],\n",
       "         [0.07058824],\n",
       "         [0.15294118],\n",
       "         ...,\n",
       "         [0.        ],\n",
       "         [0.00784314],\n",
       "         [0.03921569]],\n",
       "\n",
       "        [[0.20392157],\n",
       "         [0.14901961],\n",
       "         [0.18039216],\n",
       "         ...,\n",
       "         [0.04313726],\n",
       "         [0.14509805],\n",
       "         [0.15294118]],\n",
       "\n",
       "        ...,\n",
       "\n",
       "        [[0.0627451 ],\n",
       "         [0.01176471],\n",
       "         [0.09411765],\n",
       "         ...,\n",
       "         [0.17254902],\n",
       "         [0.21568628],\n",
       "         [0.13725491]],\n",
       "\n",
       "        [[0.16078432],\n",
       "         [0.03137255],\n",
       "         [0.        ],\n",
       "         ...,\n",
       "         [0.16470589],\n",
       "         [0.13333334],\n",
       "         [0.        ]],\n",
       "\n",
       "        [[0.        ],\n",
       "         [0.        ],\n",
       "         [0.        ],\n",
       "         ...,\n",
       "         [0.        ],\n",
       "         [0.        ],\n",
       "         [0.        ]]],\n",
       "\n",
       "\n",
       "       ...,\n",
       "\n",
       "\n",
       "       [[[0.2       ],\n",
       "         [0.03529412],\n",
       "         [0.        ],\n",
       "         ...,\n",
       "         [0.        ],\n",
       "         [0.        ],\n",
       "         [0.        ]],\n",
       "\n",
       "        [[0.03921569],\n",
       "         [0.00784314],\n",
       "         [0.        ],\n",
       "         ...,\n",
       "         [0.        ],\n",
       "         [0.        ],\n",
       "         [0.        ]],\n",
       "\n",
       "        [[0.        ],\n",
       "         [0.        ],\n",
       "         [0.        ],\n",
       "         ...,\n",
       "         [0.        ],\n",
       "         [0.        ],\n",
       "         [0.        ]],\n",
       "\n",
       "        ...,\n",
       "\n",
       "        [[0.        ],\n",
       "         [0.        ],\n",
       "         [0.        ],\n",
       "         ...,\n",
       "         [0.        ],\n",
       "         [0.        ],\n",
       "         [0.        ]],\n",
       "\n",
       "        [[0.        ],\n",
       "         [0.        ],\n",
       "         [0.        ],\n",
       "         ...,\n",
       "         [0.        ],\n",
       "         [0.        ],\n",
       "         [0.        ]],\n",
       "\n",
       "        [[0.        ],\n",
       "         [0.        ],\n",
       "         [0.        ],\n",
       "         ...,\n",
       "         [0.        ],\n",
       "         [0.        ],\n",
       "         [0.        ]]],\n",
       "\n",
       "\n",
       "       [[[0.        ],\n",
       "         [0.        ],\n",
       "         [0.        ],\n",
       "         ...,\n",
       "         [0.        ],\n",
       "         [0.05490196],\n",
       "         [0.28627452]],\n",
       "\n",
       "        [[0.        ],\n",
       "         [0.        ],\n",
       "         [0.        ],\n",
       "         ...,\n",
       "         [0.        ],\n",
       "         [0.03921569],\n",
       "         [0.21568628]],\n",
       "\n",
       "        [[0.        ],\n",
       "         [0.        ],\n",
       "         [0.        ],\n",
       "         ...,\n",
       "         [0.        ],\n",
       "         [0.01176471],\n",
       "         [0.0627451 ]],\n",
       "\n",
       "        ...,\n",
       "\n",
       "        [[0.13725491],\n",
       "         [0.02745098],\n",
       "         [0.04313726],\n",
       "         ...,\n",
       "         [0.        ],\n",
       "         [0.        ],\n",
       "         [0.        ]],\n",
       "\n",
       "        [[0.        ],\n",
       "         [0.        ],\n",
       "         [0.10980392],\n",
       "         ...,\n",
       "         [0.        ],\n",
       "         [0.        ],\n",
       "         [0.        ]],\n",
       "\n",
       "        [[0.        ],\n",
       "         [0.        ],\n",
       "         [0.        ],\n",
       "         ...,\n",
       "         [0.        ],\n",
       "         [0.        ],\n",
       "         [0.        ]]],\n",
       "\n",
       "\n",
       "       [[[0.20392157],\n",
       "         [0.20392157],\n",
       "         [0.2       ],\n",
       "         ...,\n",
       "         [0.        ],\n",
       "         [0.        ],\n",
       "         [0.        ]],\n",
       "\n",
       "        [[0.03921569],\n",
       "         [0.03921569],\n",
       "         [0.03921569],\n",
       "         ...,\n",
       "         [0.        ],\n",
       "         [0.        ],\n",
       "         [0.        ]],\n",
       "\n",
       "        [[0.        ],\n",
       "         [0.        ],\n",
       "         [0.        ],\n",
       "         ...,\n",
       "         [0.09411765],\n",
       "         [0.        ],\n",
       "         [0.        ]],\n",
       "\n",
       "        ...,\n",
       "\n",
       "        [[0.        ],\n",
       "         [0.        ],\n",
       "         [0.        ],\n",
       "         ...,\n",
       "         [0.        ],\n",
       "         [0.        ],\n",
       "         [0.        ]],\n",
       "\n",
       "        [[0.        ],\n",
       "         [0.        ],\n",
       "         [0.        ],\n",
       "         ...,\n",
       "         [0.        ],\n",
       "         [0.        ],\n",
       "         [0.        ]],\n",
       "\n",
       "        [[0.        ],\n",
       "         [0.        ],\n",
       "         [0.        ],\n",
       "         ...,\n",
       "         [0.        ],\n",
       "         [0.        ],\n",
       "         [0.        ]]]], dtype=float32)"
      ]
     },
     "execution_count": 9,
     "metadata": {},
     "output_type": "execute_result"
    }
   ],
   "source": [
    "az_data"
   ]
  },
  {
   "cell_type": "code",
   "execution_count": 10,
   "id": "927cb75e",
   "metadata": {
    "execution": {
     "iopub.execute_input": "2022-02-19T13:54:13.373060Z",
     "iopub.status.busy": "2022-02-19T13:54:13.372381Z",
     "iopub.status.idle": "2022-02-19T13:54:13.375329Z",
     "shell.execute_reply": "2022-02-19T13:54:13.375740Z",
     "shell.execute_reply.started": "2022-02-19T13:42:41.787986Z"
    },
    "papermill": {
     "duration": 0.042081,
     "end_time": "2022-02-19T13:54:13.375883",
     "exception": false,
     "start_time": "2022-02-19T13:54:13.333802",
     "status": "completed"
    },
    "tags": []
   },
   "outputs": [
    {
     "data": {
      "text/plain": [
       "(187000, 32, 32, 1)"
      ]
     },
     "execution_count": 10,
     "metadata": {},
     "output_type": "execute_result"
    }
   ],
   "source": [
    "az_data.shape"
   ]
  },
  {
   "cell_type": "code",
   "execution_count": 11,
   "id": "8d60f4cc",
   "metadata": {
    "execution": {
     "iopub.execute_input": "2022-02-19T13:54:13.529064Z",
     "iopub.status.busy": "2022-02-19T13:54:13.528192Z",
     "iopub.status.idle": "2022-02-19T13:54:13.638975Z",
     "shell.execute_reply": "2022-02-19T13:54:13.638416Z",
     "shell.execute_reply.started": "2022-02-19T13:42:41.819568Z"
    },
    "papermill": {
     "duration": 0.151239,
     "end_time": "2022-02-19T13:54:13.639115",
     "exception": false,
     "start_time": "2022-02-19T13:54:13.487876",
     "status": "completed"
    },
    "tags": []
   },
   "outputs": [
    {
     "name": "stdout",
     "output_type": "stream",
     "text": [
      "(187000, 17)\n"
     ]
    }
   ],
   "source": [
    "le = LabelBinarizer()\n",
    "az_labels = le.fit_transform(az_labels)\n",
    "print(az_labels.shape)\n",
    "\n",
    "counts = az_labels.sum(axis=0)\n",
    "\n",
    "# account for skew in the labeled data\n",
    "classTotals = az_labels.sum(axis=0)\n",
    "classWeight = {}\n",
    "\n",
    "# loop over all classes and calculate the class weight\n",
    "for i in range(0, len(classTotals)):\n",
    "    classWeight[i] = classTotals.max() / classTotals[i]"
   ]
  },
  {
   "cell_type": "code",
   "execution_count": 12,
   "id": "7fdf285b",
   "metadata": {
    "execution": {
     "iopub.execute_input": "2022-02-19T13:54:13.713652Z",
     "iopub.status.busy": "2022-02-19T13:54:13.712971Z",
     "iopub.status.idle": "2022-02-19T13:54:13.715924Z",
     "shell.execute_reply": "2022-02-19T13:54:13.716349Z",
     "shell.execute_reply.started": "2022-02-19T13:42:41.955482Z"
    },
    "papermill": {
     "duration": 0.043376,
     "end_time": "2022-02-19T13:54:13.716498",
     "exception": false,
     "start_time": "2022-02-19T13:54:13.673122",
     "status": "completed"
    },
    "tags": []
   },
   "outputs": [
    {
     "data": {
      "text/plain": [
       "{0: 1.0,\n",
       " 1: 1.0,\n",
       " 2: 1.0,\n",
       " 3: 1.0,\n",
       " 4: 1.0,\n",
       " 5: 1.0,\n",
       " 6: 1.0,\n",
       " 7: 1.0,\n",
       " 8: 1.0,\n",
       " 9: 1.0,\n",
       " 10: 1.0,\n",
       " 11: 1.0,\n",
       " 12: 1.0,\n",
       " 13: 1.0,\n",
       " 14: 1.0,\n",
       " 15: 1.0,\n",
       " 16: 1.0}"
      ]
     },
     "execution_count": 12,
     "metadata": {},
     "output_type": "execute_result"
    }
   ],
   "source": [
    "classWeight"
   ]
  },
  {
   "cell_type": "code",
   "execution_count": 13,
   "id": "d432c396",
   "metadata": {
    "execution": {
     "iopub.execute_input": "2022-02-19T13:54:14.793589Z",
     "iopub.status.busy": "2022-02-19T13:54:14.278633Z",
     "iopub.status.idle": "2022-02-19T13:54:36.582451Z",
     "shell.execute_reply": "2022-02-19T13:54:36.581718Z",
     "shell.execute_reply.started": "2022-02-19T13:42:41.968200Z"
    },
    "papermill": {
     "duration": 22.83179,
     "end_time": "2022-02-19T13:54:36.582594",
     "exception": false,
     "start_time": "2022-02-19T13:54:13.750804",
     "status": "completed"
    },
    "tags": []
   },
   "outputs": [],
   "source": [
    "(trainX, testX, trainY, testY) = train_test_split(az_data,az_labels, test_size=0.20, stratify=az_labels, random_state=42)"
   ]
  },
  {
   "cell_type": "code",
   "execution_count": 14,
   "id": "7daf1a60",
   "metadata": {
    "execution": {
     "iopub.execute_input": "2022-02-19T13:54:36.666529Z",
     "iopub.status.busy": "2022-02-19T13:54:36.665622Z",
     "iopub.status.idle": "2022-02-19T13:54:36.668993Z",
     "shell.execute_reply": "2022-02-19T13:54:36.669459Z",
     "shell.execute_reply.started": "2022-02-19T13:43:08.997789Z"
    },
    "papermill": {
     "duration": 0.048266,
     "end_time": "2022-02-19T13:54:36.669640",
     "exception": false,
     "start_time": "2022-02-19T13:54:36.621374",
     "status": "completed"
    },
    "tags": []
   },
   "outputs": [
    {
     "data": {
      "text/plain": [
       "(149600, 32, 32, 1)"
      ]
     },
     "execution_count": 14,
     "metadata": {},
     "output_type": "execute_result"
    }
   ],
   "source": [
    "trainX.shape"
   ]
  },
  {
   "cell_type": "code",
   "execution_count": 15,
   "id": "50d9dcab",
   "metadata": {
    "execution": {
     "iopub.execute_input": "2022-02-19T13:54:36.752549Z",
     "iopub.status.busy": "2022-02-19T13:54:36.751640Z",
     "iopub.status.idle": "2022-02-19T13:54:37.099241Z",
     "shell.execute_reply": "2022-02-19T13:54:37.100006Z",
     "shell.execute_reply.started": "2022-02-19T13:43:09.007251Z"
    },
    "papermill": {
     "duration": 0.392277,
     "end_time": "2022-02-19T13:54:37.100177",
     "exception": false,
     "start_time": "2022-02-19T13:54:36.707900",
     "status": "completed"
    },
    "tags": []
   },
   "outputs": [],
   "source": [
    "from keras.preprocessing.image import ImageDataGenerator\n",
    "from skimage import io\n",
    "aug = ImageDataGenerator(\n",
    "rotation_range=10,\n",
    "zoom_range=0.05,\n",
    "width_shift_range=0.1,\n",
    "height_shift_range=0.1,\n",
    "shear_range=0.15,\n",
    "horizontal_flip=False,\n",
    "fill_mode=\"nearest\")\n"
   ]
  },
  {
   "cell_type": "code",
   "execution_count": 16,
   "id": "29934308",
   "metadata": {
    "execution": {
     "iopub.execute_input": "2022-02-19T13:54:37.183029Z",
     "iopub.status.busy": "2022-02-19T13:54:37.182087Z",
     "iopub.status.idle": "2022-02-19T13:54:37.184337Z",
     "shell.execute_reply": "2022-02-19T13:54:37.184714Z",
     "shell.execute_reply.started": "2022-02-19T13:43:09.388885Z"
    },
    "papermill": {
     "duration": 0.045977,
     "end_time": "2022-02-19T13:54:37.184869",
     "exception": false,
     "start_time": "2022-02-19T13:54:37.138892",
     "status": "completed"
    },
    "tags": []
   },
   "outputs": [],
   "source": [
    "batch_size = 32\n",
    "epochs = 50"
   ]
  },
  {
   "cell_type": "code",
   "execution_count": 17,
   "id": "ce335328",
   "metadata": {
    "execution": {
     "iopub.execute_input": "2022-02-19T13:54:37.275856Z",
     "iopub.status.busy": "2022-02-19T13:54:37.275021Z",
     "iopub.status.idle": "2022-02-19T13:54:40.939048Z",
     "shell.execute_reply": "2022-02-19T13:54:40.938526Z",
     "shell.execute_reply.started": "2022-02-19T13:43:09.397713Z"
    },
    "papermill": {
     "duration": 3.715031,
     "end_time": "2022-02-19T13:54:40.939178",
     "exception": false,
     "start_time": "2022-02-19T13:54:37.224147",
     "status": "completed"
    },
    "tags": []
   },
   "outputs": [
    {
     "name": "stdout",
     "output_type": "stream",
     "text": [
      "Model: \"sequential\"\n",
      "_________________________________________________________________\n",
      "Layer (type)                 Output Shape              Param #   \n",
      "=================================================================\n",
      "resnet50 (Functional)        (None, 1, 1, 2048)        23581440  \n",
      "_________________________________________________________________\n",
      "global_average_pooling2d (Gl (None, 2048)              0         \n",
      "_________________________________________________________________\n",
      "dense (Dense)                (None, 17)                34833     \n",
      "=================================================================\n",
      "Total params: 23,616,273\n",
      "Trainable params: 23,563,153\n",
      "Non-trainable params: 53,120\n",
      "_________________________________________________________________\n"
     ]
    }
   ],
   "source": [
    "enet = ResNet50(\n",
    "        input_shape=(32, 32, 1),\n",
    "        weights=None,\n",
    "        include_top=False\n",
    "    )\n",
    "\n",
    "model = tf.keras.Sequential([\n",
    "        enet,\n",
    "        tf.keras.layers.GlobalAveragePooling2D(),\n",
    "        tf.keras.layers.Dense(17, activation='softmax')\n",
    "    ])\n",
    "\n",
    "\n",
    "callbacks = [ModelCheckpoint(filepath='best_model_index.h5', save_weights_only = True,\n",
    "                             monitor='val_accuracy' ,mode='max')]\n",
    "early = EarlyStopping(monitor=\"val_accuracy\", mode=\"max\", patience=20, verbose = 1)\n",
    "\n",
    "model.compile(\n",
    "    optimizer=tf.keras.optimizers.Adam(learning_rate=1e-3),\n",
    "    loss='categorical_crossentropy',\n",
    "    metrics=['accuracy']\n",
    ")\n",
    "model.summary()"
   ]
  },
  {
   "cell_type": "code",
   "execution_count": 18,
   "id": "1f9154f8",
   "metadata": {},
   "outputs": [
    {
     "name": "stderr",
     "output_type": "stream",
     "text": [
      "C:\\ProgramData\\Anaconda3\\envs\\idip_2021\\lib\\site-packages\\tqdm\\auto.py:22: TqdmWarning: IProgress not found. Please update jupyter and ipywidgets. See https://ipywidgets.readthedocs.io/en/stable/user_install.html\n",
      "  from .autonotebook import tqdm as notebook_tqdm\n"
     ]
    },
    {
     "name": "stdout",
     "output_type": "stream",
     "text": [
      "using cuda device\n",
      "Device: cuda\n",
      "Current cuda device: 0\n",
      "Count of using GPUs: 1\n"
     ]
    }
   ],
   "source": [
    "import torch\n",
    "\n",
    "device = \"cuda\" if torch.cuda.is_available() else \"cpu\"\n",
    "print(\"using {} device\".format(device))\n",
    "\n",
    "os.environ[\"CUDA_DEVICE_ORDER\"]=\"PCI_BUS_ID\" \n",
    "os.environ[\"CUDA_VISIBLE_DEVICES\"]= \"1\"\n",
    "\n",
    "device = torch.device(\"cuda\" if torch.cuda.is_available() else \"cpu\")\n",
    "\n",
    "print('Device:', device)\n",
    "print('Current cuda device:', torch.cuda.current_device())\n",
    "print('Count of using GPUs:', torch.cuda.device_count())"
   ]
  },
  {
   "cell_type": "code",
   "execution_count": 19,
   "id": "4cea67b8",
   "metadata": {
    "execution": {
     "iopub.execute_input": "2022-02-19T13:54:41.022167Z",
     "iopub.status.busy": "2022-02-19T13:54:41.021488Z",
     "iopub.status.idle": "2022-02-19T17:18:32.259692Z",
     "shell.execute_reply": "2022-02-19T17:18:32.259147Z",
     "shell.execute_reply.started": "2022-02-19T13:43:14.810243Z"
    },
    "papermill": {
     "duration": 12231.283483,
     "end_time": "2022-02-19T17:18:32.259842",
     "exception": false,
     "start_time": "2022-02-19T13:54:40.976359",
     "status": "completed"
    },
    "tags": []
   },
   "outputs": [
    {
     "name": "stdout",
     "output_type": "stream",
     "text": [
      "Epoch 1/50\n",
      "4675/4675 [==============================] - 758s 159ms/step - loss: 0.3571 - accuracy: 0.9242 - val_loss: 0.0195 - val_accuracy: 0.9937\n",
      "Epoch 2/50\n",
      "4675/4675 [==============================] - 597s 128ms/step - loss: 0.1506 - accuracy: 0.9652 - val_loss: 3.3174 - val_accuracy: 0.9078\n",
      "Epoch 3/50\n",
      "4675/4675 [==============================] - 530s 113ms/step - loss: 0.0846 - accuracy: 0.9834 - val_loss: 0.0120 - val_accuracy: 0.9966\n",
      "Epoch 4/50\n",
      "4675/4675 [==============================] - 531s 114ms/step - loss: 0.0614 - accuracy: 0.9876 - val_loss: 0.0022 - val_accuracy: 0.9990\n",
      "Epoch 5/50\n",
      "4675/4675 [==============================] - 531s 114ms/step - loss: 0.0325 - accuracy: 0.9921 - val_loss: 0.0018 - val_accuracy: 0.9994\n",
      "Epoch 6/50\n",
      "4675/4675 [==============================] - 532s 114ms/step - loss: 0.0229 - accuracy: 0.9940 - val_loss: 9.0335e-04 - val_accuracy: 0.9998\n",
      "Epoch 7/50\n",
      "4675/4675 [==============================] - 533s 114ms/step - loss: 0.0180 - accuracy: 0.9954 - val_loss: 0.0015 - val_accuracy: 0.9995\n",
      "Epoch 8/50\n",
      "4675/4675 [==============================] - 532s 114ms/step - loss: 0.0156 - accuracy: 0.9959 - val_loss: 8.5538e-04 - val_accuracy: 0.9997\n",
      "Epoch 9/50\n",
      "4675/4675 [==============================] - 533s 114ms/step - loss: 0.0113 - accuracy: 0.9970 - val_loss: 4.0634e-04 - val_accuracy: 0.9999\n",
      "Epoch 10/50\n",
      "4675/4675 [==============================] - 533s 114ms/step - loss: 0.0152 - accuracy: 0.9965 - val_loss: 0.0033 - val_accuracy: 0.9991\n",
      "Epoch 11/50\n",
      "4675/4675 [==============================] - 533s 114ms/step - loss: 0.0131 - accuracy: 0.9970 - val_loss: 0.0036 - val_accuracy: 0.9987\n",
      "Epoch 12/50\n",
      "4675/4675 [==============================] - 533s 114ms/step - loss: 0.0084 - accuracy: 0.9978 - val_loss: 6.2079e-04 - val_accuracy: 0.9999\n",
      "Epoch 13/50\n",
      "4675/4675 [==============================] - 533s 114ms/step - loss: 0.0104 - accuracy: 0.9976 - val_loss: 2.4184e-04 - val_accuracy: 0.9999\n",
      "Epoch 14/50\n",
      "4675/4675 [==============================] - 533s 114ms/step - loss: 0.0077 - accuracy: 0.9981 - val_loss: 1.8027e-04 - val_accuracy: 1.0000\n",
      "Epoch 15/50\n",
      "4675/4675 [==============================] - 533s 114ms/step - loss: 0.0070 - accuracy: 0.9980 - val_loss: 3.1361e-04 - val_accuracy: 0.9999\n",
      "Epoch 16/50\n",
      "4675/4675 [==============================] - 533s 114ms/step - loss: 0.0062 - accuracy: 0.9983 - val_loss: 3.6517e-04 - val_accuracy: 0.9999\n",
      "Epoch 17/50\n",
      "4675/4675 [==============================] - 534s 114ms/step - loss: 0.0071 - accuracy: 0.9982 - val_loss: 8.6419e-04 - val_accuracy: 0.9998\n",
      "Epoch 18/50\n",
      "4675/4675 [==============================] - 534s 114ms/step - loss: 0.0065 - accuracy: 0.9984 - val_loss: 1.9749e-04 - val_accuracy: 0.9999\n",
      "Epoch 19/50\n",
      "4675/4675 [==============================] - 533s 114ms/step - loss: 0.0055 - accuracy: 0.9986 - val_loss: 3.1226e-04 - val_accuracy: 0.9999\n",
      "Epoch 20/50\n",
      "4675/4675 [==============================] - 534s 114ms/step - loss: 0.0046 - accuracy: 0.9988 - val_loss: 4.3682e-04 - val_accuracy: 0.9999\n",
      "Epoch 21/50\n",
      "4675/4675 [==============================] - 533s 114ms/step - loss: 0.0088 - accuracy: 0.9982 - val_loss: 5.1236e-04 - val_accuracy: 0.9998\n",
      "Epoch 22/50\n",
      "4675/4675 [==============================] - 534s 114ms/step - loss: 0.0058 - accuracy: 0.9986 - val_loss: 4.0337e-04 - val_accuracy: 0.9999\n",
      "Epoch 23/50\n",
      "4675/4675 [==============================] - 533s 114ms/step - loss: 0.0058 - accuracy: 0.9985 - val_loss: 1.4518e-04 - val_accuracy: 1.0000\n",
      "Epoch 24/50\n",
      "4675/4675 [==============================] - 533s 114ms/step - loss: 0.0070 - accuracy: 0.9985 - val_loss: 0.0333 - val_accuracy: 0.9978\n",
      "Epoch 25/50\n",
      "4675/4675 [==============================] - 533s 114ms/step - loss: 0.0041 - accuracy: 0.9990 - val_loss: 0.3543 - val_accuracy: 0.9913\n",
      "Epoch 26/50\n",
      "4675/4675 [==============================] - 534s 114ms/step - loss: 0.0057 - accuracy: 0.9988 - val_loss: 3.8023e-04 - val_accuracy: 0.9999\n",
      "Epoch 27/50\n",
      "4675/4675 [==============================] - 533s 114ms/step - loss: 0.0046 - accuracy: 0.9989 - val_loss: 0.1049 - val_accuracy: 0.9952\n",
      "Epoch 28/50\n",
      "4675/4675 [==============================] - 534s 114ms/step - loss: 0.0041 - accuracy: 0.9989 - val_loss: 1.1345e-04 - val_accuracy: 1.0000\n",
      "Epoch 29/50\n",
      "4675/4675 [==============================] - 534s 114ms/step - loss: 0.0058 - accuracy: 0.9987 - val_loss: 0.0622 - val_accuracy: 0.9970\n",
      "Epoch 30/50\n",
      "4675/4675 [==============================] - 533s 114ms/step - loss: 0.0038 - accuracy: 0.9990 - val_loss: 0.1330 - val_accuracy: 0.9932\n",
      "Epoch 31/50\n",
      "4675/4675 [==============================] - 534s 114ms/step - loss: 0.0034 - accuracy: 0.9991 - val_loss: 0.0989 - val_accuracy: 0.9972\n",
      "Epoch 32/50\n",
      "4675/4675 [==============================] - 534s 114ms/step - loss: 0.0038 - accuracy: 0.9989 - val_loss: 1.4014e-04 - val_accuracy: 1.0000\n",
      "Epoch 33/50\n",
      "4675/4675 [==============================] - 534s 114ms/step - loss: 0.0040 - accuracy: 0.9990 - val_loss: 4.2205e-04 - val_accuracy: 0.9999\n",
      "Epoch 34/50\n",
      "4675/4675 [==============================] - 533s 114ms/step - loss: 0.0039 - accuracy: 0.9991 - val_loss: 0.0015 - val_accuracy: 0.9996\n",
      "Epoch 35/50\n",
      "4675/4675 [==============================] - 534s 114ms/step - loss: 0.0037 - accuracy: 0.9991 - val_loss: 2.7235e-04 - val_accuracy: 0.9999\n",
      "Epoch 36/50\n",
      "4675/4675 [==============================] - 537s 115ms/step - loss: 0.0033 - accuracy: 0.9992 - val_loss: 2.1277e-04 - val_accuracy: 0.9999\n",
      "Epoch 37/50\n",
      "4675/4675 [==============================] - 537s 115ms/step - loss: 0.0038 - accuracy: 0.9991 - val_loss: 6.6772e-05 - val_accuracy: 1.0000\n",
      "Epoch 38/50\n",
      "4675/4675 [==============================] - 538s 115ms/step - loss: 0.0029 - accuracy: 0.9993 - val_loss: 1.5536e-04 - val_accuracy: 1.0000\n",
      "Epoch 39/50\n",
      "4675/4675 [==============================] - 537s 115ms/step - loss: 0.0038 - accuracy: 0.9991 - val_loss: 5.8472e-05 - val_accuracy: 1.0000\n",
      "Epoch 40/50\n",
      "4675/4675 [==============================] - 537s 115ms/step - loss: 0.0031 - accuracy: 0.9992 - val_loss: 0.2178 - val_accuracy: 0.9922\n",
      "Epoch 41/50\n",
      "4675/4675 [==============================] - 537s 115ms/step - loss: 0.0034 - accuracy: 0.9991 - val_loss: 7.3955e-04 - val_accuracy: 0.9997\n",
      "Epoch 42/50\n",
      "4675/4675 [==============================] - 538s 115ms/step - loss: 0.0036 - accuracy: 0.9993 - val_loss: 4.5561e-04 - val_accuracy: 0.9999\n",
      "Epoch 43/50\n",
      "4675/4675 [==============================] - 538s 115ms/step - loss: 0.0040 - accuracy: 0.9993 - val_loss: 5.6242 - val_accuracy: 0.9735\n",
      "Epoch 44/50\n",
      "4675/4675 [==============================] - 538s 115ms/step - loss: 0.0049 - accuracy: 0.9991 - val_loss: 5.2976e-04 - val_accuracy: 0.9999\n",
      "Epoch 45/50\n",
      "4675/4675 [==============================] - 537s 115ms/step - loss: 0.0022 - accuracy: 0.9994 - val_loss: 3.4285e-05 - val_accuracy: 1.0000\n",
      "Epoch 46/50\n",
      "4675/4675 [==============================] - 538s 115ms/step - loss: 0.0040 - accuracy: 0.9993 - val_loss: 0.3292 - val_accuracy: 0.9911\n",
      "Epoch 47/50\n",
      "4675/4675 [==============================] - 538s 115ms/step - loss: 0.0032 - accuracy: 0.9994 - val_loss: 5.5403e-04 - val_accuracy: 0.9999\n",
      "Epoch 48/50\n",
      "4675/4675 [==============================] - 538s 115ms/step - loss: 0.0029 - accuracy: 0.9992 - val_loss: 0.1926 - val_accuracy: 0.9954\n",
      "Epoch 00048: early stopping\n"
     ]
    },
    {
     "ename": "AttributeError",
     "evalue": "'History' object has no attribute 'to'",
     "output_type": "error",
     "traceback": [
      "\u001b[1;31m---------------------------------------------------------------------------\u001b[0m",
      "\u001b[1;31mAttributeError\u001b[0m                            Traceback (most recent call last)",
      "\u001b[1;32m<ipython-input-19-a64d10d47b96>\u001b[0m in \u001b[0;36m<module>\u001b[1;34m\u001b[0m\n\u001b[0;32m      5\u001b[0m     \u001b[0mclass_weight\u001b[0m\u001b[1;33m=\u001b[0m\u001b[0mclassWeight\u001b[0m\u001b[1;33m,\u001b[0m\u001b[1;33m\u001b[0m\u001b[1;33m\u001b[0m\u001b[0m\n\u001b[0;32m      6\u001b[0m     \u001b[0mverbose\u001b[0m\u001b[1;33m=\u001b[0m\u001b[1;36m1\u001b[0m\u001b[1;33m,\u001b[0m\u001b[1;33m\u001b[0m\u001b[1;33m\u001b[0m\u001b[0m\n\u001b[1;32m----> 7\u001b[1;33m     callbacks=[callbacks, early]).to(device)\n\u001b[0m",
      "\u001b[1;31mAttributeError\u001b[0m: 'History' object has no attribute 'to'"
     ]
    }
   ],
   "source": [
    "history = model.fit(\n",
    "    aug.flow(trainX, trainY, batch_size=batch_size),\n",
    "    epochs = epochs, \n",
    "    validation_data=(testX, testY),\n",
    "    class_weight=classWeight,\n",
    "    verbose=1,\n",
    "    callbacks=[callbacks, early]).to(device)"
   ]
  },
  {
   "cell_type": "code",
   "execution_count": 21,
   "id": "4e1f580c",
   "metadata": {},
   "outputs": [],
   "source": [
    "model.save('ResNet_index.h5')"
   ]
  },
  {
   "cell_type": "code",
   "execution_count": 74,
   "id": "eb1832d9",
   "metadata": {},
   "outputs": [],
   "source": [
    "model_ex = load_model('ResNet_index.h5')"
   ]
  },
  {
   "cell_type": "code",
   "execution_count": 77,
   "id": "d26ede7a",
   "metadata": {},
   "outputs": [],
   "source": [
    "yhat = model_ex.predict(trainX)"
   ]
  },
  {
   "cell_type": "code",
   "execution_count": 82,
   "id": "cc6de44a",
   "metadata": {},
   "outputs": [
    {
     "name": "stdout",
     "output_type": "stream",
     "text": [
      "13\n"
     ]
    }
   ],
   "source": [
    "print(np.argmax(yhat[2]))"
   ]
  },
  {
   "cell_type": "code",
   "execution_count": 83,
   "id": "b14af9b4",
   "metadata": {},
   "outputs": [
    {
     "name": "stdout",
     "output_type": "stream",
     "text": [
      "[0 0 0 0 0 0 0 0 0 0 0 0 0 1 0 0 0 0 0 0 0 0 0 0 0 0]\n"
     ]
    }
   ],
   "source": [
    "print(trainY[2])"
   ]
  },
  {
   "cell_type": "code",
   "execution_count": null,
   "id": "617ffd14",
   "metadata": {},
   "outputs": [],
   "source": []
  }
 ],
 "metadata": {
  "kernelspec": {
   "display_name": "Python 3",
   "language": "python",
   "name": "python3"
  },
  "language_info": {
   "codemirror_mode": {
    "name": "ipython",
    "version": 3
   },
   "file_extension": ".py",
   "mimetype": "text/x-python",
   "name": "python",
   "nbconvert_exporter": "python",
   "pygments_lexer": "ipython3",
   "version": "3.6.13"
  },
  "papermill": {
   "default_parameters": {},
   "duration": 12441.954331,
   "end_time": "2022-02-19T17:19:21.890700",
   "environment_variables": {},
   "exception": null,
   "input_path": "__notebook__.ipynb",
   "output_path": "__notebook__.ipynb",
   "parameters": {},
   "start_time": "2022-02-19T13:51:59.936369",
   "version": "2.3.3"
  }
 },
 "nbformat": 4,
 "nbformat_minor": 5
}
