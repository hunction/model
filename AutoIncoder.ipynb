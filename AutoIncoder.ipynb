{
 "cells": [
  {
   "cell_type": "code",
   "execution_count": 1,
   "id": "665107d5",
   "metadata": {},
   "outputs": [],
   "source": [
    "from tensorflow.keras.layers import Input, Dense, Lambda\n",
    "from tensorflow.keras.models import Model , Sequential\n",
    "from tensorflow.keras import backend as K\n",
    "from tensorflow.keras import metrics\n",
    "from tensorflow.keras.datasets import mnist\n",
    "import numpy as np"
   ]
  },
  {
   "cell_type": "code",
   "execution_count": 2,
   "id": "35e89838",
   "metadata": {},
   "outputs": [],
   "source": [
    "batch_size = 100\n",
    "original_dim = 784\n",
    "latent_dim = 2\n",
    "intermediate_dim = 256\n",
    "epochs = 50\n",
    "epsilon_std = 1.0\n",
    "def sampling(args: tuple):\n",
    "    z_mean, z_log_var = args\n",
    "    epsilon = K.random_normal(shape = (K.shape(z_mean)[0], latent_dim), mean = 0, stddev = epsilon_std)\n",
    "    return z_mean + K.exp(z_log_var / 2)* epsilon"
   ]
  },
  {
   "cell_type": "code",
   "execution_count": 3,
   "id": "d87fcfd7",
   "metadata": {},
   "outputs": [],
   "source": [
    "x = Input(shape = (original_dim,) , name =\"input\")\n",
    "h = Dense(intermediate_dim, activation = 'relu' , name = \"encoding\")(x)\n",
    "z = Dense(latent_dim , name = \"latent\")(h)\n",
    "\n",
    "encoder = Model(x, z, name = \"encoder\")\n"
   ]
  },
  {
   "cell_type": "code",
   "execution_count": 4,
   "id": "754ae700",
   "metadata": {},
   "outputs": [],
   "source": [
    "input_decoder = Input(shape = (latent_dim , ) , name = \"decoder_input\")\n",
    "decoder_h = Dense(intermediate_dim , activation = 'relu', name = \"decoder_h\")(input_decoder)\n",
    "x_decoded = Dense(original_dim , activation = 'sigmoid' , name = \"flat_decoded\")(decoder_h)\n",
    "\n",
    "decoder = Model(input_decoder , x_decoded,name = \"decoder\")\n"
   ]
  },
  {
   "cell_type": "code",
   "execution_count": 5,
   "id": "8807e560",
   "metadata": {},
   "outputs": [
    {
     "name": "stdout",
     "output_type": "stream",
     "text": [
      "Model: \"model\"\n",
      "_________________________________________________________________\n",
      "Layer (type)                 Output Shape              Param #   \n",
      "=================================================================\n",
      "input (InputLayer)           [(None, 784)]             0         \n",
      "_________________________________________________________________\n",
      "encoder (Functional)         (None, 2)                 201474    \n",
      "_________________________________________________________________\n",
      "decoder (Functional)         (None, 784)               202256    \n",
      "=================================================================\n",
      "Total params: 403,730\n",
      "Trainable params: 403,730\n",
      "Non-trainable params: 0\n",
      "_________________________________________________________________\n"
     ]
    }
   ],
   "source": [
    "output_combined = decoder(encoder(x))\n",
    "vae = Model(x, output_combined)\n",
    "vae.summary()"
   ]
  },
  {
   "cell_type": "code",
   "execution_count": 6,
   "id": "37883d55",
   "metadata": {},
   "outputs": [],
   "source": [
    "vae.compile(optimizer = 'rmsprop' , loss = 'binary_crossentropy')"
   ]
  },
  {
   "cell_type": "code",
   "execution_count": 7,
   "id": "d841b26a",
   "metadata": {},
   "outputs": [],
   "source": [
    "(x_train,y_train), (x_test , y_test) = mnist.load_data()\n",
    "\n",
    "x_train = x_train.astype('float32') / 255.\n",
    "x_test = x_test.astype('float32') / 255.\n",
    "x_train = x_train.reshape((len(x_train) , np.prod(x_train.shape[1:])))\n",
    "x_test = x_test.reshape((len(x_test), np.prod(x_test.shape[1:])))"
   ]
  },
  {
   "cell_type": "code",
   "execution_count": 8,
   "id": "996237b7",
   "metadata": {},
   "outputs": [
    {
     "name": "stdout",
     "output_type": "stream",
     "text": [
      "Epoch 1/50\n",
      "600/600 [==============================] - 5s 8ms/step - loss: 0.2295\n",
      "Epoch 2/50\n",
      "600/600 [==============================] - 5s 8ms/step - loss: 0.2044\n",
      "Epoch 3/50\n",
      "600/600 [==============================] - 5s 8ms/step - loss: 0.1978\n",
      "Epoch 4/50\n",
      "600/600 [==============================] - 6s 10ms/step - loss: 0.1945\n",
      "Epoch 5/50\n",
      "600/600 [==============================] - 5s 8ms/step - loss: 0.1923\n",
      "Epoch 6/50\n",
      "600/600 [==============================] - 6s 9ms/step - loss: 0.1907\n",
      "Epoch 7/50\n",
      "600/600 [==============================] - 5s 8ms/step - loss: 0.1893\n",
      "Epoch 8/50\n",
      "600/600 [==============================] - 4s 7ms/step - loss: 0.1882\n",
      "Epoch 9/50\n",
      "600/600 [==============================] - 5s 8ms/step - loss: 0.1872\n",
      "Epoch 10/50\n",
      "600/600 [==============================] - 5s 8ms/step - loss: 0.1864\n",
      "Epoch 11/50\n",
      "600/600 [==============================] - 4s 7ms/step - loss: 0.1855A: 0s \n",
      "Epoch 12/50\n",
      "600/600 [==============================] - 4s 7ms/step - loss: 0.1848\n",
      "Epoch 13/50\n",
      "600/600 [==============================] - 5s 8ms/step - loss: 0.1842\n",
      "Epoch 14/50\n",
      "600/600 [==============================] - 4s 7ms/step - loss: 0.1837\n",
      "Epoch 15/50\n",
      "600/600 [==============================] - 4s 7ms/step - loss: 0.1831\n",
      "Epoch 16/50\n",
      "600/600 [==============================] - 4s 7ms/step - loss: 0.1826\n",
      "Epoch 17/50\n",
      "600/600 [==============================] - 5s 8ms/step - loss: 0.1822\n",
      "Epoch 18/50\n",
      "600/600 [==============================] - 5s 8ms/step - loss: 0.1818\n",
      "Epoch 19/50\n",
      "600/600 [==============================] - 4s 7ms/step - loss: 0.1814\n",
      "Epoch 20/50\n",
      "600/600 [==============================] - 4s 7ms/step - loss: 0.1810\n",
      "Epoch 21/50\n",
      "600/600 [==============================] - 4s 7ms/step - loss: 0.1806\n",
      "Epoch 22/50\n",
      "600/600 [==============================] - 4s 7ms/step - loss: 0.1803\n",
      "Epoch 23/50\n",
      "600/600 [==============================] - 4s 7ms/step - loss: 0.1800\n",
      "Epoch 24/50\n",
      "600/600 [==============================] - 4s 7ms/step - loss: 0.1797\n",
      "Epoch 25/50\n",
      "600/600 [==============================] - 4s 6ms/step - loss: 0.1794\n",
      "Epoch 26/50\n",
      "600/600 [==============================] - 4s 7ms/step - loss: 0.1791\n",
      "Epoch 27/50\n",
      "600/600 [==============================] - 4s 6ms/step - loss: 0.1789\n",
      "Epoch 28/50\n",
      "600/600 [==============================] - 4s 7ms/step - loss: 0.1786\n",
      "Epoch 29/50\n",
      "600/600 [==============================] - 4s 7ms/step - loss: 0.1784\n",
      "Epoch 30/50\n",
      "600/600 [==============================] - 4s 7ms/step - loss: 0.1782\n",
      "Epoch 31/50\n",
      "600/600 [==============================] - 4s 7ms/step - loss: 0.1780\n",
      "Epoch 32/50\n",
      "600/600 [==============================] - 4s 7ms/step - loss: 0.1778\n",
      "Epoch 33/50\n",
      "600/600 [==============================] - 4s 7ms/step - loss: 0.1776\n",
      "Epoch 34/50\n",
      "600/600 [==============================] - 4s 7ms/step - loss: 0.1774\n",
      "Epoch 35/50\n",
      "600/600 [==============================] - 4s 7ms/step - loss: 0.1773\n",
      "Epoch 36/50\n",
      "600/600 [==============================] - 4s 7ms/step - loss: 0.1771\n",
      "Epoch 37/50\n",
      "600/600 [==============================] - 4s 7ms/step - loss: 0.1769\n",
      "Epoch 38/50\n",
      "600/600 [==============================] - 4s 7ms/step - loss: 0.1767\n",
      "Epoch 39/50\n",
      "600/600 [==============================] - 4s 6ms/step - loss: 0.1766\n",
      "Epoch 40/50\n",
      "600/600 [==============================] - 4s 7ms/step - loss: 0.1764\n",
      "Epoch 41/50\n",
      "600/600 [==============================] - 4s 7ms/step - loss: 0.1763\n",
      "Epoch 42/50\n",
      "600/600 [==============================] - 4s 7ms/step - loss: 0.1762\n",
      "Epoch 43/50\n",
      "600/600 [==============================] - 4s 7ms/step - loss: 0.1760\n",
      "Epoch 44/50\n",
      "600/600 [==============================] - 4s 7ms/step - loss: 0.1759\n",
      "Epoch 45/50\n",
      "600/600 [==============================] - 4s 7ms/step - loss: 0.1758\n",
      "Epoch 46/50\n",
      "600/600 [==============================] - 4s 7ms/step - loss: 0.1756\n",
      "Epoch 47/50\n",
      "600/600 [==============================] - 4s 7ms/step - loss: 0.1755\n",
      "Epoch 48/50\n",
      "600/600 [==============================] - 4s 7ms/step - loss: 0.1754\n",
      "Epoch 49/50\n",
      "600/600 [==============================] - 4s 7ms/step - loss: 0.1753\n",
      "Epoch 50/50\n",
      "600/600 [==============================] - 4s 7ms/step - loss: 0.1752\n"
     ]
    },
    {
     "data": {
      "text/plain": [
       "<keras.callbacks.History at 0x202b1305be0>"
      ]
     },
     "execution_count": 8,
     "metadata": {},
     "output_type": "execute_result"
    }
   ],
   "source": [
    "vae.fit( x_train , x_train ,shuffle = True , epochs = epochs , batch_size = batch_size)"
   ]
  },
  {
   "cell_type": "code",
   "execution_count": 9,
   "id": "e35ea262",
   "metadata": {},
   "outputs": [],
   "source": [
    "import matplotlib.pyplot as plt"
   ]
  },
  {
   "cell_type": "code",
   "execution_count": 27,
   "id": "9870e94f",
   "metadata": {},
   "outputs": [],
   "source": [
    "x_train_img = x_train[2].reshape(28,28)"
   ]
  },
  {
   "cell_type": "code",
   "execution_count": 28,
   "id": "e4e546a2",
   "metadata": {},
   "outputs": [
    {
     "data": {
      "text/plain": [
       "<matplotlib.image.AxesImage at 0x202bb9f7198>"
      ]
     },
     "execution_count": 28,
     "metadata": {},
     "output_type": "execute_result"
    },
    {
     "data": {
      "image/png": "[encoded data removed]",
      "text/plain": [
       "<Figure size 432x288 with 1 Axes>"
      ]
     },
     "metadata": {
      "needs_background": "light"
     },
     "output_type": "display_data"
    }
   ],
   "source": [
    "plt.imshow(x_train_img)"
   ]
  },
  {
   "cell_type": "code",
   "execution_count": 12,
   "id": "023b159b",
   "metadata": {},
   "outputs": [
    {
     "data": {
      "text/plain": [
       "keras.engine.keras_tensor.KerasTensor"
      ]
     },
     "execution_count": 12,
     "metadata": {},
     "output_type": "execute_result"
    }
   ],
   "source": [
    "type(x_decoded)"
   ]
  },
  {
   "cell_type": "code",
   "execution_count": 13,
   "id": "a4dbaecb",
   "metadata": {},
   "outputs": [
    {
     "data": {
      "text/plain": [
       "keras.engine.functional.Functional"
      ]
     },
     "execution_count": 13,
     "metadata": {},
     "output_type": "execute_result"
    }
   ],
   "source": [
    "type(vae)"
   ]
  },
  {
   "cell_type": "code",
   "execution_count": 14,
   "id": "38b1bd78",
   "metadata": {},
   "outputs": [
    {
     "data": {
      "text/plain": [
       "keras.engine.keras_tensor.KerasTensor"
      ]
     },
     "execution_count": 14,
     "metadata": {},
     "output_type": "execute_result"
    }
   ],
   "source": [
    "type(output_combined)"
   ]
  },
  {
   "cell_type": "code",
   "execution_count": 15,
   "id": "0d6e4049",
   "metadata": {},
   "outputs": [],
   "source": [
    "import tensorflow as tf\n",
    "\n",
    "img_tensor = tf.convert_to_tensor(output_combined)"
   ]
  },
  {
   "cell_type": "code",
   "execution_count": 16,
   "id": "c5ea78ab",
   "metadata": {},
   "outputs": [
    {
     "data": {
      "text/plain": [
       "keras.engine.keras_tensor.KerasTensor"
      ]
     },
     "execution_count": 16,
     "metadata": {},
     "output_type": "execute_result"
    }
   ],
   "source": [
    "type(img_tensor)"
   ]
  },
  {
   "cell_type": "code",
   "execution_count": 17,
   "id": "09cc3eb1",
   "metadata": {},
   "outputs": [],
   "source": [
    "x = tf.constant([[1,2,3],[4,5,6],[7,8,9]])"
   ]
  },
  {
   "cell_type": "code",
   "execution_count": 18,
   "id": "b98bda8b",
   "metadata": {},
   "outputs": [
    {
     "data": {
      "text/plain": [
       "tensorflow.python.framework.ops.EagerTensor"
      ]
     },
     "execution_count": 18,
     "metadata": {},
     "output_type": "execute_result"
    }
   ],
   "source": [
    "type(x)"
   ]
  },
  {
   "cell_type": "code",
   "execution_count": 19,
   "id": "f29be34c",
   "metadata": {},
   "outputs": [
    {
     "name": "stdout",
     "output_type": "stream",
     "text": [
      "tf.Tensor(\n",
      "[[1 2 3]\n",
      " [4 5 6]\n",
      " [7 8 9]], shape=(3, 3), dtype=int32)\n"
     ]
    }
   ],
   "source": [
    "print(x)"
   ]
  },
  {
   "cell_type": "code",
   "execution_count": 20,
   "id": "66f37a4c",
   "metadata": {},
   "outputs": [],
   "source": [
    "x_1 = x.numpy()"
   ]
  },
  {
   "cell_type": "code",
   "execution_count": 21,
   "id": "0375eb22",
   "metadata": {},
   "outputs": [
    {
     "name": "stdout",
     "output_type": "stream",
     "text": [
      "[[1 2 3]\n",
      " [4 5 6]\n",
      " [7 8 9]]\n"
     ]
    }
   ],
   "source": [
    "print(x_1)"
   ]
  },
  {
   "cell_type": "code",
   "execution_count": 22,
   "id": "c881b4fa",
   "metadata": {},
   "outputs": [
    {
     "name": "stdout",
     "output_type": "stream",
     "text": [
      "KerasTensor(type_spec=TensorSpec(shape=(None, 784), dtype=tf.float32, name=None), name='decoder/flat_decoded/Sigmoid:0', description=\"created by layer 'decoder'\")\n"
     ]
    }
   ],
   "source": [
    "print(output_combined)"
   ]
  },
  {
   "cell_type": "code",
   "execution_count": 23,
   "id": "4a3f20f6",
   "metadata": {},
   "outputs": [
    {
     "name": "stdout",
     "output_type": "stream",
     "text": [
      "KerasTensor(type_spec=TensorSpec(shape=(784,), dtype=tf.float32, name=None), name='tf.__operators__.getitem/strided_slice:0', description=\"created by layer 'tf.__operators__.getitem'\")\n"
     ]
    }
   ],
   "source": [
    "print(output_combined[0])"
   ]
  },
  {
   "cell_type": "code",
   "execution_count": 24,
   "id": "ca302af1",
   "metadata": {},
   "outputs": [
    {
     "ename": "AttributeError",
     "evalue": "'KerasTensor' object has no attribute 'reshape'",
     "output_type": "error",
     "traceback": [
      "\u001b[1;31m---------------------------------------------------------------------------\u001b[0m",
      "\u001b[1;31mAttributeError\u001b[0m                            Traceback (most recent call last)",
      "\u001b[1;32m<ipython-input-24-88af51467363>\u001b[0m in \u001b[0;36m<module>\u001b[1;34m\u001b[0m\n\u001b[1;32m----> 1\u001b[1;33m \u001b[0moutput\u001b[0m \u001b[1;33m=\u001b[0m \u001b[0moutput_combined\u001b[0m\u001b[1;33m[\u001b[0m\u001b[1;36m0\u001b[0m\u001b[1;33m]\u001b[0m\u001b[1;33m.\u001b[0m\u001b[0mreshape\u001b[0m\u001b[1;33m(\u001b[0m\u001b[1;36m28\u001b[0m\u001b[1;33m,\u001b[0m\u001b[1;36m28\u001b[0m\u001b[1;33m)\u001b[0m\u001b[1;33m\u001b[0m\u001b[1;33m\u001b[0m\u001b[0m\n\u001b[0m",
      "\u001b[1;31mAttributeError\u001b[0m: 'KerasTensor' object has no attribute 'reshape'"
     ]
    }
   ],
   "source": [
    "output = output_combined[0].reshape(28,28)"
   ]
  },
  {
   "cell_type": "code",
   "execution_count": null,
   "id": "67d2f998",
   "metadata": {},
   "outputs": [],
   "source": [
    "type(vae)"
   ]
  },
  {
   "cell_type": "code",
   "execution_count": null,
   "id": "803de92f",
   "metadata": {},
   "outputs": [],
   "source": [
    "print(vae)"
   ]
  },
  {
   "cell_type": "code",
   "execution_count": 25,
   "id": "bd2198f3",
   "metadata": {},
   "outputs": [],
   "source": [
    "img = vae.predict(x_train)"
   ]
  },
  {
   "cell_type": "code",
   "execution_count": 29,
   "id": "a160f424",
   "metadata": {},
   "outputs": [
    {
     "data": {
      "text/plain": [
       "<matplotlib.image.AxesImage at 0x202bba4cd68>"
      ]
     },
     "execution_count": 29,
     "metadata": {},
     "output_type": "execute_result"
    },
    {
     "data": {
      "image/png": "[encoded data removed]",
      "text/plain": [
       "<Figure size 432x288 with 1 Axes>"
      ]
     },
     "metadata": {
      "needs_background": "light"
     },
     "output_type": "display_data"
    }
   ],
   "source": [
    "plt.imshow(img[2].reshape(28,28))"
   ]
  },
  {
   "cell_type": "code",
   "execution_count": 30,
   "id": "61252756",
   "metadata": {},
   "outputs": [
    {
     "name": "stdout",
     "output_type": "stream",
     "text": [
      "60000\n"
     ]
    }
   ],
   "source": [
    "print(x_train.shape[0])"
   ]
  },
  {
   "cell_type": "code",
   "execution_count": null,
   "id": "53ba6b19",
   "metadata": {},
   "outputs": [],
   "source": []
  }
 ],
 "metadata": {
  "kernelspec": {
   "display_name": "Python 3",
   "language": "python",
   "name": "python3"
  },
  "language_info": {
   "codemirror_mode": {
    "name": "ipython",
    "version": 3
   },
   "file_extension": ".py",
   "mimetype": "text/x-python",
   "name": "python",
   "nbconvert_exporter": "python",
   "pygments_lexer": "ipython3",
   "version": "3.6.13"
  }
 },
 "nbformat": 4,
 "nbformat_minor": 5
}
