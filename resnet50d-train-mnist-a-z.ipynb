{
 "cells": [
  {
   "cell_type": "code",
   "execution_count": 1,
   "id": "bcb9ea59",
   "metadata": {
    "execution": {
     "iopub.execute_input": "2022-02-19T13:52:08.316309Z",
     "iopub.status.busy": "2022-02-19T13:52:08.314686Z",
     "iopub.status.idle": "2022-02-19T13:52:14.304291Z",
     "shell.execute_reply": "2022-02-19T13:52:14.303630Z",
     "shell.execute_reply.started": "2022-02-19T13:40:08.527591Z"
    },
    "papermill": {
     "duration": 6.021102,
     "end_time": "2022-02-19T13:52:14.304451",
     "exception": false,
     "start_time": "2022-02-19T13:52:08.283349",
     "status": "completed"
    },
    "tags": []
   },
   "outputs": [],
   "source": [
    "import os\n",
    "import gc\n",
    "import matplotlib.pyplot as plt\n",
    "\n",
    "from tensorflow.keras.datasets import mnist\n",
    "import numpy as np\n",
    "import pandas as pd\n",
    "from sklearn.preprocessing import LabelBinarizer\n",
    "from sklearn.model_selection import train_test_split\n",
    "\n",
    "import tensorflow as tf\n",
    "import tensorflow_addons as tfa\n",
    "from tensorflow.keras.models import Sequential, Model\n",
    "from tensorflow.keras.preprocessing.image import ImageDataGenerator\n",
    "from tensorflow.keras.layers import Dense, Dropout, Activation, Input, BatchNormalization, GlobalAveragePooling2D\n",
    "from tensorflow.keras import layers\n",
    "from tensorflow.keras.callbacks import ModelCheckpoint, ReduceLROnPlateau, EarlyStopping\n",
    "from tensorflow.keras.experimental import CosineDecay\n",
    "from tensorflow.keras.utils import to_categorical\n",
    "from tensorflow.keras.applications import ResNet50V2, ResNet50\n",
    "from tensorflow.keras.layers.experimental.preprocessing import RandomCrop,CenterCrop, RandomRotation\n",
    "from tensorflow.keras.applications import EfficientNetB0\n",
    "\n",
    "import cv2"
   ]
  },
  {
   "cell_type": "code",
   "execution_count": 2,
   "id": "0cf41229",
   "metadata": {
    "execution": {
     "iopub.execute_input": "2022-02-19T13:52:14.363481Z",
     "iopub.status.busy": "2022-02-19T13:52:14.362914Z",
     "iopub.status.idle": "2022-02-19T13:52:46.834059Z",
     "shell.execute_reply": "2022-02-19T13:52:46.833091Z",
     "shell.execute_reply.started": "2022-02-19T13:40:16.392798Z"
    },
    "papermill": {
     "duration": 32.501798,
     "end_time": "2022-02-19T13:52:46.834221",
     "exception": false,
     "start_time": "2022-02-19T13:52:14.332423",
     "status": "completed"
    },
    "tags": []
   },
   "outputs": [],
   "source": [
    "all_df = pd.read_csv('./A_Z_Handwritten_Data/A_Z_Handwritten_Data.csv')"
   ]
  },
  {
   "cell_type": "code",
   "execution_count": 3,
   "id": "472dde6a",
   "metadata": {
    "execution": {
     "iopub.execute_input": "2022-02-19T13:52:46.913378Z",
     "iopub.status.busy": "2022-02-19T13:52:46.911818Z",
     "iopub.status.idle": "2022-02-19T13:52:46.916115Z",
     "shell.execute_reply": "2022-02-19T13:52:46.915692Z",
     "shell.execute_reply.started": "2022-02-19T13:40:56.168645Z"
    },
    "papermill": {
     "duration": 0.048167,
     "end_time": "2022-02-19T13:52:46.916251",
     "exception": false,
     "start_time": "2022-02-19T13:52:46.868084",
     "status": "completed"
    },
    "tags": []
   },
   "outputs": [
    {
     "data": {
      "text/plain": [
       "(372450, 785)"
      ]
     },
     "execution_count": 3,
     "metadata": {},
     "output_type": "execute_result"
    }
   ],
   "source": [
    "all_df.shape"
   ]
  },
  {
   "cell_type": "code",
   "execution_count": 4,
   "id": "218c2eda",
   "metadata": {
    "execution": {
     "iopub.execute_input": "2022-02-19T13:52:46.974789Z",
     "iopub.status.busy": "2022-02-19T13:52:46.973903Z",
     "iopub.status.idle": "2022-02-19T13:52:47.162145Z",
     "shell.execute_reply": "2022-02-19T13:52:47.161040Z",
     "shell.execute_reply.started": "2022-02-19T13:40:56.180265Z"
    },
    "papermill": {
     "duration": 0.218763,
     "end_time": "2022-02-19T13:52:47.162313",
     "exception": false,
     "start_time": "2022-02-19T13:52:46.943550",
     "status": "completed"
    },
    "tags": []
   },
   "outputs": [
    {
     "data": {
      "image/png": "[encoded data removed]",
      "text/plain": [
       "<Figure size 432x288 with 1 Axes>"
      ]
     },
     "metadata": {
      "needs_background": "light"
     },
     "output_type": "display_data"
    }
   ],
   "source": [
    "x = all_df.loc[0][1:].values\n",
    "x = x.reshape((28, 28))\n",
    "plt.imshow(x, cmap='binary')\n",
    "plt.show()"
   ]
  },
  {
   "cell_type": "code",
   "execution_count": 5,
   "id": "834e2e8a",
   "metadata": {
    "execution": {
     "iopub.execute_input": "2022-02-19T13:52:47.234732Z",
     "iopub.status.busy": "2022-02-19T13:52:47.233829Z",
     "iopub.status.idle": "2022-02-19T13:52:47.248389Z",
     "shell.execute_reply": "2022-02-19T13:52:47.248816Z",
     "shell.execute_reply.started": "2022-02-19T13:40:56.422038Z"
    },
    "papermill": {
     "duration": 0.051796,
     "end_time": "2022-02-19T13:52:47.248958",
     "exception": false,
     "start_time": "2022-02-19T13:52:47.197162",
     "status": "completed"
    },
    "tags": []
   },
   "outputs": [
    {
     "data": {
      "text/html": [
       "<div>\n",
       "<style scoped>\n",
       "    .dataframe tbody tr th:only-of-type {\n",
       "        vertical-align: middle;\n",
       "    }\n",
       "\n",
       "    .dataframe tbody tr th {\n",
       "        vertical-align: top;\n",
       "    }\n",
       "\n",
       "    .dataframe thead th {\n",
       "        text-align: right;\n",
       "    }\n",
       "</style>\n",
       "<table border=\"1\" class=\"dataframe\">\n",
       "  <thead>\n",
       "    <tr style=\"text-align: right;\">\n",
       "      <th></th>\n",
       "      <th>0</th>\n",
       "      <th>0.1</th>\n",
       "      <th>0.2</th>\n",
       "      <th>0.3</th>\n",
       "      <th>0.4</th>\n",
       "      <th>0.5</th>\n",
       "      <th>0.6</th>\n",
       "      <th>0.7</th>\n",
       "      <th>0.8</th>\n",
       "      <th>0.9</th>\n",
       "      <th>...</th>\n",
       "      <th>0.639</th>\n",
       "      <th>0.640</th>\n",
       "      <th>0.641</th>\n",
       "      <th>0.642</th>\n",
       "      <th>0.643</th>\n",
       "      <th>0.644</th>\n",
       "      <th>0.645</th>\n",
       "      <th>0.646</th>\n",
       "      <th>0.647</th>\n",
       "      <th>0.648</th>\n",
       "    </tr>\n",
       "  </thead>\n",
       "  <tbody>\n",
       "    <tr>\n",
       "      <th>0</th>\n",
       "      <td>0</td>\n",
       "      <td>0</td>\n",
       "      <td>0</td>\n",
       "      <td>0</td>\n",
       "      <td>0</td>\n",
       "      <td>0</td>\n",
       "      <td>0</td>\n",
       "      <td>0</td>\n",
       "      <td>0</td>\n",
       "      <td>0</td>\n",
       "      <td>...</td>\n",
       "      <td>0</td>\n",
       "      <td>0</td>\n",
       "      <td>0</td>\n",
       "      <td>0</td>\n",
       "      <td>0</td>\n",
       "      <td>0</td>\n",
       "      <td>0</td>\n",
       "      <td>0</td>\n",
       "      <td>0</td>\n",
       "      <td>0</td>\n",
       "    </tr>\n",
       "    <tr>\n",
       "      <th>1</th>\n",
       "      <td>0</td>\n",
       "      <td>0</td>\n",
       "      <td>0</td>\n",
       "      <td>0</td>\n",
       "      <td>0</td>\n",
       "      <td>0</td>\n",
       "      <td>0</td>\n",
       "      <td>0</td>\n",
       "      <td>0</td>\n",
       "      <td>0</td>\n",
       "      <td>...</td>\n",
       "      <td>0</td>\n",
       "      <td>0</td>\n",
       "      <td>0</td>\n",
       "      <td>0</td>\n",
       "      <td>0</td>\n",
       "      <td>0</td>\n",
       "      <td>0</td>\n",
       "      <td>0</td>\n",
       "      <td>0</td>\n",
       "      <td>0</td>\n",
       "    </tr>\n",
       "    <tr>\n",
       "      <th>2</th>\n",
       "      <td>0</td>\n",
       "      <td>0</td>\n",
       "      <td>0</td>\n",
       "      <td>0</td>\n",
       "      <td>0</td>\n",
       "      <td>0</td>\n",
       "      <td>0</td>\n",
       "      <td>0</td>\n",
       "      <td>0</td>\n",
       "      <td>0</td>\n",
       "      <td>...</td>\n",
       "      <td>0</td>\n",
       "      <td>0</td>\n",
       "      <td>0</td>\n",
       "      <td>0</td>\n",
       "      <td>0</td>\n",
       "      <td>0</td>\n",
       "      <td>0</td>\n",
       "      <td>0</td>\n",
       "      <td>0</td>\n",
       "      <td>0</td>\n",
       "    </tr>\n",
       "    <tr>\n",
       "      <th>3</th>\n",
       "      <td>0</td>\n",
       "      <td>0</td>\n",
       "      <td>0</td>\n",
       "      <td>0</td>\n",
       "      <td>0</td>\n",
       "      <td>0</td>\n",
       "      <td>0</td>\n",
       "      <td>0</td>\n",
       "      <td>0</td>\n",
       "      <td>0</td>\n",
       "      <td>...</td>\n",
       "      <td>0</td>\n",
       "      <td>0</td>\n",
       "      <td>0</td>\n",
       "      <td>0</td>\n",
       "      <td>0</td>\n",
       "      <td>0</td>\n",
       "      <td>0</td>\n",
       "      <td>0</td>\n",
       "      <td>0</td>\n",
       "      <td>0</td>\n",
       "    </tr>\n",
       "    <tr>\n",
       "      <th>4</th>\n",
       "      <td>0</td>\n",
       "      <td>0</td>\n",
       "      <td>0</td>\n",
       "      <td>0</td>\n",
       "      <td>0</td>\n",
       "      <td>0</td>\n",
       "      <td>0</td>\n",
       "      <td>0</td>\n",
       "      <td>0</td>\n",
       "      <td>0</td>\n",
       "      <td>...</td>\n",
       "      <td>0</td>\n",
       "      <td>0</td>\n",
       "      <td>0</td>\n",
       "      <td>0</td>\n",
       "      <td>0</td>\n",
       "      <td>0</td>\n",
       "      <td>0</td>\n",
       "      <td>0</td>\n",
       "      <td>0</td>\n",
       "      <td>0</td>\n",
       "    </tr>\n",
       "  </tbody>\n",
       "</table>\n",
       "<p>5 rows × 785 columns</p>\n",
       "</div>"
      ],
      "text/plain": [
       "   0  0.1  0.2  0.3  0.4  0.5  0.6  0.7  0.8  0.9  ...  0.639  0.640  0.641  \\\n",
       "0  0    0    0    0    0    0    0    0    0    0  ...      0      0      0   \n",
       "1  0    0    0    0    0    0    0    0    0    0  ...      0      0      0   \n",
       "2  0    0    0    0    0    0    0    0    0    0  ...      0      0      0   \n",
       "3  0    0    0    0    0    0    0    0    0    0  ...      0      0      0   \n",
       "4  0    0    0    0    0    0    0    0    0    0  ...      0      0      0   \n",
       "\n",
       "   0.642  0.643  0.644  0.645  0.646  0.647  0.648  \n",
       "0      0      0      0      0      0      0      0  \n",
       "1      0      0      0      0      0      0      0  \n",
       "2      0      0      0      0      0      0      0  \n",
       "3      0      0      0      0      0      0      0  \n",
       "4      0      0      0      0      0      0      0  \n",
       "\n",
       "[5 rows x 785 columns]"
      ]
     },
     "execution_count": 5,
     "metadata": {},
     "output_type": "execute_result"
    }
   ],
   "source": [
    "all_df.head()"
   ]
  },
  {
   "cell_type": "code",
   "execution_count": 6,
   "id": "c14c656e",
   "metadata": {
    "execution": {
     "iopub.execute_input": "2022-02-19T13:52:47.320905Z",
     "iopub.status.busy": "2022-02-19T13:52:47.311138Z",
     "iopub.status.idle": "2022-02-19T13:52:47.323888Z",
     "shell.execute_reply": "2022-02-19T13:52:47.323458Z",
     "shell.execute_reply.started": "2022-02-19T13:40:56.452000Z"
    },
    "papermill": {
     "duration": 0.047368,
     "end_time": "2022-02-19T13:52:47.324000",
     "exception": false,
     "start_time": "2022-02-19T13:52:47.276632",
     "status": "completed"
    },
    "tags": []
   },
   "outputs": [
    {
     "data": {
      "text/plain": [
       "0     13869\n",
       "1      8668\n",
       "2     23409\n",
       "3     10134\n",
       "4     11440\n",
       "5      1163\n",
       "6      5762\n",
       "7      7218\n",
       "8      1120\n",
       "9      8493\n",
       "10     5603\n",
       "11    11586\n",
       "12    12336\n",
       "13    19010\n",
       "14    57825\n",
       "15    19341\n",
       "16     5812\n",
       "17    11566\n",
       "18    48419\n",
       "19    22495\n",
       "20    29008\n",
       "21     4182\n",
       "22    10784\n",
       "23     6272\n",
       "24    10859\n",
       "25     6076\n",
       "Name: 0, dtype: int64"
      ]
     },
     "execution_count": 6,
     "metadata": {},
     "output_type": "execute_result"
    }
   ],
   "source": [
    "all_df['0'].value_counts().sort_index()"
   ]
  },
  {
   "cell_type": "code",
   "execution_count": 7,
   "id": "ee8356b0",
   "metadata": {
    "execution": {
     "iopub.execute_input": "2022-02-19T13:52:47.385381Z",
     "iopub.status.busy": "2022-02-19T13:52:47.384548Z",
     "iopub.status.idle": "2022-02-19T13:52:48.037452Z",
     "shell.execute_reply": "2022-02-19T13:52:48.037978Z",
     "shell.execute_reply.started": "2022-02-19T13:40:56.476889Z"
    },
    "papermill": {
     "duration": 0.686236,
     "end_time": "2022-02-19T13:52:48.038137",
     "exception": false,
     "start_time": "2022-02-19T13:52:47.351901",
     "status": "completed"
    },
    "tags": []
   },
   "outputs": [
    {
     "name": "stdout",
     "output_type": "stream",
     "text": [
      "(60000, 28, 28)\n",
      "(60000,)\n",
      "(70000, 28, 28)\n",
      "(70000,)\n"
     ]
    }
   ],
   "source": [
    "# load data from tensorflow framework\n",
    "(x_train, y_train), (x_test, y_test) = mnist.load_data()\n",
    "print(x_train.shape)\n",
    "print(y_train.shape)\n",
    "\n",
    "# Stack train data and test data to form single array \n",
    "mnist_data = np.vstack([x_train, x_test])\n",
    "print(mnist_data.shape)\n",
    "# Horizontal stacking labels of train and test set\n",
    "mnist_labels = np.hstack([y_train, y_test])\n",
    "print(mnist_labels.shape)"
   ]
  },
  {
   "cell_type": "code",
   "execution_count": 8,
   "id": "5b5d77b3",
   "metadata": {
    "execution": {
     "iopub.execute_input": "2022-02-19T13:52:48.108281Z",
     "iopub.status.busy": "2022-02-19T13:52:48.107454Z",
     "iopub.status.idle": "2022-02-19T13:52:48.113349Z",
     "shell.execute_reply": "2022-02-19T13:52:48.113757Z",
     "shell.execute_reply.started": "2022-02-19T13:40:57.895797Z"
    },
    "papermill": {
     "duration": 0.043028,
     "end_time": "2022-02-19T13:52:48.113899",
     "exception": false,
     "start_time": "2022-02-19T13:52:48.070871",
     "status": "completed"
    },
    "tags": []
   },
   "outputs": [
    {
     "name": "stdout",
     "output_type": "stream",
     "text": [
      "Value counts of y_train modalities: [5923 6742 5958 6131 5842 5421 5918 6265 5851 5949]\n",
      "\n",
      "Value counts of y_test modalities: [ 980 1135 1032 1010  982  892  958 1028  974 1009]\n"
     ]
    }
   ],
   "source": [
    "# Uniques and counts of train labels\n",
    "unique_train, counts_train = np.unique(y_train, return_counts= True)\n",
    "print(f\"Value counts of y_train modalities: {counts_train}\\n\")\n",
    "\n",
    "# Uniques and counts of test labels\n",
    "unique_test, counts_test = np.unique(y_test, return_counts= True)\n",
    "print(f\"Value counts of y_test modalities: {counts_test}\")"
   ]
  },
  {
   "cell_type": "code",
   "execution_count": 3,
   "id": "a2018c65",
   "metadata": {
    "execution": {
     "iopub.execute_input": "2022-02-19T13:52:48.188481Z",
     "iopub.status.busy": "2022-02-19T13:52:48.187636Z",
     "iopub.status.idle": "2022-02-19T13:52:48.190212Z",
     "shell.execute_reply": "2022-02-19T13:52:48.189769Z",
     "shell.execute_reply.started": "2022-02-19T13:40:57.909890Z"
    },
    "papermill": {
     "duration": 0.042821,
     "end_time": "2022-02-19T13:52:48.190355",
     "exception": false,
     "start_time": "2022-02-19T13:52:48.147534",
     "status": "completed"
    },
    "tags": []
   },
   "outputs": [],
   "source": [
    "def load_az_dataset(datasetPath):\n",
    "    # List for storing data\n",
    "    data = []\n",
    "  \n",
    "    # List for storing labels\n",
    "    labels = []\n",
    "  \n",
    "    for row in open(datasetPath): #Openfile and start reading each row\n",
    "    #Split the row at every comma\n",
    "        row = row.split(\",\")\n",
    "    \n",
    "        #row[0] contains label\n",
    "        label = int(row[0])\n",
    "    \n",
    "        #Other all collumns contains pixel values make a saperate array for that\n",
    "        image = np.array([int(x) for x in row[1:]], dtype=\"uint8\")\n",
    "        \n",
    "        #Reshaping image to 28 x 28 pixels\n",
    "        image = image.reshape((28, 28))\n",
    "        \n",
    "        #append image to data\n",
    "        data.append(image)\n",
    "        \n",
    "        #append label to labels\n",
    "        labels.append(label)\n",
    "    \n",
    "    #Converting data to numpy array of type float32\n",
    "    data = np.array(data, dtype='float32')\n",
    "  \n",
    "    #Converting labels to type int\n",
    "    labels = np.array(labels, dtype=\"int\")\n",
    "    \n",
    "    return (data, labels)"
   ]
  },
  {
   "cell_type": "code",
   "execution_count": 4,
   "id": "5a9815f2",
   "metadata": {
    "execution": {
     "iopub.execute_input": "2022-02-19T13:52:48.257839Z",
     "iopub.status.busy": "2022-02-19T13:52:48.257026Z",
     "iopub.status.idle": "2022-02-19T13:54:08.381049Z",
     "shell.execute_reply": "2022-02-19T13:54:08.380560Z",
     "shell.execute_reply.started": "2022-02-19T13:40:57.922245Z"
    },
    "papermill": {
     "duration": 80.158635,
     "end_time": "2022-02-19T13:54:08.381194",
     "exception": false,
     "start_time": "2022-02-19T13:52:48.222559",
     "status": "completed"
    },
    "tags": []
   },
   "outputs": [],
   "source": [
    "# Load A-Z dataset\n",
    "az_data, az_labels = load_az_dataset(\"./A_Z_Handwritten_Data/A_Z_Handwritten_Data.csv\")"
   ]
  },
  {
   "cell_type": "code",
   "execution_count": 11,
   "id": "9e3d0c7b",
   "metadata": {
    "execution": {
     "iopub.execute_input": "2022-02-19T13:54:08.445518Z",
     "iopub.status.busy": "2022-02-19T13:54:08.444660Z",
     "iopub.status.idle": "2022-02-19T13:54:08.450286Z",
     "shell.execute_reply": "2022-02-19T13:54:08.449839Z",
     "shell.execute_reply.started": "2022-02-19T13:42:36.053656Z"
    },
    "papermill": {
     "duration": 0.03863,
     "end_time": "2022-02-19T13:54:08.450419",
     "exception": false,
     "start_time": "2022-02-19T13:54:08.411789",
     "status": "completed"
    },
    "tags": []
   },
   "outputs": [
    {
     "data": {
      "text/plain": [
       "(372451, 28, 28)"
      ]
     },
     "execution_count": 11,
     "metadata": {},
     "output_type": "execute_result"
    }
   ],
   "source": [
    "az_data.shape"
   ]
  },
  {
   "cell_type": "code",
   "execution_count": 12,
   "id": "1766c5d9",
   "metadata": {
    "execution": {
     "iopub.execute_input": "2022-02-19T13:54:08.516732Z",
     "iopub.status.busy": "2022-02-19T13:54:08.516089Z",
     "iopub.status.idle": "2022-02-19T13:54:08.518968Z",
     "shell.execute_reply": "2022-02-19T13:54:08.519390Z",
     "shell.execute_reply.started": "2022-02-19T13:42:36.068751Z"
    },
    "papermill": {
     "duration": 0.038623,
     "end_time": "2022-02-19T13:54:08.519535",
     "exception": false,
     "start_time": "2022-02-19T13:54:08.480912",
     "status": "completed"
    },
    "tags": []
   },
   "outputs": [
    {
     "data": {
      "text/plain": [
       "(372451,)"
      ]
     },
     "execution_count": 12,
     "metadata": {},
     "output_type": "execute_result"
    }
   ],
   "source": [
    "az_labels.shape"
   ]
  },
  {
   "cell_type": "code",
   "execution_count": 13,
   "id": "0bd023d6",
   "metadata": {
    "execution": {
     "iopub.execute_input": "2022-02-19T13:54:08.586990Z",
     "iopub.status.busy": "2022-02-19T13:54:08.586342Z",
     "iopub.status.idle": "2022-02-19T13:54:08.589233Z",
     "shell.execute_reply": "2022-02-19T13:54:08.589641Z",
     "shell.execute_reply.started": "2022-02-19T13:42:36.085187Z"
    },
    "papermill": {
     "duration": 0.039881,
     "end_time": "2022-02-19T13:54:08.589784",
     "exception": false,
     "start_time": "2022-02-19T13:54:08.549903",
     "status": "completed"
    },
    "tags": []
   },
   "outputs": [
    {
     "data": {
      "text/plain": [
       "array([[[0, 0, 0, ..., 0, 0, 0],\n",
       "        [0, 0, 0, ..., 0, 0, 0],\n",
       "        [0, 0, 0, ..., 0, 0, 0],\n",
       "        ...,\n",
       "        [0, 0, 0, ..., 0, 0, 0],\n",
       "        [0, 0, 0, ..., 0, 0, 0],\n",
       "        [0, 0, 0, ..., 0, 0, 0]],\n",
       "\n",
       "       [[0, 0, 0, ..., 0, 0, 0],\n",
       "        [0, 0, 0, ..., 0, 0, 0],\n",
       "        [0, 0, 0, ..., 0, 0, 0],\n",
       "        ...,\n",
       "        [0, 0, 0, ..., 0, 0, 0],\n",
       "        [0, 0, 0, ..., 0, 0, 0],\n",
       "        [0, 0, 0, ..., 0, 0, 0]],\n",
       "\n",
       "       [[0, 0, 0, ..., 0, 0, 0],\n",
       "        [0, 0, 0, ..., 0, 0, 0],\n",
       "        [0, 0, 0, ..., 0, 0, 0],\n",
       "        ...,\n",
       "        [0, 0, 0, ..., 0, 0, 0],\n",
       "        [0, 0, 0, ..., 0, 0, 0],\n",
       "        [0, 0, 0, ..., 0, 0, 0]],\n",
       "\n",
       "       ...,\n",
       "\n",
       "       [[0, 0, 0, ..., 0, 0, 0],\n",
       "        [0, 0, 0, ..., 0, 0, 0],\n",
       "        [0, 0, 0, ..., 0, 0, 0],\n",
       "        ...,\n",
       "        [0, 0, 0, ..., 0, 0, 0],\n",
       "        [0, 0, 0, ..., 0, 0, 0],\n",
       "        [0, 0, 0, ..., 0, 0, 0]],\n",
       "\n",
       "       [[0, 0, 0, ..., 0, 0, 0],\n",
       "        [0, 0, 0, ..., 0, 0, 0],\n",
       "        [0, 0, 0, ..., 0, 0, 0],\n",
       "        ...,\n",
       "        [0, 0, 0, ..., 0, 0, 0],\n",
       "        [0, 0, 0, ..., 0, 0, 0],\n",
       "        [0, 0, 0, ..., 0, 0, 0]],\n",
       "\n",
       "       [[0, 0, 0, ..., 0, 0, 0],\n",
       "        [0, 0, 0, ..., 0, 0, 0],\n",
       "        [0, 0, 0, ..., 0, 0, 0],\n",
       "        ...,\n",
       "        [0, 0, 0, ..., 0, 0, 0],\n",
       "        [0, 0, 0, ..., 0, 0, 0],\n",
       "        [0, 0, 0, ..., 0, 0, 0]]], dtype=uint8)"
      ]
     },
     "execution_count": 13,
     "metadata": {},
     "output_type": "execute_result"
    }
   ],
   "source": [
    "mnist_data"
   ]
  },
  {
   "cell_type": "code",
   "execution_count": 14,
   "id": "42ad38ed",
   "metadata": {
    "execution": {
     "iopub.execute_input": "2022-02-19T13:54:08.659461Z",
     "iopub.status.busy": "2022-02-19T13:54:08.658574Z",
     "iopub.status.idle": "2022-02-19T13:54:08.661701Z",
     "shell.execute_reply": "2022-02-19T13:54:08.662102Z",
     "shell.execute_reply.started": "2022-02-19T13:42:36.102864Z"
    },
    "papermill": {
     "duration": 0.041607,
     "end_time": "2022-02-19T13:54:08.662276",
     "exception": false,
     "start_time": "2022-02-19T13:54:08.620669",
     "status": "completed"
    },
    "tags": []
   },
   "outputs": [
    {
     "data": {
      "text/plain": [
       "array([[[0., 0., 0., ..., 0., 0., 0.],\n",
       "        [0., 0., 0., ..., 0., 0., 0.],\n",
       "        [0., 0., 0., ..., 0., 0., 0.],\n",
       "        ...,\n",
       "        [0., 0., 0., ..., 0., 0., 0.],\n",
       "        [0., 0., 0., ..., 0., 0., 0.],\n",
       "        [0., 0., 0., ..., 0., 0., 0.]],\n",
       "\n",
       "       [[0., 0., 0., ..., 0., 0., 0.],\n",
       "        [0., 0., 0., ..., 0., 0., 0.],\n",
       "        [0., 0., 0., ..., 0., 0., 0.],\n",
       "        ...,\n",
       "        [0., 0., 0., ..., 0., 0., 0.],\n",
       "        [0., 0., 0., ..., 0., 0., 0.],\n",
       "        [0., 0., 0., ..., 0., 0., 0.]],\n",
       "\n",
       "       [[0., 0., 0., ..., 0., 0., 0.],\n",
       "        [0., 0., 0., ..., 0., 0., 0.],\n",
       "        [0., 0., 0., ..., 0., 0., 0.],\n",
       "        ...,\n",
       "        [0., 0., 0., ..., 0., 0., 0.],\n",
       "        [0., 0., 0., ..., 0., 0., 0.],\n",
       "        [0., 0., 0., ..., 0., 0., 0.]],\n",
       "\n",
       "       ...,\n",
       "\n",
       "       [[0., 0., 0., ..., 0., 0., 0.],\n",
       "        [0., 0., 0., ..., 0., 0., 0.],\n",
       "        [0., 0., 0., ..., 0., 0., 0.],\n",
       "        ...,\n",
       "        [0., 0., 0., ..., 0., 0., 0.],\n",
       "        [0., 0., 0., ..., 0., 0., 0.],\n",
       "        [0., 0., 0., ..., 0., 0., 0.]],\n",
       "\n",
       "       [[0., 0., 0., ..., 0., 0., 0.],\n",
       "        [0., 0., 0., ..., 0., 0., 0.],\n",
       "        [0., 0., 0., ..., 0., 0., 0.],\n",
       "        ...,\n",
       "        [0., 0., 0., ..., 0., 0., 0.],\n",
       "        [0., 0., 0., ..., 0., 0., 0.],\n",
       "        [0., 0., 0., ..., 0., 0., 0.]],\n",
       "\n",
       "       [[0., 0., 0., ..., 0., 0., 0.],\n",
       "        [0., 0., 0., ..., 0., 0., 0.],\n",
       "        [0., 0., 0., ..., 0., 0., 0.],\n",
       "        ...,\n",
       "        [0., 0., 0., ..., 0., 0., 0.],\n",
       "        [0., 0., 0., ..., 0., 0., 0.],\n",
       "        [0., 0., 0., ..., 0., 0., 0.]]], dtype=float32)"
      ]
     },
     "execution_count": 14,
     "metadata": {},
     "output_type": "execute_result"
    }
   ],
   "source": [
    "az_data"
   ]
  },
  {
   "cell_type": "code",
   "execution_count": 15,
   "id": "c35b6637",
   "metadata": {
    "execution": {
     "iopub.execute_input": "2022-02-19T13:54:08.731362Z",
     "iopub.status.busy": "2022-02-19T13:54:08.730569Z",
     "iopub.status.idle": "2022-02-19T13:54:08.733501Z",
     "shell.execute_reply": "2022-02-19T13:54:08.733908Z",
     "shell.execute_reply.started": "2022-02-19T13:42:36.117853Z"
    },
    "papermill": {
     "duration": 0.040096,
     "end_time": "2022-02-19T13:54:08.734078",
     "exception": false,
     "start_time": "2022-02-19T13:54:08.693982",
     "status": "completed"
    },
    "tags": []
   },
   "outputs": [
    {
     "data": {
      "text/plain": [
       "array([ 0,  0,  0, ..., 25, 25, 25])"
      ]
     },
     "execution_count": 15,
     "metadata": {},
     "output_type": "execute_result"
    }
   ],
   "source": [
    "az_labels"
   ]
  },
  {
   "cell_type": "code",
   "execution_count": 16,
   "id": "eb258885",
   "metadata": {
    "execution": {
     "iopub.execute_input": "2022-02-19T13:54:08.801390Z",
     "iopub.status.busy": "2022-02-19T13:54:08.800537Z",
     "iopub.status.idle": "2022-02-19T13:54:08.806273Z",
     "shell.execute_reply": "2022-02-19T13:54:08.805837Z",
     "shell.execute_reply.started": "2022-02-19T13:42:36.128295Z"
    },
    "papermill": {
     "duration": 0.040344,
     "end_time": "2022-02-19T13:54:08.806406",
     "exception": false,
     "start_time": "2022-02-19T13:54:08.766062",
     "status": "completed"
    },
    "tags": []
   },
   "outputs": [
    {
     "data": {
      "text/plain": [
       "array([5, 0, 4, ..., 4, 5, 6], dtype=uint8)"
      ]
     },
     "execution_count": 16,
     "metadata": {},
     "output_type": "execute_result"
    }
   ],
   "source": [
    "mnist_labels"
   ]
  },
  {
   "cell_type": "code",
   "execution_count": 17,
   "id": "37498bcd",
   "metadata": {
    "execution": {
     "iopub.execute_input": "2022-02-19T13:54:08.885864Z",
     "iopub.status.busy": "2022-02-19T13:54:08.885107Z",
     "iopub.status.idle": "2022-02-19T13:54:08.888108Z",
     "shell.execute_reply": "2022-02-19T13:54:08.887661Z",
     "shell.execute_reply.started": "2022-02-19T13:42:36.139760Z"
    },
    "papermill": {
     "duration": 0.049125,
     "end_time": "2022-02-19T13:54:08.888266",
     "exception": false,
     "start_time": "2022-02-19T13:54:08.839141",
     "status": "completed"
    },
    "tags": []
   },
   "outputs": [],
   "source": [
    "z = np.hstack([az_labels, mnist_labels])"
   ]
  },
  {
   "cell_type": "code",
   "execution_count": 18,
   "id": "5a92c238",
   "metadata": {
    "execution": {
     "iopub.execute_input": "2022-02-19T13:54:08.958883Z",
     "iopub.status.busy": "2022-02-19T13:54:08.958224Z",
     "iopub.status.idle": "2022-02-19T13:54:08.960982Z",
     "shell.execute_reply": "2022-02-19T13:54:08.961427Z",
     "shell.execute_reply.started": "2022-02-19T13:42:36.149277Z"
    },
    "papermill": {
     "duration": 0.040928,
     "end_time": "2022-02-19T13:54:08.961580",
     "exception": false,
     "start_time": "2022-02-19T13:54:08.920652",
     "status": "completed"
    },
    "tags": []
   },
   "outputs": [
    {
     "data": {
      "text/plain": [
       "(442451,)"
      ]
     },
     "execution_count": 18,
     "metadata": {},
     "output_type": "execute_result"
    }
   ],
   "source": [
    "z.shape"
   ]
  },
  {
   "cell_type": "code",
   "execution_count": 19,
   "id": "d24df52d",
   "metadata": {
    "execution": {
     "iopub.execute_input": "2022-02-19T13:54:09.031203Z",
     "iopub.status.busy": "2022-02-19T13:54:09.030391Z",
     "iopub.status.idle": "2022-02-19T13:54:09.036127Z",
     "shell.execute_reply": "2022-02-19T13:54:09.035709Z",
     "shell.execute_reply.started": "2022-02-19T13:42:36.161579Z"
    },
    "papermill": {
     "duration": 0.041933,
     "end_time": "2022-02-19T13:54:09.036279",
     "exception": false,
     "start_time": "2022-02-19T13:54:08.994346",
     "status": "completed"
    },
    "tags": []
   },
   "outputs": [
    {
     "data": {
      "text/plain": [
       "array([ 0,  0,  0, ..., 25, 25, 25])"
      ]
     },
     "execution_count": 19,
     "metadata": {},
     "output_type": "execute_result"
    }
   ],
   "source": [
    "e = az_labels\n",
    "e "
   ]
  },
  {
   "cell_type": "code",
   "execution_count": 20,
   "id": "fdec01b2",
   "metadata": {
    "execution": {
     "iopub.execute_input": "2022-02-19T13:54:09.108527Z",
     "iopub.status.busy": "2022-02-19T13:54:09.107850Z",
     "iopub.status.idle": "2022-02-19T13:54:09.110728Z",
     "shell.execute_reply": "2022-02-19T13:54:09.111129Z",
     "shell.execute_reply.started": "2022-02-19T13:42:36.173110Z"
    },
    "papermill": {
     "duration": 0.041374,
     "end_time": "2022-02-19T13:54:09.111303",
     "exception": false,
     "start_time": "2022-02-19T13:54:09.069929",
     "status": "completed"
    },
    "tags": []
   },
   "outputs": [
    {
     "data": {
      "text/plain": [
       "array([ 0,  0,  0, ..., 25, 25, 25])"
      ]
     },
     "execution_count": 20,
     "metadata": {},
     "output_type": "execute_result"
    }
   ],
   "source": [
    "a= az_labels\n",
    "a"
   ]
  },
  {
   "cell_type": "code",
   "execution_count": 5,
   "id": "b57d55e3",
   "metadata": {
    "execution": {
     "iopub.execute_input": "2022-02-19T13:54:09.186045Z",
     "iopub.status.busy": "2022-02-19T13:54:09.184818Z",
     "iopub.status.idle": "2022-02-19T13:54:13.300114Z",
     "shell.execute_reply": "2022-02-19T13:54:13.299646Z",
     "shell.execute_reply.started": "2022-02-19T13:42:36.183874Z"
    },
    "papermill": {
     "duration": 4.155408,
     "end_time": "2022-02-19T13:54:13.300274",
     "exception": false,
     "start_time": "2022-02-19T13:54:09.144866",
     "status": "completed"
    },
    "tags": []
   },
   "outputs": [],
   "source": [
    "# the MNIST dataset occupies the labels 0-9, so let's add 10 to every A-Z label to ensure the A-Z characters are not incorrectly labeled \n",
    "\n",
    "az_labels += 10\n",
    "\n",
    "# stack the A-Z data and labels with the MNIST digits data and labels\n",
    "\n",
    "#data = np.vstack([az_data, mnist_data])\n",
    "#labels = np.hstack([az_labels, mnist_labels])\n",
    "labels = az_labels\n",
    "# Each image in the A-Z and MNIST digts datasets are 28x28 pixels;\n",
    "# However, the architecture we're using is designed for 32x32 images,\n",
    "# So we need to resize them to 32x32\n",
    "\n",
    "data = [cv2.resize(image, (32, 32)) for image in az_data]\n",
    "data = np.array(data, dtype=\"float32\")\n",
    "\n",
    "# add a channel dimension to every image in the dataset and scale the\n",
    "# pixel intensities of the images from [0, 255] down to [0, 1]\n",
    "\n",
    "data = np.expand_dims(data, axis=-1)\n",
    "data /= 255.0"
   ]
  },
  {
   "cell_type": "code",
   "execution_count": 22,
   "id": "927cb75e",
   "metadata": {
    "execution": {
     "iopub.execute_input": "2022-02-19T13:54:13.373060Z",
     "iopub.status.busy": "2022-02-19T13:54:13.372381Z",
     "iopub.status.idle": "2022-02-19T13:54:13.375329Z",
     "shell.execute_reply": "2022-02-19T13:54:13.375740Z",
     "shell.execute_reply.started": "2022-02-19T13:42:41.787986Z"
    },
    "papermill": {
     "duration": 0.042081,
     "end_time": "2022-02-19T13:54:13.375883",
     "exception": false,
     "start_time": "2022-02-19T13:54:13.333802",
     "status": "completed"
    },
    "tags": []
   },
   "outputs": [
    {
     "data": {
      "text/plain": [
       "(442451, 32, 32, 1)"
      ]
     },
     "execution_count": 22,
     "metadata": {},
     "output_type": "execute_result"
    }
   ],
   "source": [
    "data.shape"
   ]
  },
  {
   "cell_type": "code",
   "execution_count": 23,
   "id": "3af8dcf4",
   "metadata": {
    "execution": {
     "iopub.execute_input": "2022-02-19T13:54:13.450752Z",
     "iopub.status.busy": "2022-02-19T13:54:13.449375Z",
     "iopub.status.idle": "2022-02-19T13:54:13.454116Z",
     "shell.execute_reply": "2022-02-19T13:54:13.453593Z",
     "shell.execute_reply.started": "2022-02-19T13:42:41.797247Z"
    },
    "papermill": {
     "duration": 0.043915,
     "end_time": "2022-02-19T13:54:13.454254",
     "exception": false,
     "start_time": "2022-02-19T13:54:13.410339",
     "status": "completed"
    },
    "tags": []
   },
   "outputs": [
    {
     "data": {
      "text/plain": [
       "array([10, 10, 10, ...,  4,  5,  6])"
      ]
     },
     "execution_count": 23,
     "metadata": {},
     "output_type": "execute_result"
    }
   ],
   "source": [
    "labels"
   ]
  },
  {
   "cell_type": "code",
   "execution_count": 6,
   "id": "8d60f4cc",
   "metadata": {
    "execution": {
     "iopub.execute_input": "2022-02-19T13:54:13.529064Z",
     "iopub.status.busy": "2022-02-19T13:54:13.528192Z",
     "iopub.status.idle": "2022-02-19T13:54:13.638975Z",
     "shell.execute_reply": "2022-02-19T13:54:13.638416Z",
     "shell.execute_reply.started": "2022-02-19T13:42:41.819568Z"
    },
    "papermill": {
     "duration": 0.151239,
     "end_time": "2022-02-19T13:54:13.639115",
     "exception": false,
     "start_time": "2022-02-19T13:54:13.487876",
     "status": "completed"
    },
    "tags": []
   },
   "outputs": [],
   "source": [
    "le = LabelBinarizer()\n",
    "labels = le.fit_transform(labels)\n",
    "\n",
    "counts = labels.sum(axis=0)\n",
    "\n",
    "# account for skew in the labeled data\n",
    "classTotals = labels.sum(axis=0)\n",
    "classWeight = {}\n",
    "\n",
    "# loop over all classes and calculate the class weight\n",
    "for i in range(0, len(classTotals)):\n",
    "    classWeight[i] = classTotals.max() / classTotals[i]"
   ]
  },
  {
   "cell_type": "code",
   "execution_count": 7,
   "id": "7fdf285b",
   "metadata": {
    "execution": {
     "iopub.execute_input": "2022-02-19T13:54:13.713652Z",
     "iopub.status.busy": "2022-02-19T13:54:13.712971Z",
     "iopub.status.idle": "2022-02-19T13:54:13.715924Z",
     "shell.execute_reply": "2022-02-19T13:54:13.716349Z",
     "shell.execute_reply.started": "2022-02-19T13:42:41.955482Z"
    },
    "papermill": {
     "duration": 0.043376,
     "end_time": "2022-02-19T13:54:13.716498",
     "exception": false,
     "start_time": "2022-02-19T13:54:13.673122",
     "status": "completed"
    },
    "tags": []
   },
   "outputs": [
    {
     "data": {
      "text/plain": [
       "{0: 4.169069935111752,\n",
       " 1: 6.671089063221043,\n",
       " 2: 2.4702037677816224,\n",
       " 3: 5.7060390763765545,\n",
       " 4: 5.0546328671328675,\n",
       " 5: 49.72055030094583,\n",
       " 6: 10.035577924331829,\n",
       " 7: 8.011221945137157,\n",
       " 8: 51.629464285714285,\n",
       " 9: 6.808548216178029,\n",
       " 10: 10.320364090665715,\n",
       " 11: 4.990937338166753,\n",
       " 12: 4.6875,\n",
       " 13: 3.0418200946870066,\n",
       " 14: 1.0,\n",
       " 15: 2.989762680316426,\n",
       " 16: 9.94924294562973,\n",
       " 17: 4.999567698426422,\n",
       " 18: 1.1942625828703608,\n",
       " 19: 2.5705712380529007,\n",
       " 20: 1.993415609487038,\n",
       " 21: 13.827116212338593,\n",
       " 22: 5.362110534124629,\n",
       " 23: 9.21954719387755,\n",
       " 24: 5.3250759738465785,\n",
       " 25: 9.51695194206715}"
      ]
     },
     "execution_count": 7,
     "metadata": {},
     "output_type": "execute_result"
    }
   ],
   "source": [
    "classWeight"
   ]
  },
  {
   "cell_type": "code",
   "execution_count": 8,
   "id": "d432c396",
   "metadata": {
    "execution": {
     "iopub.execute_input": "2022-02-19T13:54:14.793589Z",
     "iopub.status.busy": "2022-02-19T13:54:14.278633Z",
     "iopub.status.idle": "2022-02-19T13:54:36.582451Z",
     "shell.execute_reply": "2022-02-19T13:54:36.581718Z",
     "shell.execute_reply.started": "2022-02-19T13:42:41.968200Z"
    },
    "papermill": {
     "duration": 22.83179,
     "end_time": "2022-02-19T13:54:36.582594",
     "exception": false,
     "start_time": "2022-02-19T13:54:13.750804",
     "status": "completed"
    },
    "tags": []
   },
   "outputs": [],
   "source": [
    "(trainX, testX, trainY, testY) = train_test_split(data,\n",
    "                                                  labels, test_size=0.20, stratify=labels, random_state=42)"
   ]
  },
  {
   "cell_type": "code",
   "execution_count": 9,
   "id": "7daf1a60",
   "metadata": {
    "execution": {
     "iopub.execute_input": "2022-02-19T13:54:36.666529Z",
     "iopub.status.busy": "2022-02-19T13:54:36.665622Z",
     "iopub.status.idle": "2022-02-19T13:54:36.668993Z",
     "shell.execute_reply": "2022-02-19T13:54:36.669459Z",
     "shell.execute_reply.started": "2022-02-19T13:43:08.997789Z"
    },
    "papermill": {
     "duration": 0.048266,
     "end_time": "2022-02-19T13:54:36.669640",
     "exception": false,
     "start_time": "2022-02-19T13:54:36.621374",
     "status": "completed"
    },
    "tags": []
   },
   "outputs": [
    {
     "data": {
      "text/plain": [
       "(297960, 32, 32, 1)"
      ]
     },
     "execution_count": 9,
     "metadata": {},
     "output_type": "execute_result"
    }
   ],
   "source": [
    "trainX.shape"
   ]
  },
  {
   "cell_type": "code",
   "execution_count": 10,
   "id": "50d9dcab",
   "metadata": {
    "execution": {
     "iopub.execute_input": "2022-02-19T13:54:36.752549Z",
     "iopub.status.busy": "2022-02-19T13:54:36.751640Z",
     "iopub.status.idle": "2022-02-19T13:54:37.099241Z",
     "shell.execute_reply": "2022-02-19T13:54:37.100006Z",
     "shell.execute_reply.started": "2022-02-19T13:43:09.007251Z"
    },
    "papermill": {
     "duration": 0.392277,
     "end_time": "2022-02-19T13:54:37.100177",
     "exception": false,
     "start_time": "2022-02-19T13:54:36.707900",
     "status": "completed"
    },
    "tags": []
   },
   "outputs": [],
   "source": [
    "from keras.preprocessing.image import ImageDataGenerator\n",
    "from skimage import io\n",
    "aug = ImageDataGenerator(\n",
    "rotation_range=10,\n",
    "zoom_range=0.05,\n",
    "width_shift_range=0.1,\n",
    "height_shift_range=0.1,\n",
    "shear_range=0.15,\n",
    "horizontal_flip=False,\n",
    "fill_mode=\"nearest\")\n"
   ]
  },
  {
   "cell_type": "code",
   "execution_count": 11,
   "id": "29934308",
   "metadata": {
    "execution": {
     "iopub.execute_input": "2022-02-19T13:54:37.183029Z",
     "iopub.status.busy": "2022-02-19T13:54:37.182087Z",
     "iopub.status.idle": "2022-02-19T13:54:37.184337Z",
     "shell.execute_reply": "2022-02-19T13:54:37.184714Z",
     "shell.execute_reply.started": "2022-02-19T13:43:09.388885Z"
    },
    "papermill": {
     "duration": 0.045977,
     "end_time": "2022-02-19T13:54:37.184869",
     "exception": false,
     "start_time": "2022-02-19T13:54:37.138892",
     "status": "completed"
    },
    "tags": []
   },
   "outputs": [],
   "source": [
    "batch_size = 128\n",
    "epochs = 50"
   ]
  },
  {
   "cell_type": "code",
   "execution_count": 12,
   "id": "ce335328",
   "metadata": {
    "execution": {
     "iopub.execute_input": "2022-02-19T13:54:37.275856Z",
     "iopub.status.busy": "2022-02-19T13:54:37.275021Z",
     "iopub.status.idle": "2022-02-19T13:54:40.939048Z",
     "shell.execute_reply": "2022-02-19T13:54:40.938526Z",
     "shell.execute_reply.started": "2022-02-19T13:43:09.397713Z"
    },
    "papermill": {
     "duration": 3.715031,
     "end_time": "2022-02-19T13:54:40.939178",
     "exception": false,
     "start_time": "2022-02-19T13:54:37.224147",
     "status": "completed"
    },
    "tags": []
   },
   "outputs": [
    {
     "name": "stdout",
     "output_type": "stream",
     "text": [
      "Model: \"sequential\"\n",
      "_________________________________________________________________\n",
      "Layer (type)                 Output Shape              Param #   \n",
      "=================================================================\n",
      "resnet50 (Functional)        (None, 1, 1, 2048)        23581440  \n",
      "_________________________________________________________________\n",
      "global_average_pooling2d (Gl (None, 2048)              0         \n",
      "_________________________________________________________________\n",
      "dense (Dense)                (None, 26)                53274     \n",
      "=================================================================\n",
      "Total params: 23,634,714\n",
      "Trainable params: 23,581,594\n",
      "Non-trainable params: 53,120\n",
      "_________________________________________________________________\n"
     ]
    }
   ],
   "source": [
    "enet = ResNet50(\n",
    "        input_shape=(32, 32, 1),\n",
    "        weights=None,\n",
    "        include_top=False\n",
    "    )\n",
    "\n",
    "model = tf.keras.Sequential([\n",
    "        enet,\n",
    "        tf.keras.layers.GlobalAveragePooling2D(),\n",
    "        tf.keras.layers.Dense(26, activation='softmax')\n",
    "    ])\n",
    "\n",
    "\n",
    "callbacks = [ModelCheckpoint(filepath='best_model.h5', save_weights_only = True,monitor='val_accuracy' ,mode='max')]\n",
    "early = EarlyStopping(monitor=\"val_accuracy\", mode=\"max\", patience=20, verbose = 1)\n",
    "\n",
    "model.compile(\n",
    "    optimizer=tf.keras.optimizers.Adam(learning_rate=1e-3),\n",
    "    loss='categorical_crossentropy',\n",
    "    metrics=['accuracy']\n",
    ")\n",
    "model.summary()"
   ]
  },
  {
   "cell_type": "code",
   "execution_count": 13,
   "id": "b09c1474",
   "metadata": {},
   "outputs": [
    {
     "name": "stderr",
     "output_type": "stream",
     "text": [
      "C:\\ProgramData\\Anaconda3\\envs\\idip_2021\\lib\\site-packages\\tqdm\\auto.py:22: TqdmWarning: IProgress not found. Please update jupyter and ipywidgets. See https://ipywidgets.readthedocs.io/en/stable/user_install.html\n",
      "  from .autonotebook import tqdm as notebook_tqdm\n"
     ]
    },
    {
     "name": "stdout",
     "output_type": "stream",
     "text": [
      "using cuda device\n",
      "Device: cuda\n",
      "Current cuda device: 0\n",
      "Count of using GPUs: 1\n"
     ]
    }
   ],
   "source": [
    "import torch\n",
    "\n",
    "device = \"cuda\" if torch.cuda.is_available() else \"cpu\"\n",
    "print(\"using {} device\".format(device))\n",
    "\n",
    "os.environ[\"CUDA_DEVICE_ORDER\"]=\"PCI_BUS_ID\" \n",
    "os.environ[\"CUDA_VISIBLE_DEVICES\"]= \"1\"\n",
    "\n",
    "device = torch.device(\"cuda\" if torch.cuda.is_available() else \"cpu\")\n",
    "\n",
    "print('Device:', device)\n",
    "print('Current cuda device:', torch.cuda.current_device())\n",
    "print('Count of using GPUs:', torch.cuda.device_count())"
   ]
  },
  {
   "cell_type": "code",
   "execution_count": 14,
   "id": "4cea67b8",
   "metadata": {
    "execution": {
     "iopub.execute_input": "2022-02-19T13:54:41.022167Z",
     "iopub.status.busy": "2022-02-19T13:54:41.021488Z",
     "iopub.status.idle": "2022-02-19T17:18:32.259692Z",
     "shell.execute_reply": "2022-02-19T17:18:32.259147Z",
     "shell.execute_reply.started": "2022-02-19T13:43:14.810243Z"
    },
    "papermill": {
     "duration": 12231.283483,
     "end_time": "2022-02-19T17:18:32.259842",
     "exception": false,
     "start_time": "2022-02-19T13:54:40.976359",
     "status": "completed"
    },
    "tags": []
   },
   "outputs": [
    {
     "name": "stdout",
     "output_type": "stream",
     "text": [
      "Epoch 1/50\n",
      "2328/2328 [==============================] - 456s 190ms/step - loss: 1.5422 - accuracy: 0.8916 - val_loss: 1.8958 - val_accuracy: 0.6858\n",
      "Epoch 2/50\n",
      "2328/2328 [==============================] - 453s 195ms/step - loss: 0.6853 - accuracy: 0.9512 - val_loss: 0.1245 - val_accuracy: 0.9646\n",
      "Epoch 3/50\n",
      "2328/2328 [==============================] - 454s 195ms/step - loss: 0.4764 - accuracy: 0.9653 - val_loss: 0.1354 - val_accuracy: 0.9599\n",
      "Epoch 4/50\n",
      "2328/2328 [==============================] - 447s 192ms/step - loss: 0.6163 - accuracy: 0.9549 - val_loss: 0.0896 - val_accuracy: 0.9738\n",
      "Epoch 5/50\n",
      "2328/2328 [==============================] - 442s 190ms/step - loss: 0.3653 - accuracy: 0.9729 - val_loss: 0.0758 - val_accuracy: 0.9774\n",
      "Epoch 6/50\n",
      "2328/2328 [==============================] - 469s 201ms/step - loss: 0.3408 - accuracy: 0.9742 - val_loss: 0.0881 - val_accuracy: 0.9763\n",
      "Epoch 7/50\n",
      "2328/2328 [==============================] - 472s 203ms/step - loss: 1.2197 - accuracy: 0.9366 - val_loss: 0.0930 - val_accuracy: 0.9715\n",
      "Epoch 8/50\n",
      "2328/2328 [==============================] - 451s 194ms/step - loss: 0.8044 - accuracy: 0.9461 - val_loss: 0.1916 - val_accuracy: 0.9789\n",
      "Epoch 9/50\n",
      "2328/2328 [==============================] - 455s 196ms/step - loss: 0.3739 - accuracy: 0.9718 - val_loss: 0.0735 - val_accuracy: 0.9795\n",
      "Epoch 10/50\n",
      "2328/2328 [==============================] - 454s 195ms/step - loss: 0.3381 - accuracy: 0.9742 - val_loss: 0.0655 - val_accuracy: 0.9812\n",
      "Epoch 11/50\n",
      "2328/2328 [==============================] - 440s 189ms/step - loss: 0.2738 - accuracy: 0.9784 - val_loss: 0.0633 - val_accuracy: 0.9830\n",
      "Epoch 12/50\n",
      "2328/2328 [==============================] - 438s 188ms/step - loss: 0.2640 - accuracy: 0.9798 - val_loss: 0.0514 - val_accuracy: 0.9858\n",
      "Epoch 13/50\n",
      "2328/2328 [==============================] - 439s 189ms/step - loss: 0.3084 - accuracy: 0.9759 - val_loss: 0.2403 - val_accuracy: 0.9257\n",
      "Epoch 14/50\n",
      "2328/2328 [==============================] - 439s 188ms/step - loss: 0.2237 - accuracy: 0.9816 - val_loss: 0.0753 - val_accuracy: 0.9777\n",
      "Epoch 15/50\n",
      "2328/2328 [==============================] - 439s 189ms/step - loss: 0.2227 - accuracy: 0.9819 - val_loss: 0.0506 - val_accuracy: 0.9852\n",
      "Epoch 16/50\n",
      "2328/2328 [==============================] - 439s 188ms/step - loss: 0.2493 - accuracy: 0.9801 - val_loss: 0.0512 - val_accuracy: 0.9856\n",
      "Epoch 17/50\n",
      "2328/2328 [==============================] - 442s 190ms/step - loss: 0.1758 - accuracy: 0.9851 - val_loss: 0.0551 - val_accuracy: 0.9839\n",
      "Epoch 18/50\n",
      "2328/2328 [==============================] - 441s 189ms/step - loss: 0.2178 - accuracy: 0.9821 - val_loss: 0.0530 - val_accuracy: 0.9847\n",
      "Epoch 19/50\n",
      "2328/2328 [==============================] - 441s 189ms/step - loss: 0.1814 - accuracy: 0.9850 - val_loss: 0.0706 - val_accuracy: 0.9797\n",
      "Epoch 20/50\n",
      "2328/2328 [==============================] - 442s 190ms/step - loss: 0.3945 - accuracy: 0.9698 - val_loss: 0.0630 - val_accuracy: 0.9817\n",
      "Epoch 21/50\n",
      "2328/2328 [==============================] - 442s 190ms/step - loss: 0.1793 - accuracy: 0.9843 - val_loss: 0.0485 - val_accuracy: 0.9867\n",
      "Epoch 22/50\n",
      "2328/2328 [==============================] - 442s 190ms/step - loss: 0.1590 - accuracy: 0.9863 - val_loss: 0.0435 - val_accuracy: 0.9881\n",
      "Epoch 23/50\n",
      "2328/2328 [==============================] - 444s 191ms/step - loss: 0.1554 - accuracy: 0.9864 - val_loss: 0.0556 - val_accuracy: 0.9841\n",
      "Epoch 24/50\n",
      "2328/2328 [==============================] - 443s 190ms/step - loss: 0.2979 - accuracy: 0.9780 - val_loss: 0.0476 - val_accuracy: 0.9863\n",
      "Epoch 25/50\n",
      "2328/2328 [==============================] - 443s 190ms/step - loss: 0.1658 - accuracy: 0.9853 - val_loss: 0.0348 - val_accuracy: 0.9901\n",
      "Epoch 26/50\n",
      "2328/2328 [==============================] - 444s 191ms/step - loss: 0.1897 - accuracy: 0.9852 - val_loss: 0.1717 - val_accuracy: 0.9578\n",
      "Epoch 27/50\n",
      "2328/2328 [==============================] - 444s 191ms/step - loss: 0.2483 - accuracy: 0.9816 - val_loss: 0.0473 - val_accuracy: 0.9870\n",
      "Epoch 28/50\n",
      "2328/2328 [==============================] - 443s 190ms/step - loss: 0.1637 - accuracy: 0.9864 - val_loss: 0.0754 - val_accuracy: 0.9805\n",
      "Epoch 29/50\n",
      "2328/2328 [==============================] - 445s 191ms/step - loss: 0.1471 - accuracy: 0.9869 - val_loss: 0.0438 - val_accuracy: 0.9889\n",
      "Epoch 30/50\n",
      "2328/2328 [==============================] - 444s 191ms/step - loss: 0.1557 - accuracy: 0.9868 - val_loss: 0.0431 - val_accuracy: 0.9884\n",
      "Epoch 31/50\n",
      "2328/2328 [==============================] - 447s 192ms/step - loss: 0.1671 - accuracy: 0.9861 - val_loss: 0.0539 - val_accuracy: 0.9832\n",
      "Epoch 32/50\n",
      "2328/2328 [==============================] - 444s 191ms/step - loss: 0.1499 - accuracy: 0.9868 - val_loss: 0.0488 - val_accuracy: 0.9880\n",
      "Epoch 33/50\n",
      "2328/2328 [==============================] - 444s 191ms/step - loss: 0.1525 - accuracy: 0.9865 - val_loss: 0.0406 - val_accuracy: 0.9888\n",
      "Epoch 34/50\n",
      "2328/2328 [==============================] - 444s 191ms/step - loss: 0.1273 - accuracy: 0.9883 - val_loss: 0.0414 - val_accuracy: 0.9881\n",
      "Epoch 35/50\n",
      "2328/2328 [==============================] - 444s 190ms/step - loss: 0.1280 - accuracy: 0.9884 - val_loss: 0.0547 - val_accuracy: 0.9859\n",
      "Epoch 36/50\n",
      "2328/2328 [==============================] - 441s 189ms/step - loss: 0.1287 - accuracy: 0.9881 - val_loss: 0.0374 - val_accuracy: 0.9895\n",
      "Epoch 37/50\n",
      "2328/2328 [==============================] - 441s 190ms/step - loss: 0.1173 - accuracy: 0.9893 - val_loss: 0.0388 - val_accuracy: 0.9893\n",
      "Epoch 38/50\n",
      "2328/2328 [==============================] - 441s 189ms/step - loss: 0.1277 - accuracy: 0.9882 - val_loss: 0.0317 - val_accuracy: 0.9907\n",
      "Epoch 39/50\n",
      "2328/2328 [==============================] - 442s 190ms/step - loss: 0.1140 - accuracy: 0.9895 - val_loss: 58.3994 - val_accuracy: 0.8103\n",
      "Epoch 40/50\n",
      "2328/2328 [==============================] - 441s 190ms/step - loss: 0.1191 - accuracy: 0.9888 - val_loss: 0.0370 - val_accuracy: 0.9893\n",
      "Epoch 41/50\n",
      "2328/2328 [==============================] - 440s 189ms/step - loss: 0.1081 - accuracy: 0.9898 - val_loss: 0.0362 - val_accuracy: 0.9900\n",
      "Epoch 42/50\n",
      "2328/2328 [==============================] - 440s 189ms/step - loss: 0.1047 - accuracy: 0.9898 - val_loss: 0.0302 - val_accuracy: 0.9915\n",
      "Epoch 43/50\n",
      "2328/2328 [==============================] - 441s 189ms/step - loss: 0.1048 - accuracy: 0.9902 - val_loss: 0.0329 - val_accuracy: 0.9906\n",
      "Epoch 44/50\n",
      "2328/2328 [==============================] - 441s 189ms/step - loss: 0.1167 - accuracy: 0.9889 - val_loss: 0.0307 - val_accuracy: 0.9909\n",
      "Epoch 45/50\n",
      "2328/2328 [==============================] - 441s 190ms/step - loss: 0.0910 - accuracy: 0.9910 - val_loss: 0.0302 - val_accuracy: 0.9920\n",
      "Epoch 46/50\n",
      "2328/2328 [==============================] - 442s 190ms/step - loss: 0.0918 - accuracy: 0.9911 - val_loss: 0.0794 - val_accuracy: 0.9820\n",
      "Epoch 47/50\n",
      "2328/2328 [==============================] - 445s 191ms/step - loss: 0.1087 - accuracy: 0.9899 - val_loss: 0.0300 - val_accuracy: 0.9918\n",
      "Epoch 48/50\n",
      "2328/2328 [==============================] - 446s 191ms/step - loss: 0.0924 - accuracy: 0.9912 - val_loss: 0.0493 - val_accuracy: 0.9891\n",
      "Epoch 49/50\n",
      "2328/2328 [==============================] - 446s 191ms/step - loss: 0.1001 - accuracy: 0.9902 - val_loss: 0.0415 - val_accuracy: 0.9875\n",
      "Epoch 50/50\n",
      "2328/2328 [==============================] - 446s 192ms/step - loss: 0.0911 - accuracy: 0.9910 - val_loss: 0.0310 - val_accuracy: 0.9915\n"
     ]
    },
    {
     "ename": "AttributeError",
     "evalue": "'History' object has no attribute 'to'",
     "output_type": "error",
     "traceback": [
      "\u001b[1;31m---------------------------------------------------------------------------\u001b[0m",
      "\u001b[1;31mAttributeError\u001b[0m                            Traceback (most recent call last)",
      "\u001b[1;32m<ipython-input-14-a64d10d47b96>\u001b[0m in \u001b[0;36m<module>\u001b[1;34m\u001b[0m\n\u001b[0;32m      5\u001b[0m     \u001b[0mclass_weight\u001b[0m\u001b[1;33m=\u001b[0m\u001b[0mclassWeight\u001b[0m\u001b[1;33m,\u001b[0m\u001b[1;33m\u001b[0m\u001b[1;33m\u001b[0m\u001b[0m\n\u001b[0;32m      6\u001b[0m     \u001b[0mverbose\u001b[0m\u001b[1;33m=\u001b[0m\u001b[1;36m1\u001b[0m\u001b[1;33m,\u001b[0m\u001b[1;33m\u001b[0m\u001b[1;33m\u001b[0m\u001b[0m\n\u001b[1;32m----> 7\u001b[1;33m     callbacks=[callbacks, early]).to(device)\n\u001b[0m",
      "\u001b[1;31mAttributeError\u001b[0m: 'History' object has no attribute 'to'"
     ]
    }
   ],
   "source": [
    "history = model.fit(\n",
    "    aug.flow(trainX, trainY, batch_size=batch_size),\n",
    "    epochs = epochs, \n",
    "    validation_data=(testX, testY),\n",
    "    class_weight=classWeight,\n",
    "    verbose=1,\n",
    "    callbacks=[callbacks, early]).to(device)"
   ]
  },
  {
   "cell_type": "code",
   "execution_count": 29,
   "id": "7f43bfb1",
   "metadata": {},
   "outputs": [],
   "source": [
    "from keras.models import load_model"
   ]
  },
  {
   "cell_type": "code",
   "execution_count": 16,
   "id": "5e230d04",
   "metadata": {},
   "outputs": [],
   "source": [
    "model.save('Resnet_Big.h5')"
   ]
  },
  {
   "cell_type": "code",
   "execution_count": 30,
   "id": "7e13f66c",
   "metadata": {},
   "outputs": [],
   "source": [
    "model_ex = load_model('Restnet_1.h5')"
   ]
  },
  {
   "cell_type": "code",
   "execution_count": 31,
   "id": "ab618690",
   "metadata": {},
   "outputs": [
    {
     "name": "stdout",
     "output_type": "stream",
     "text": [
      "Model: \"sequential\"\n",
      "_________________________________________________________________\n",
      "Layer (type)                 Output Shape              Param #   \n",
      "=================================================================\n",
      "resnet50 (Functional)        (None, 1, 1, 2048)        23581440  \n",
      "_________________________________________________________________\n",
      "global_average_pooling2d (Gl (None, 2048)              0         \n",
      "_________________________________________________________________\n",
      "dense (Dense)                (None, 36)                73764     \n",
      "=================================================================\n",
      "Total params: 23,655,204\n",
      "Trainable params: 23,602,084\n",
      "Non-trainable params: 53,120\n",
      "_________________________________________________________________\n"
     ]
    }
   ],
   "source": [
    "model_ex.summary()"
   ]
  },
  {
   "cell_type": "code",
   "execution_count": 104,
   "id": "464d5964",
   "metadata": {},
   "outputs": [],
   "source": [
    "x_test = np.expand_dims(testX , axis =0)"
   ]
  },
  {
   "cell_type": "code",
   "execution_count": 35,
   "id": "6cf7541a",
   "metadata": {},
   "outputs": [
    {
     "data": {
      "text/plain": [
       "(88491, 32, 32, 1)"
      ]
     },
     "execution_count": 35,
     "metadata": {},
     "output_type": "execute_result"
    }
   ],
   "source": [
    "testX.shape"
   ]
  },
  {
   "cell_type": "code",
   "execution_count": 36,
   "id": "2297796b",
   "metadata": {},
   "outputs": [],
   "source": [
    "yhat = model_ex.predict(testX)"
   ]
  },
  {
   "cell_type": "code",
   "execution_count": 37,
   "id": "2820b929",
   "metadata": {},
   "outputs": [
    {
     "data": {
      "text/plain": [
       "(88491, 36)"
      ]
     },
     "execution_count": 37,
     "metadata": {},
     "output_type": "execute_result"
    }
   ],
   "source": [
    "yhat.shape"
   ]
  },
  {
   "cell_type": "code",
   "execution_count": 46,
   "id": "35c883e7",
   "metadata": {},
   "outputs": [
    {
     "data": {
      "text/plain": [
       "22"
      ]
     },
     "execution_count": 46,
     "metadata": {},
     "output_type": "execute_result"
    }
   ],
   "source": [
    "np.argmax(yhat[3])"
   ]
  },
  {
   "cell_type": "code",
   "execution_count": 50,
   "id": "7d5daa9e",
   "metadata": {},
   "outputs": [
    {
     "data": {
      "text/plain": [
       "22"
      ]
     },
     "execution_count": 50,
     "metadata": {},
     "output_type": "execute_result"
    }
   ],
   "source": [
    "testY_1[3]"
   ]
  },
  {
   "cell_type": "code",
   "execution_count": 48,
   "id": "1fec8fc8",
   "metadata": {},
   "outputs": [],
   "source": [
    "testY_1 = le.inverse_transform(testY)"
   ]
  },
  {
   "cell_type": "code",
   "execution_count": 52,
   "id": "a718df47",
   "metadata": {},
   "outputs": [
    {
     "name": "stdout",
     "output_type": "stream",
     "text": [
      "0 predict : 24  0  target : 24 \n",
      "\n",
      "1 predict : 35  1  target : 35 \n",
      "\n",
      "2 predict : 29  2  target : 29 \n",
      "\n",
      "3 predict : 22  3  target : 22 \n",
      "\n",
      "4 predict : 4  4  target : 4 \n",
      "\n",
      "5 predict : 6  5  target : 6 \n",
      "\n",
      "6 predict : 30  6  target : 30 \n",
      "\n",
      "7 predict : 16  7  target : 16 \n",
      "\n",
      "8 predict : 12  8  target : 12 \n",
      "\n",
      "9 predict : 35  9  target : 35 \n",
      "\n"
     ]
    }
   ],
   "source": [
    "for i in range(10):\n",
    "    print(\"%d predict : %d  %d  target : %d \\n\"%(i , np.argmax(yhat[i]) , i , testY_1[i]) )"
   ]
  },
  {
   "cell_type": "code",
   "execution_count": 66,
   "id": "cc7543d4",
   "metadata": {},
   "outputs": [
    {
     "data": {
      "text/plain": [
       "<matplotlib.image.AxesImage at 0x25a1c591908>"
      ]
     },
     "execution_count": 66,
     "metadata": {},
     "output_type": "execute_result"
    },
    {
     "data": {
      "image/png": "[encoded data removed]",
      "text/plain": [
       "<Figure size 432x288 with 1 Axes>"
      ]
     },
     "metadata": {
      "needs_background": "light"
     },
     "output_type": "display_data"
    }
   ],
   "source": [
    "plt.imshow(testX[3])"
   ]
  },
  {
   "cell_type": "code",
   "execution_count": 67,
   "id": "ad0e04ba",
   "metadata": {},
   "outputs": [
    {
     "name": "stdout",
     "output_type": "stream",
     "text": [
      "22\n"
     ]
    }
   ],
   "source": [
    "print(np.argmax(yhat[3]))"
   ]
  },
  {
   "cell_type": "code",
   "execution_count": 68,
   "id": "2c0f3922",
   "metadata": {},
   "outputs": [
    {
     "data": {
      "text/plain": [
       "22"
      ]
     },
     "execution_count": 68,
     "metadata": {},
     "output_type": "execute_result"
    }
   ],
   "source": [
    "testY_1[3]"
   ]
  },
  {
   "cell_type": "code",
   "execution_count": null,
   "id": "35982375",
   "metadata": {},
   "outputs": [],
   "source": []
  }
 ],
 "metadata": {
  "kernelspec": {
   "display_name": "Python 3",
   "language": "python",
   "name": "python3"
  },
  "language_info": {
   "codemirror_mode": {
    "name": "ipython",
    "version": 3
   },
   "file_extension": ".py",
   "mimetype": "text/x-python",
   "name": "python",
   "nbconvert_exporter": "python",
   "pygments_lexer": "ipython3",
   "version": "3.6.13"
  },
  "papermill": {
   "default_parameters": {},
   "duration": 12441.954331,
   "end_time": "2022-02-19T17:19:21.890700",
   "environment_variables": {},
   "exception": null,
   "input_path": "__notebook__.ipynb",
   "output_path": "__notebook__.ipynb",
   "parameters": {},
   "start_time": "2022-02-19T13:51:59.936369",
   "version": "2.3.3"
  }
 },
 "nbformat": 4,
 "nbformat_minor": 5
}
