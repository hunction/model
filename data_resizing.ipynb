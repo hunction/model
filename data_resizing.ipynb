{
 "cells": [
  {
   "cell_type": "code",
   "execution_count": 1,
   "id": "a7ed1653",
   "metadata": {},
   "outputs": [],
   "source": [
    "import cv2"
   ]
  },
  {
   "cell_type": "code",
   "execution_count": 2,
   "id": "6ef15470",
   "metadata": {},
   "outputs": [],
   "source": [
    "def padding(img):\n",
    "    h,w,c = img.shape\n",
    "    \n",
    "    set_size = max(h,w)\n",
    "    \n",
    "    if (h >w):\n",
    "        delta_w = set_size -w\n",
    "        delta_h = h - set_size\n",
    "    elif (h < w):\n",
    "        delta_w = w - set_size\n",
    "        delta_h = set_size -h\n",
    "    elif (h ==w ):\n",
    "        return img\n",
    "    \n",
    "    top,bottom = delta_h//2 , delta_h-(delta_h//2)\n",
    "        \n",
    "    left , right = delta_w //2 , delta_w -(delta_w //2)\n",
    "        \n",
    "    new_img = cv2.copyMakeBorder(img,top,bottom,left,right,cv2.BORDER_CONSTANT,value = [0,0,0])\n",
    "    return new_img    \n",
    "    \n",
    "    "
   ]
  },
  {
   "cell_type": "code",
   "execution_count": 3,
   "id": "7f22e290",
   "metadata": {},
   "outputs": [],
   "source": [
    "img = cv2.imread('./testimg/minuscule/a/19.png')"
   ]
  },
  {
   "cell_type": "code",
   "execution_count": 10,
   "id": "3fd90af7",
   "metadata": {},
   "outputs": [
    {
     "name": "stdout",
     "output_type": "stream",
     "text": [
      "[[  0   0   0   0   0   0   0   0   0]\n",
      " [  0   0   0   0   0   0   0   0   0]\n",
      " [  0   0   0   0   0   0   0   0   0]\n",
      " [  0   0   0   0   0   0   0   0   0]\n",
      " [  0   0   0   0   0   0   0   0   0]\n",
      " [  0   0   0  44 214 221 102  24   0]\n",
      " [  0   0   1 208 139  84 251 102   0]\n",
      " [  0   0  68 219   3   0 175 104   0]\n",
      " [  0   0 140 134   0   0 175 106   0]\n",
      " [  0   0 195  77   0   0 201 110   0]\n",
      " [  0   0 242  34   0   0 239 119   0]\n",
      " [  0   8 255  15   0  35 255 130   0]\n",
      " [  0  13 255   1   0  97 255 151   0]\n",
      " [  0   2 251  10   0 177 198 176   0]\n",
      " [  0   0 220  34  27 235  48 219   0]\n",
      " [  0   0 155 112 170 120   0 203  74]\n",
      " [  0   0  47 236 154   1   0  66 238]\n",
      " [  0   0   0   0   0   0   0   0   0]\n",
      " [  0   0   0   0   0   0   0   0   0]\n",
      " [  0   0   0   0   0   0   0   0   0]\n",
      " [  0   0   0   0   0   0   0   0   0]\n",
      " [  0   0   0   0   0   0   0   0   0]\n",
      " [  0   0   0   0   0   0   0   0   0]\n",
      " [  0   0   0   0   0   0   0   0   0]\n",
      " [  0   0   0   0   0   0   0   0   0]\n",
      " [  0   0   0   0   0   0   0   0   0]\n",
      " [  0   0   0   0   0   0   0   0   0]\n",
      " [  0   0   0   0   0   0   0   0   0]]\n"
     ]
    }
   ],
   "source": [
    "print(img[:,:,2])"
   ]
  },
  {
   "cell_type": "code",
   "execution_count": 6,
   "id": "26dcaf08",
   "metadata": {},
   "outputs": [],
   "source": [
    "img_1 =padding(img)"
   ]
  },
  {
   "cell_type": "code",
   "execution_count": 7,
   "id": "410cb122",
   "metadata": {},
   "outputs": [
    {
     "data": {
      "text/plain": [
       "<matplotlib.image.AxesImage at 0x25a4d2380f0>"
      ]
     },
     "execution_count": 7,
     "metadata": {},
     "output_type": "execute_result"
    },
    {
     "data": {
      "image/png": "[encoded data removed]",
      "text/plain": [
       "<Figure size 432x288 with 1 Axes>"
      ]
     },
     "metadata": {
      "needs_background": "light"
     },
     "output_type": "display_data"
    }
   ],
   "source": [
    "plt.imshow(img_1)\n",
    "\n"
   ]
  },
  {
   "cell_type": "code",
   "execution_count": null,
   "id": "2c5221ca",
   "metadata": {},
   "outputs": [],
   "source": []
  }
 ],
 "metadata": {
  "kernelspec": {
   "display_name": "Python [conda env:idip_2021] *",
   "language": "python",
   "name": "conda-env-idip_2021-py"
  },
  "language_info": {
   "codemirror_mode": {
    "name": "ipython",
    "version": 3
   },
   "file_extension": ".py",
   "mimetype": "text/x-python",
   "name": "python",
   "nbconvert_exporter": "python",
   "pygments_lexer": "ipython3",
   "version": "3.6.13"
  }
 },
 "nbformat": 4,
 "nbformat_minor": 5
}
