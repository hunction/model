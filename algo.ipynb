{
 "cells": [
  {
   "cell_type": "code",
   "execution_count": 1,
   "id": "d2e8d6df",
   "metadata": {},
   "outputs": [],
   "source": [
    "import numpy as np\n",
    "import matplotlib.pyplot as plt\n",
    "import sympy as sp\n"
   ]
  },
  {
   "cell_type": "markdown",
   "id": "58da0dc0",
   "metadata": {},
   "source": [
    "연속된 문자 function에서 찾아 대응하기"
   ]
  },
  {
   "cell_type": "code",
   "execution_count": 106,
   "id": "1f722df0",
   "metadata": {},
   "outputs": [],
   "source": [
    "target=['{','l','o','g','4','(','x',')','+','integral','(','l','n','(','3','*','x',')',')','d','x','-','x','(','2','x','z','y','/','3',')','4','}']\n",
    ",\n",
    "function=['cos','sin','tan','f(x)','log','ln','C','P','e','cosh','sinh','tanh','integral','i']\n",
    "\n",
    "spfunction=['sp.cos','sp.sin','sp.tan','f(x)','log','ln','C','P','sp.exp','sp.cosh','sp.sinh','sp.tanh','integrate','sp.I']\n",
    "\n",
    "function2=['cos','sin','tan','cosh','sinh','tanh','log','ln']\n",
    "\n",
    "num = ['0','1','2','3','4','5','6','7','8','9']\n",
    "\n",
    "small_letter = [\"a\",\"b\",\"c\", \"d\",\"e\",\"f\",\"g\", \"h\",\"i\",\"j\",\"k\", \"l\",\"m\",\"n\",\"o\", \"p\",\"q\",\"r\",\"s\", \"t\",\"u\",\"v\",\"w\", \"x\",\"y\",\"z\"]\n",
    "\n",
    "large_letter = [\"A\",\"B\",\"C\", \"D\",\"E\",\"F\",\"G\", \"H\",\"I\",\"J\",\"K\", \"L\",\"M\",\"N\",\"O\", \"P\",\"Q\",\"R\",\"S\", \"T\",\"U\",\"V\",\"W\", \"X\",\"Y\",\"Z\"]\n",
    "\n",
    "letter = [\"a\",\"b\",\"c\", \"d\",\"e\",\"f\",\"g\", \"h\",\"i\",\"j\",\"k\", \"l\",\"m\",\"n\",\"o\", \"p\",\"q\",\"r\",\"s\", \"t\",\"u\",\"v\",\"w\", \"x\",\"y\",\"z\",\"A\",\"B\",\"C\", \"D\",\"E\",\"F\",\"G\", \"H\",\"I\",\"J\",\"K\", \"L\",\"M\",\"N\",\"O\", \"P\",\"Q\",\"R\",\"S\", \"T\",\"U\",\"V\",\"W\", \"X\",\"Y\",\"Z\"]\n",
    "\n",
    "index = ['/','=','!','integral','[','>=','>','{','(','-','*','+',']','<=','<','}',')']\n",
    "\n",
    "bracket = [\"[\",\"{\",\"(\",\")\",\"}\",\"]\"]"
   ]
  },
  {
   "cell_type": "code",
   "execution_count": 107,
   "id": "9a6b6d68",
   "metadata": {},
   "outputs": [
    {
     "name": "stdout",
     "output_type": "stream",
     "text": [
      "{log4(x)+integral(ln(3*x))dx-x(2xzy/3)4}\n"
     ]
    }
   ],
   "source": [
    "target1=''.join(target)\n",
    "print(target1)"
   ]
  },
  {
   "cell_type": "code",
   "execution_count": 108,
   "id": "cd9769d0",
   "metadata": {},
   "outputs": [],
   "source": [
    "string=[]"
   ]
  },
  {
   "cell_type": "code",
   "execution_count": 109,
   "id": "e79a049d",
   "metadata": {},
   "outputs": [],
   "source": [
    "count=len(target1)\n",
    "while count>0:\n",
    "    for i in range (len(target1)):\n",
    "            for j in range (len(function)):\n",
    "                if target1[:-i]==function[j]:\n",
    "                    string = np.append(string,target1[:-i])\n",
    "                    target1=target1[-i:]\n",
    "                    count=count-(len(target1)-i)\n",
    "                    i=0\n",
    "            \n",
    "                elif (len(target1[:-i])==1):\n",
    "                    string=np.append(string,target1[:-i])\n",
    "                    target1=target1[-i:]\n",
    "                    count=count-1\n",
    "                    i=0\n",
    "                \n",
    "                elif (len(target1)==1):\n",
    "                    string=np.append(string,target1)\n",
    "                    target1=[]\n",
    "                    count=0\n",
    "                    \n",
    "                    "
   ]
  },
  {
   "cell_type": "code",
   "execution_count": 110,
   "id": "73102b09",
   "metadata": {},
   "outputs": [
    {
     "name": "stdout",
     "output_type": "stream",
     "text": [
      "['{' 'log' '4' '(' 'x' ')' '+' 'integral' '(' 'ln' '(' '3' '*' 'x' ')' ')'\n",
      " 'd' 'x' '-' 'x' '(' '2' 'x' 'z' 'y' '/' '3' ')' '4' '}']\n"
     ]
    }
   ],
   "source": [
    "print(string)"
   ]
  },
  {
   "cell_type": "code",
   "execution_count": 111,
   "id": "ca4292bb",
   "metadata": {},
   "outputs": [],
   "source": [
    "string1=[]\n",
    "string2=[]\n",
    "string3=[]\n",
    "string4=[]\n",
    "string5=[]\n",
    "string6=[]\n",
    "string7=[]\n",
    "string8=[]\n",
    "for j in range(len(string)):\n",
    "    if string[j]==\"integral\" and string[j+1]==\"(\":\n",
    "        string[j]=\"integrate\"\n",
    "        for i in range(len(string)):\n",
    "            if string[i]==\")\" and string[i+1]==\"d\":\n",
    "                string1=np.append(string[:j+1],\"(\")\n",
    "                string[i+1]=\",\"\n",
    "                string2=np.append(string[j+1:i+3],\")\")\n",
    "                string3=np.append(string1,string2)\n",
    "                string=np.append(string3,string[i+3:])\n",
    "                break\n",
    "    elif string[j]==\"i\":\n",
    "        string[i]=\"I\"\n",
    "    elif string[j]==\"log\":\n",
    "        for h in range(j,len(string)):\n",
    "            if string[h]==\"(\":\n",
    "                for k in range(h,len(string)):\n",
    "                    if string[k]==\")\":\n",
    "                        string4=np.append(string[:j+1],string[h:k])\n",
    "                        string5=np.append(\",\",string[j+1:h])\n",
    "                        string6=np.append(string4,string5)\n",
    "                        string=np.append(string6,string[k:])\n",
    "                        break\n",
    "                break"
   ]
  },
  {
   "cell_type": "code",
   "execution_count": 112,
   "id": "9c8cba20",
   "metadata": {},
   "outputs": [
    {
     "name": "stdout",
     "output_type": "stream",
     "text": [
      "['{' 'log' '(' 'x' ',' '4' ')' '+' 'integrate' '(' '(' 'ln' '(' '3' '*'\n",
      " 'x' ')' ')' ',' 'x' ')' '-' 'x' '(' '2' 'x' 'z' 'y' '/' '3' ')' '4' '}']\n"
     ]
    }
   ],
   "source": [
    "print(string)"
   ]
  },
  {
   "cell_type": "markdown",
   "id": "2dd8fb16",
   "metadata": {},
   "source": [
    "알파벳 앞 뒤로 숫자가 있으면 그 사이에 * 추가"
   ]
  },
  {
   "cell_type": "code",
   "execution_count": 113,
   "id": "f01f25c0",
   "metadata": {},
   "outputs": [
    {
     "name": "stdout",
     "output_type": "stream",
     "text": [
      "*1\n"
     ]
    }
   ],
   "source": [
    "#test\n",
    "testarr = [\"x\",\"1\",\"0\"]\n",
    "testarr[1] = index[10]+testarr[1]\n",
    "print(testarr[1])"
   ]
  },
  {
   "cell_type": "code",
   "execution_count": 114,
   "id": "0d9d3629",
   "metadata": {},
   "outputs": [],
   "source": [
    "string1=[]\n",
    "\n",
    "for i in range(len(string)-1):\n",
    "    #알파벳 뒤에 숫자\n",
    "    for j in range(len(letter)):\n",
    "        for k in range(len(num)):\n",
    "            if (letter[j] == string[i]) and (num[k]==string[i+1]):\n",
    "                string1=np.append(string[:i+1],['*'])\n",
    "                string=np.append(string1,string[i+1:])\n",
    "            \n",
    "for i in range(1,len(string)):\n",
    "    #알파벳 앞에 숫자\n",
    "    for j in range(len(letter)):\n",
    "        for k in range(len(num)):\n",
    "            if (letter[j] == string[i]) and (num[k]==string[i-1]):\n",
    "                string1=np.append(string[:i],['*'])\n",
    "                string=np.append(string1,string[i:])\n",
    "            "
   ]
  },
  {
   "cell_type": "code",
   "execution_count": 115,
   "id": "76b1f069",
   "metadata": {},
   "outputs": [
    {
     "name": "stdout",
     "output_type": "stream",
     "text": [
      "['{' 'log' '(' 'x' ',' '4' ')' '+' 'integrate' '(' '(' 'ln' '(' '3' '*'\n",
      " 'x' ')' ')' ',' 'x' ')' '-' 'x' '(' '2' '*' 'x' 'z' 'y' '/' '3' ')' '4'\n",
      " '}']\n"
     ]
    }
   ],
   "source": [
    "print(string)"
   ]
  },
  {
   "cell_type": "markdown",
   "id": "cd07ddb5",
   "metadata": {},
   "source": [
    "여는 괄호 앞에 숫자, letter 오면 그 사이에 * 추가"
   ]
  },
  {
   "cell_type": "code",
   "execution_count": 116,
   "id": "475eadd9",
   "metadata": {},
   "outputs": [],
   "source": [
    "string1=[]\n",
    "string2=[]\n",
    "for i in range(len(string)-1):\n",
    "    for j in range(len(letter)):\n",
    "        if (letter[j] == string[i]) and (string[i+1]==bracket[0]):\n",
    "            string1=np.append(string[:i+1],['*'])\n",
    "            string=np.append(string1,string[i+1:])\n",
    "                \n",
    "        elif (letter[j] == string[i]) and (string[i+1]==bracket[1]):\n",
    "            string1=np.append(string[:i+1],['*'])\n",
    "            string=np.append(string1,string[i+1:])\n",
    "            \n",
    "        elif (letter[j] == string[i]) and (string[i+1]==bracket[2]):\n",
    "            string1=np.append(string[:i+1],['*'])\n",
    "            string=np.append(string1,string[i+1:])\n",
    "    \n",
    "    for k in range(len(num)):\n",
    "        if (num[k] == string[i]) and (string[i+1]==bracket[0]):\n",
    "            string2=np.append(string[:i+1],['*'])\n",
    "            string=np.append(string2,string[i+1:])\n",
    "                \n",
    "        elif (num[k] == string[i]) and (string[i+1]==bracket[1]):\n",
    "            string2=np.append(string[:i+1],['*'])\n",
    "            string=np.append(string2string[i+1:])\n",
    "            \n",
    "        elif (num[k] == string[i]) and (string[i+1]==bracket[2]):\n",
    "            string2np.append(string[:i+1],['*'])\n",
    "            string=np.append(string2string[i+1:])"
   ]
  },
  {
   "cell_type": "code",
   "execution_count": 117,
   "id": "f08738f3",
   "metadata": {},
   "outputs": [
    {
     "name": "stdout",
     "output_type": "stream",
     "text": [
      "['{' 'log' '(' 'x' ',' '4' ')' '+' 'integrate' '(' '(' 'ln' '(' '3' '*'\n",
      " 'x' ')' ')' ',' 'x' ')' '-' 'x' '*' '(' '2' '*' 'x' 'z' 'y' '/' '3' ')'\n",
      " '4' '}']\n"
     ]
    }
   ],
   "source": [
    "print(string)"
   ]
  },
  {
   "cell_type": "markdown",
   "id": "ac5888a1",
   "metadata": {},
   "source": [
    "닫는 괄호 뒤에 숫자,letter 오면 그 사이에 * 추가"
   ]
  },
  {
   "cell_type": "code",
   "execution_count": 118,
   "id": "0ce9e5de",
   "metadata": {},
   "outputs": [],
   "source": [
    "string1=[]\n",
    "\n",
    "for i in range(1,len(string)):\n",
    "    for j in range(len(letter)):\n",
    "        if (letter[j] == string[i]) and (string[i-1]==bracket[3]):\n",
    "            string1=np.append(string[:i],['*'])\n",
    "            string=np.append(string1,string[i:])\n",
    "                \n",
    "        elif (letter[j] == string[i]) and (string[i-1]==bracket[4]):\n",
    "            string1=np.append(string[:i],['*'])\n",
    "            string=np.append(string1,string[i:])\n",
    "            \n",
    "        elif (letter[j] == string[i]) and (string[i-1]==bracket[5]):\n",
    "            string1=np.append(string[:i],['*'])\n",
    "            string=np.append(string1,string[i:])\n",
    "    \n",
    "    for k in range(len(num)):\n",
    "        if (num[k] == string[i]) and (string[i-1]==bracket[3]):\n",
    "            string1=np.append(string[:i],['*'])\n",
    "            string=np.append(string1,string[i:])\n",
    "                \n",
    "        elif (num[k] == string[i]) and (string[i-1]==bracket[4]):\n",
    "            string1=np.append(string[:i],['*'])\n",
    "            string=np.append(string1,string[i:])\n",
    "            \n",
    "        elif (num[k] == string[i]) and (string[i-1]==bracket[5]):\n",
    "            string1=np.append(string[:i],['*'])\n",
    "            string=np.append(string1,string[i:])"
   ]
  },
  {
   "cell_type": "code",
   "execution_count": 119,
   "id": "7d1dbeca",
   "metadata": {},
   "outputs": [
    {
     "name": "stdout",
     "output_type": "stream",
     "text": [
      "['{' 'log' '(' 'x' ',' '4' ')' '+' 'integrate' '(' '(' 'ln' '(' '3' '*'\n",
      " 'x' ')' ')' ',' 'x' ')' '-' 'x' '*' '(' '2' '*' 'x' 'z' 'y' '/' '3' ')'\n",
      " '*' '4' '}']\n"
     ]
    }
   ],
   "source": [
    "print(string)"
   ]
  },
  {
   "cell_type": "markdown",
   "id": "9827e716",
   "metadata": {},
   "source": [
    "문자 와 문자 사이 생략된 * 추가"
   ]
  },
  {
   "cell_type": "code",
   "execution_count": 120,
   "id": "4ac6d9c2",
   "metadata": {},
   "outputs": [
    {
     "name": "stdout",
     "output_type": "stream",
     "text": [
      "['1', '2']\n",
      "['5', '6']\n",
      "['3', '4']\n",
      "['1', '2', '5', '6', '3', '4']\n"
     ]
    }
   ],
   "source": [
    "#test\n",
    "test=['1','2','3','4']\n",
    "test2=['5','6']\n",
    "print(test[:2])\n",
    "print(test2[:])\n",
    "print(test[2:])\n",
    "test=test[:2]+test2[:]+test[2:]\n",
    "print(test)"
   ]
  },
  {
   "cell_type": "code",
   "execution_count": 121,
   "id": "73ce8da7",
   "metadata": {},
   "outputs": [
    {
     "name": "stdout",
     "output_type": "stream",
     "text": [
      "['{' 'log' '(' 'x' ',' '4' ')' '+' 'integrate' '(' '(' 'ln' '(' '3' '*'\n",
      " 'x' ')' ')' ',' 'x' ')' '-' 'x' '*' '(' '2' '*' 'x' '*' 'z' '*' 'y' '/'\n",
      " '3' ')' '*' '4' '}']\n"
     ]
    }
   ],
   "source": [
    "for i in range(len(string)-1):\n",
    "    for j in range(len(letter)):\n",
    "        for k in range(len(letter)):\n",
    "            if (string[i]==letter[j])and(string[i+1]==letter[k]):\n",
    "                string1=[]\n",
    "                string1=np.append(string[:i+1],index[10])\n",
    "                string=np.append(string1,string[i+1:])\n",
    "                \n",
    "print(string)"
   ]
  },
  {
   "cell_type": "markdown",
   "id": "03b486f0",
   "metadata": {},
   "source": [
    "삼각함수 혹은 로그 뒤에 괄호 없으면 삽입 요청"
   ]
  },
  {
   "cell_type": "code",
   "execution_count": 122,
   "id": "47f80361",
   "metadata": {},
   "outputs": [
    {
     "name": "stdout",
     "output_type": "stream",
     "text": [
      "\n",
      "삼각함수와 로그함수 내부값은 괄호로 묶어 주십시오\n",
      "\n",
      "\n",
      "삼각함수와 로그함수 내부값은 괄호로 묶어 주십시오\n",
      "\n",
      "\n",
      "삼각함수와 로그함수 내부값은 괄호로 묶어 주십시오\n",
      "\n",
      "\n",
      "삼각함수와 로그함수 내부값은 괄호로 묶어 주십시오\n",
      "\n"
     ]
    }
   ],
   "source": [
    "for i in range(len(string)-1):\n",
    "    for j in range(len(function2)):\n",
    "        for k in range(3):\n",
    "            if string[i] == function[j] and string[i+1] != bracket[k]:\n",
    "                print(\"\\n삼각함수와 로그함수 내부값은 괄호로 묶어 주십시오\\n\")\n",
    "        "
   ]
  },
  {
   "cell_type": "markdown",
   "id": "e428d0e3",
   "metadata": {},
   "source": [
    "=이 들어왔을때 양 옆으로 수식이 존재하면 방정식을 한쪽으로 정리해서 작성해달라고 요청\n",
    "=뒤에 아무런 값이 없을 경우 =을 지워서 저장"
   ]
  },
  {
   "cell_type": "code",
   "execution_count": 123,
   "id": "b87a9c02",
   "metadata": {},
   "outputs": [],
   "source": [
    "if string[0] == \"=\":\n",
    "    string=string[1:]\n",
    "elif string[-1]==\"=\":\n",
    "    string=string[:-1]\n",
    "    \n",
    "for i in range(1,len(string)-1):\n",
    "    if string[i]==\"=\":\n",
    "        print(\"좌항 우항을 정리하여 한쪽으로 몰아주세요\")"
   ]
  },
  {
   "cell_type": "markdown",
   "id": "feabb582",
   "metadata": {},
   "source": [
    "수식화 하기"
   ]
  },
  {
   "cell_type": "code",
   "execution_count": 124,
   "id": "6d71c705",
   "metadata": {},
   "outputs": [
    {
     "name": "stdout",
     "output_type": "stream",
     "text": [
      "{log(x,4)+integrate((ln(3*x)),x)-x*(2*x*z*y/3)*4}\n",
      "['{log(x,4)+integrate((ln(3*x)),x)-x*(2*x*z*y/3)*4}']\n"
     ]
    }
   ],
   "source": [
    "arr=''.join(string)\n",
    "arr2=[]\n",
    "arr2=np.append(arr2,arr)\n",
    "print(arr)\n",
    "\n",
    "print(arr2)"
   ]
  },
  {
   "cell_type": "markdown",
   "id": "dcfff90a",
   "metadata": {},
   "source": [
    "sympy에 넣어보기"
   ]
  },
  {
   "cell_type": "code",
   "execution_count": 125,
   "id": "5b743c88",
   "metadata": {},
   "outputs": [],
   "source": [
    "a,b,c,d,f,g,h,j,k,l,m,n,o,p,q,r,s,t,u,v,w,x,y,z,A,B,D,E,F,G,H,I,J,K,L,M,N,O,Q,R,S,T,U,V,W,X,Y,Z = sp.symbols(\"a b c d f g h j k l m n o p q r s t u v w x y z A B D E F G H I J K L M N O Q R S T U V W X Y Z\")"
   ]
  },
  {
   "cell_type": "code",
   "execution_count": 126,
   "id": "e84d6e0c",
   "metadata": {},
   "outputs": [],
   "source": [
    "expr=sp.sympify(arr2[0])"
   ]
  },
  {
   "cell_type": "code",
   "execution_count": 127,
   "id": "ffbd7dc6",
   "metadata": {},
   "outputs": [
    {
     "data": {
      "text/plain": [
       "{-8*x**2*y*z/3 + x*log(3*x) - x + log(x)/log(4)}"
      ]
     },
     "execution_count": 127,
     "metadata": {},
     "output_type": "execute_result"
    }
   ],
   "source": [
    "expr"
   ]
  },
  {
   "cell_type": "code",
   "execution_count": 128,
   "id": "8b4b68ce",
   "metadata": {},
   "outputs": [],
   "source": [
    "exprk=sp.simplify(expr)"
   ]
  },
  {
   "cell_type": "code",
   "execution_count": 132,
   "id": "53d5cc5f",
   "metadata": {},
   "outputs": [
    {
     "data": {
      "text/latex": [
       "$\\displaystyle \\left\\{-4112 + \\frac{\\log{\\left(16 \\right)}}{\\log{\\left(4 \\right)}} + 16 \\log{\\left(48 \\right)}\\right\\}$"
      ],
      "text/plain": [
       "FiniteSet(-4112 + log(16)/log(4) + 16*log(48))"
      ]
     },
     "execution_count": 132,
     "metadata": {},
     "output_type": "execute_result"
    }
   ],
   "source": [
    "exprk.subs([(x,16),(y,2),(z,3)])"
   ]
  },
  {
   "cell_type": "code",
   "execution_count": 131,
   "id": "db2cb9c1",
   "metadata": {},
   "outputs": [
    {
     "data": {
      "text/latex": [
       "$\\displaystyle \\left\\{-4048.06078382547\\right\\}$"
      ],
      "text/plain": [
       "FiniteSet(-4048.06078382547)"
      ]
     },
     "execution_count": 131,
     "metadata": {},
     "output_type": "execute_result"
    }
   ],
   "source": [
    "exprk.subs([(x,16),(y,2),(z,3)]).evalf()"
   ]
  },
  {
   "cell_type": "code",
   "execution_count": 140,
   "id": "f80cf24c",
   "metadata": {},
   "outputs": [],
   "source": [
    "exprg=sp.sympify(\"cos(x)+0.7\")\n",
    "exprg2=sp.sympify(\"sin(x)+1\")"
   ]
  },
  {
   "cell_type": "code",
   "execution_count": 148,
   "id": "b2c1abef",
   "metadata": {},
   "outputs": [
    {
     "data": {
      "image/png": "[encoded data removed]",
      "text/plain": [
       "<Figure size 432x288 with 1 Axes>"
      ]
     },
     "metadata": {
      "needs_background": "light"
     },
     "output_type": "display_data"
    },
    {
     "data": {
      "text/plain": [
       "<sympy.plotting.plot.Plot at 0x1bded2fb790>"
      ]
     },
     "execution_count": 148,
     "metadata": {},
     "output_type": "execute_result"
    }
   ],
   "source": [
    "sp.plot(exprg,exprg2)"
   ]
  },
  {
   "cell_type": "code",
   "execution_count": null,
   "id": "5b672501",
   "metadata": {},
   "outputs": [],
   "source": []
  }
 ],
 "metadata": {
  "kernelspec": {
   "display_name": "Python 3",
   "language": "python",
   "name": "python3"
  },
  "language_info": {
   "codemirror_mode": {
    "name": "ipython",
    "version": 3
   },
   "file_extension": ".py",
   "mimetype": "text/x-python",
   "name": "python",
   "nbconvert_exporter": "python",
   "pygments_lexer": "ipython3",
   "version": "3.6.13"
  }
 },
 "nbformat": 4,
 "nbformat_minor": 5
}
