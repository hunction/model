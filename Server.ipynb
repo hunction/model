{
 "cells": [
  {
   "cell_type": "code",
   "execution_count": null,
   "id": "0c822b86",
   "metadata": {},
   "outputs": [
    {
     "name": "stdout",
     "output_type": "stream",
     "text": [
      "기다리는 중..\n"
     ]
    }
   ],
   "source": [
    "import socket\n",
    "import time\n",
    "\n",
    "host = '192.168.0.3' # 호스트 ip를 적어주세요\n",
    "port = 8080            # 포트번호를 임의로 설정해주세요\n",
    "\n",
    "server_sock = socket.socket(socket.AF_INET)\n",
    "server_sock.bind((host, port))\n",
    "server_sock.listen(1)\n",
    "print(\"기다리는 중..\")\n",
    "out_data = int(10)\n",
    "\n",
    "while True: #안드로이드에서 연결 버튼 누를 때까지 기다림\n",
    "    client_sock, addr = server_sock.accept() # 연결 승인\n",
    "\n",
    "    if client_sock: #client_sock 가 null 값이 아니라면 (연결 승인 되었다면)\n",
    "        print('Connected by?!', addr) #연결주소 print\n",
    "        in_data = client_sock.recv(1024) #안드로이드에서 \"refresh\" 전송\n",
    "        print('rcv :', in_data.decode(\"utf-8\"), len(in_data)) #전송 받은값 디코딩\n",
    "\n",
    "        while in_data : #2초마다 안드로이드에 값을 전달함 (추후 , STOP , Connect 옵션 설정 가능)\n",
    "            client_sock.send(str(out_data).encode(\"utf-8\")) # int 값을 string 으로 인코딩해서 전송, byte 로 전송하면 복잡함\n",
    "            print('send :', out_data)\n",
    "            out_data = out_data+1 #전송값 +1\n",
    "            time.sleep(2)\n",
    "\n",
    "client_sock.close()\n",
    "server_sock.close()"
   ]
  },
  {
   "cell_type": "code",
   "execution_count": null,
   "id": "04ed99df",
   "metadata": {},
   "outputs": [],
   "source": []
  }
 ],
 "metadata": {
  "kernelspec": {
   "display_name": "Python [conda env:idip_2021] *",
   "language": "python",
   "name": "conda-env-idip_2021-py"
  },
  "language_info": {
   "codemirror_mode": {
    "name": "ipython",
    "version": 3
   },
   "file_extension": ".py",
   "mimetype": "text/x-python",
   "name": "python",
   "nbconvert_exporter": "python",
   "pygments_lexer": "ipython3",
   "version": "3.6.13"
  }
 },
 "nbformat": 4,
 "nbformat_minor": 5
}
