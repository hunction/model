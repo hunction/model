{
 "cells": [
  {
   "cell_type": "code",
   "execution_count": 1,
   "id": "692bff55",
   "metadata": {},
   "outputs": [
    {
     "name": "stderr",
     "output_type": "stream",
     "text": [
      "C:\\ProgramData\\Anaconda3\\envs\\idip_2021\\lib\\site-packages\\tqdm\\auto.py:22: TqdmWarning: IProgress not found. Please update jupyter and ipywidgets. See https://ipywidgets.readthedocs.io/en/stable/user_install.html\n",
      "  from .autonotebook import tqdm as notebook_tqdm\n"
     ]
    },
    {
     "name": "stdout",
     "output_type": "stream",
     "text": [
      "using cuda device\n",
      "Device: cuda\n",
      "Current cuda device: 0\n",
      "Count of using GPUs: 1\n"
     ]
    }
   ],
   "source": [
    "import os\n",
    "import gc\n",
    "import matplotlib.pyplot as plt\n",
    "import glob\n",
    "from tensorflow.keras.datasets import mnist\n",
    "import numpy as np\n",
    "import pandas as pd\n",
    "from sklearn.preprocessing import LabelBinarizer\n",
    "from sklearn.model_selection import train_test_split\n",
    "import sympy as sp\n",
    "\n",
    "import tensorflow as tf\n",
    "import tensorflow_addons as tfa\n",
    "from tensorflow.keras.models import Sequential, Model\n",
    "from tensorflow.keras.preprocessing.image import ImageDataGenerator\n",
    "from tensorflow.keras.layers import Dense, Dropout, Activation, Input, BatchNormalization, GlobalAveragePooling2D\n",
    "from tensorflow.keras import layers\n",
    "from tensorflow.keras.callbacks import ModelCheckpoint, ReduceLROnPlateau, EarlyStopping\n",
    "from tensorflow.keras.experimental import CosineDecay\n",
    "from tensorflow.keras.utils import to_categorical\n",
    "from tensorflow.keras.applications import ResNet50V2, ResNet50\n",
    "from tensorflow.keras.layers.experimental.preprocessing import RandomCrop,CenterCrop, RandomRotation\n",
    "from tensorflow.keras.applications import EfficientNetB0\n",
    "from keras.models import load_model\n",
    "import cv2\n",
    "import torch\n",
    "device = \"cuda\" if torch.cuda.is_available() else \"cpu\"\n",
    "print(\"using {} device\".format(device))\n",
    "\n",
    "os.environ[\"CUDA_DEVICE_ORDER\"]=\"PCI_BUS_ID\" \n",
    "os.environ[\"CUDA_VISIBLE_DEVICES\"]= \"1\"\n",
    "\n",
    "device = torch.device(\"cuda\" if torch.cuda.is_available() else \"cpu\")\n",
    "\n",
    "print('Device:', device)\n",
    "print('Current cuda device:', torch.cuda.current_device())\n",
    "print('Count of using GPUs:', torch.cuda.device_count())"
   ]
  },
  {
   "cell_type": "code",
   "execution_count": 2,
   "id": "c89336f0",
   "metadata": {},
   "outputs": [],
   "source": [
    "def padding(img):\n",
    "    h,w,c = img.shape\n",
    "    \n",
    "    set_size = max(h,w)\n",
    "    \n",
    "    if (h >w):\n",
    "        delta_w = set_size -w\n",
    "        delta_h = h - set_size\n",
    "    elif (h < w):\n",
    "        delta_w = w - set_size\n",
    "        delta_h = set_size -h\n",
    "    elif (h == w ):\n",
    "        return img\n",
    "    \n",
    "    top,bottom = delta_h//2 , delta_h-(delta_h//2)\n",
    "        \n",
    "    left , right = delta_w //2 , delta_w -(delta_w //2)\n",
    "        \n",
    "    new_img = cv2.copyMakeBorder(img,top,bottom,left,right,cv2.BORDER_CONSTANT,value = [0,0,0])\n",
    "    \n",
    "    return new_img    "
   ]
  },
  {
   "cell_type": "code",
   "execution_count": 6,
   "id": "b0592774",
   "metadata": {},
   "outputs": [
    {
     "name": "stdout",
     "output_type": "stream",
     "text": [
      "['./examples\\\\s1.PNG', './examples\\\\s2.PNG', './examples\\\\s3.PNG', './examples\\\\s4.PNG', './examples\\\\s5.PNG', './examples\\\\s6.PNG', './examples\\\\s7.png', './examples\\\\s8.png']\n"
     ]
    }
   ],
   "source": [
    "images = sorted(glob.glob('./examples/*.png'))#test image를 모두 불러와 pre-processing하는 과정\n",
    "z = 1\n",
    "for k in images:\n",
    "    s = plt.imread(k)\n",
    "    s = s[:,:,2] * 255\n",
    "    s = 255-s\n",
    "    for a in range(len(s)):\n",
    "        for b in range(len(s[0,:])):\n",
    "            if s[a,b]<50:\n",
    "                s[a,b]=0\n",
    "    \n",
    "    \n",
    "    new_s = np.zeros((s.shape[0] , s.shape[1] + 10))\n",
    "    new_s[:,:-10] = s\n",
    "    \n",
    "    i = 0\n",
    "    j = 0\n",
    "    \n",
    "    \n",
    "    for j in range(len(new_s[0,:])-1):\n",
    "        if (new_s[:,j]==0).all() and (new_s[:,j+1]>0).any():\n",
    "          \n",
    "            for i in range(j+1,len(new_s[0,:])-1):\n",
    "                if (new_s[:,i]>0).any() and (new_s[:,i+1]==0).all() :\n",
    "                    img1 = new_s[:, j:i]\n",
    "                    cv2.imwrite('./examples/cut_imgs/%d/a%d.png' % ( z ,i ) , img1)\n",
    "                  \n",
    "    z = z+1  "
   ]
  },
  {
   "cell_type": "code",
   "execution_count": 4,
   "id": "69e74e9d",
   "metadata": {},
   "outputs": [],
   "source": [
    "y = 0\n",
    "z = 1\n",
    "for y in range(6):\n",
    "    \n",
    "    imgs = sorted(glob.glob('./examples/cut_imgs/%d/*'%(y+1)), key=os.path.getctime)\n",
    "    z = 1\n",
    "                         \n",
    "    for l in imgs:\n",
    "        org = plt.imread(l)\n",
    "        org = org*255\n",
    "        new = np.zeros((org.shape[0]+10 , org.shape[1]))\n",
    "        new[5:-5,:] = org\n",
    "       \n",
    "        e = 0\n",
    "        f = 1\n",
    "        \n",
    "        for f in range(len(new)-1):\n",
    "            if (new[f,:]==0).all() and (new[f+1,:]>0).any():\n",
    "                start = f\n",
    "                for e in range(len(new)-1):\n",
    "                    if (new[-(e+1),:]==0).all() and (new[-(e+2),:]>0).any() :\n",
    "                        end = len(new) - e                      \n",
    "                        break\n",
    "                break        \n",
    "                        \n",
    "        org1 = new[start-1:end+1 ,]\n",
    "        cv2.imwrite('./examples/slicing_imgs/%d/%d.png' % ( y+1 , z ) , org1)\n",
    "        z = z+1\n",
    "        "
   ]
  },
  {
   "cell_type": "code",
   "execution_count": 3,
   "id": "8e07c015",
   "metadata": {},
   "outputs": [],
   "source": [
    "test = sorted(glob.glob('./examples/slicing_imgs/4/*.png'), key=os.path.getctime)  #split한 test image들을 불러옴\n",
    "X =[]\n",
    "for prd in test:\n",
    "    data = cv2.imread(prd)\n",
    "    data = padding(data)\n",
    "    data = data[:,:,2]\n",
    "    data = cv2.resize(data, dsize=(28, 28),interpolation=cv2.INTER_CUBIC)\n",
    "    X.append(data) # 각각의 image data를 갖는 X배열 생성\n",
    "    \n",
    "    \n",
    "X = [cv2.resize(image, (32, 32)) for image in X] # model에 넣기 위한 data 변환과정\n",
    "X = np.array(X, dtype=\"float32\")\n",
    "X = np.expand_dims(X, axis=-1)\n",
    "X /= 255.0\n"
   ]
  },
  {
   "cell_type": "code",
   "execution_count": 4,
   "id": "2c971734",
   "metadata": {},
   "outputs": [
    {
     "name": "stdout",
     "output_type": "stream",
     "text": [
      "(13, 32, 32, 1)\n"
     ]
    }
   ],
   "source": [
    "print(X.shape)"
   ]
  },
  {
   "cell_type": "code",
   "execution_count": 10,
   "id": "c86e3b5a",
   "metadata": {},
   "outputs": [],
   "source": [
    "model_all = load_model('Restnet_all.h5')\n",
    "#model_multi = load_model('Resnet_multi.h5')\n",
    "#model_A_Z = load_model('Resnet_Big.h5')\n",
    "#model_mnist = load_model('Resnet_mnist.h5')\n",
    "#model_a_z = load_model('ResNet_small.h5')\n",
    "#model_Index = load_model('ResNet_index.h5')"
   ]
  },
  {
   "cell_type": "code",
   "execution_count": 6,
   "id": "2b08cabe",
   "metadata": {},
   "outputs": [
    {
     "name": "stdout",
     "output_type": "stream",
     "text": [
      "(13, 32, 32, 1)\n"
     ]
    }
   ],
   "source": [
    "print(X.shape)"
   ]
  },
  {
   "cell_type": "code",
   "execution_count": 7,
   "id": "945a832e",
   "metadata": {},
   "outputs": [],
   "source": [
    "Index = [\"/\" , \"=\" , \"!\" , \"Integral\" ,\"[\" , \">=\" , \">\" , \"{\" , \"(\" , \"-\" , \"*\",\"+\",\"]\",\"<=\",\"<\",\"}\",\")\"]"
   ]
  },
  {
   "cell_type": "code",
   "execution_count": 11,
   "id": "cd710a76",
   "metadata": {},
   "outputs": [],
   "source": [
    "y_hat = model_all.predict(X)#test image의 target값을 predict\n",
    "target = []\n",
    "# target값을 정수형으로 반환\n",
    "for i in range(len(y_hat)):\n",
    "    target.append(np.argmax(y_hat[i]))\n",
    "\n",
    "for j in range(len(target)):\n",
    "    if target[j] <10:\n",
    "        target[j] = \"%d\" % target[j]\n",
    "    \n",
    "    elif (9 < target[j] and target[j] <62):\n",
    "        target[j] = \"%c\" %(55+target[j])\n",
    "        \n",
    "    elif target[j] >61:\n",
    "        target[j] = Index[target[j]-62]\n",
    "        \n",
    "    else:\n",
    "        print(\"out of bound\")\n",
    "        \n",
    "# 0~9 : 숫자\n",
    "# 10~35 : 대문자 Alphabet A~Z\n",
    "# 36~61 : 소문자 Alphabet a~z\n",
    "# 62~78 : 기호  /, =, ! , integral, [ ,>=, > , { , ( , - , * , + , ] , <= , < , } , ) \n",
    "# 총 79개의 Index"
   ]
  },
  {
   "cell_type": "code",
   "execution_count": 12,
   "id": "e72be3e8",
   "metadata": {},
   "outputs": [
    {
     "name": "stdout",
     "output_type": "stream",
     "text": [
      "['{', 'f', '1', 'X', '-', '(', '2', 'k', '/', '3', ')', '}', '=']\n"
     ]
    }
   ],
   "source": [
    "print(target) # 0: 숫자  1: 대문자  2: 소문자  3:  특수문자 "
   ]
  },
  {
   "cell_type": "code",
   "execution_count": 13,
   "id": "9fd2bfdc",
   "metadata": {},
   "outputs": [
    {
     "data": {
      "text/plain": [
       "<matplotlib.image.AxesImage at 0x29d3a09d6a0>"
      ]
     },
     "execution_count": 13,
     "metadata": {},
     "output_type": "execute_result"
    },
    {
     "data": {
      "image/png": "[encoded data removed]",
      "text/plain": [
       "<Figure size 432x288 with 1 Axes>"
      ]
     },
     "metadata": {
      "needs_background": "light"
     },
     "output_type": "display_data"
    }
   ],
   "source": [
    "test_img = plt.imread('./examples/s4.png')\n",
    "plt.imshow(test_img)"
   ]
  },
  {
   "cell_type": "code",
   "execution_count": 16,
   "id": "0cb8e020",
   "metadata": {},
   "outputs": [
    {
     "name": "stdout",
     "output_type": "stream",
     "text": [
      "['{', 'f', '1', 'X', '-', '(', '2', 'k', '/', '3', ')', '}']\n"
     ]
    }
   ],
   "source": [
    "target = target[:-1]\n",
    "print(target)"
   ]
  },
  {
   "cell_type": "code",
   "execution_count": 17,
   "id": "de262b15",
   "metadata": {},
   "outputs": [],
   "source": [
    "function=['cos','sin','tan','f(x)','log','ln','C','P','e','cosh','sinh','tanh','integral','i']\n",
    "\n",
    "spfunction=['sp.cos','sp.sin','sp.tan','f(x)','log','ln','C','P','sp.exp','sp.cosh','sp.sinh','sp.tanh','integrate','sp.I']\n",
    "\n",
    "function2=['cos','sin','tan','cosh','sinh','tanh','log','ln']\n",
    "\n",
    "num = ['0','1','2','3','4','5','6','7','8','9']\n",
    "\n",
    "small_letter = [\"a\",\"b\",\"c\", \"d\",\"e\",\"f\",\"g\", \"h\",\"i\",\"j\",\"k\", \"l\",\"m\",\"n\",\"o\", \"p\",\"q\",\"r\",\"s\", \"t\",\"u\",\"v\",\"w\", \"x\",\"y\",\"z\"]\n",
    "\n",
    "large_letter = [\"A\",\"B\",\"C\", \"D\",\"E\",\"F\",\"G\", \"H\",\"I\",\"J\",\"K\", \"L\",\"M\",\"N\",\"O\", \"P\",\"Q\",\"R\",\"S\", \"T\",\"U\",\"V\",\"W\", \"X\",\"Y\",\"Z\"]\n",
    "\n",
    "letter = [\"a\",\"b\",\"c\", \"d\",\"e\",\"f\",\"g\", \"h\",\"i\",\"j\",\"k\", \"l\",\"m\",\"n\",\"o\", \"p\",\"q\",\"r\",\"s\", \"t\",\"u\",\"v\",\"w\", \"x\",\"y\",\"z\",\"A\",\"B\",\"C\", \"D\",\"E\",\"F\",\"G\", \"H\",\"I\",\"J\",\"K\", \"L\",\"M\",\"N\",\"O\", \"P\",\"Q\",\"R\",\"S\", \"T\",\"U\",\"V\",\"W\", \"X\",\"Y\",\"Z\"]\n",
    "\n",
    "bracket = [\"[\",\"{\",\"(\",\")\",\"}\",\"]\"]"
   ]
  },
  {
   "cell_type": "code",
   "execution_count": 18,
   "id": "4080585b",
   "metadata": {},
   "outputs": [],
   "source": [
    "target1=''.join(target)\n",
    "string=[]\n",
    "count=len(target1)\n",
    "\n",
    "# function algorithm\n",
    "while count>0:\n",
    "    for i in range (len(target1)):\n",
    "            for j in range (len(function)):\n",
    "                if target1[:-i]==function[j]:\n",
    "                    string = np.append(string,target1[:-i])\n",
    "                    target1=target1[-i:]\n",
    "                    count=count-(len(target1)-i)\n",
    "                    i=0\n",
    "            \n",
    "                elif (len(target1[:-i])==1):\n",
    "                    string=np.append(string,target1[:-i])\n",
    "                    target1=target1[-i:]\n",
    "                    count=count-1\n",
    "                    i=0\n",
    "                \n",
    "                elif (len(target1)==1):\n",
    "                    string=np.append(string,target1)\n",
    "                    target1=[]\n",
    "                    count=0"
   ]
  },
  {
   "cell_type": "code",
   "execution_count": 19,
   "id": "16a58a0e",
   "metadata": {},
   "outputs": [],
   "source": [
    "string1=[]\n",
    "string2=[]\n",
    "string3=[]\n",
    "string4=[]\n",
    "string5=[]\n",
    "string6=[]\n",
    "string7=[]\n",
    "string8=[]\n",
    "# integral to integrate\n",
    "for j in range(len(string)):\n",
    "    if string[j]==\"integral\" and string[j+1]==\"(\":\n",
    "        string[j]=\"integrate\"\n",
    "        for i in range(len(string)):\n",
    "            if string[i]==\")\" and string[i+1]==\"d\":\n",
    "                string1=np.append(string[:j+1],\"(\")\n",
    "                string[i+1]=\",\"\n",
    "                string2=np.append(string[j+1:i+3],\")\")\n",
    "                string3=np.append(string1,string2)\n",
    "                string=np.append(string3,string[i+3:])\n",
    "                break\n",
    "    elif string[j]==\"i\":\n",
    "        string[i]=\"I\"\n",
    "    elif string[j]==\"log\":\n",
    "        for h in range(j,len(string)):\n",
    "            if string[h]==\"(\":\n",
    "                for k in range(h,len(string)):\n",
    "                    if string[k]==\")\":\n",
    "                        string4=np.append(string[:j+1],string[h:k])\n",
    "                        string5=np.append(\",\",string[j+1:h])\n",
    "                        string6=np.append(string4,string5)\n",
    "                        string=np.append(string6,string[k:])\n",
    "                        break\n",
    "                break"
   ]
  },
  {
   "cell_type": "code",
   "execution_count": 20,
   "id": "6c1a00f6",
   "metadata": {},
   "outputs": [],
   "source": [
    "string1=[]\n",
    "\n",
    "for i in range(len(string)-1):\n",
    "    #알파벳 뒤에 숫자\n",
    "    for j in range(len(letter)):\n",
    "        for k in range(len(num)):\n",
    "            if (letter[j] == string[i]) and (num[k]==string[i+1]):\n",
    "                string1=np.append(string[:i+1],['*'])\n",
    "                string=np.append(string1,string[i+1:])\n",
    "            \n",
    "for i in range(1,len(string)):\n",
    "    #알파벳 앞에 숫자\n",
    "    for j in range(len(letter)):\n",
    "        for k in range(len(num)):\n",
    "            if (letter[j] == string[i]) and (num[k]==string[i-1]):\n",
    "                string1=np.append(string[:i],['*'])\n",
    "                string=np.append(string1,string[i:])"
   ]
  },
  {
   "cell_type": "code",
   "execution_count": 21,
   "id": "0625f0aa",
   "metadata": {},
   "outputs": [],
   "source": [
    "string1=[]\n",
    "string2=[]\n",
    "for i in range(len(string)-1):\n",
    "    for j in range(len(letter)):\n",
    "        if (letter[j] == string[i]) and (string[i+1]==bracket[0]):\n",
    "            string1=np.append(string[:i+1],['*'])\n",
    "            string=np.append(string1,string[i+1:])\n",
    "                \n",
    "        elif (letter[j] == string[i]) and (string[i+1]==bracket[1]):\n",
    "            string1=np.append(string[:i+1],['*'])\n",
    "            string=np.append(string1,string[i+1:])\n",
    "            \n",
    "        elif (letter[j] == string[i]) and (string[i+1]==bracket[2]):\n",
    "            string1=np.append(string[:i+1],['*'])\n",
    "            string=np.append(string1,string[i+1:])\n",
    "    \n",
    "    for k in range(len(num)):\n",
    "        if (num[k] == string[i]) and (string[i+1]==bracket[0]):\n",
    "            string2=np.append(string[:i+1],['*'])\n",
    "            string=np.append(string2,string[i+1:])\n",
    "                \n",
    "        elif (num[k] == string[i]) and (string[i+1]==bracket[1]):\n",
    "            string2=np.append(string[:i+1],['*'])\n",
    "            string=np.append(string2string[i+1:])\n",
    "            \n",
    "        elif (num[k] == string[i]) and (string[i+1]==bracket[2]):\n",
    "            string2np.append(string[:i+1],['*'])\n",
    "            string=np.append(string2string[i+1:])"
   ]
  },
  {
   "cell_type": "code",
   "execution_count": 22,
   "id": "8b06bafb",
   "metadata": {},
   "outputs": [],
   "source": [
    "string1=[]\n",
    "\n",
    "for i in range(1,len(string)):\n",
    "    for j in range(len(letter)):\n",
    "        if (letter[j] == string[i]) and (string[i-1]==bracket[3]):\n",
    "            string1=np.append(string[:i],['*'])\n",
    "            string=np.append(string1,string[i:])\n",
    "                \n",
    "        elif (letter[j] == string[i]) and (string[i-1]==bracket[4]):\n",
    "            string1=np.append(string[:i],['*'])\n",
    "            string=np.append(string1,string[i:])\n",
    "            \n",
    "        elif (letter[j] == string[i]) and (string[i-1]==bracket[5]):\n",
    "            string1=np.append(string[:i],['*'])\n",
    "            string=np.append(string1,string[i:])\n",
    "    \n",
    "    for k in range(len(num)):\n",
    "        if (num[k] == string[i]) and (string[i-1]==bracket[3]):\n",
    "            string1=np.append(string[:i],['*'])\n",
    "            string=np.append(string1,string[i:])\n",
    "                \n",
    "        elif (num[k] == string[i]) and (string[i-1]==bracket[4]):\n",
    "            string1=np.append(string[:i],['*'])\n",
    "            string=np.append(string1,string[i:])\n",
    "            \n",
    "        elif (num[k] == string[i]) and (string[i-1]==bracket[5]):\n",
    "            string1=np.append(string[:i],['*'])\n",
    "            string=np.append(string1,string[i:])"
   ]
  },
  {
   "cell_type": "code",
   "execution_count": 23,
   "id": "0fc19ca0",
   "metadata": {},
   "outputs": [],
   "source": [
    "#문자 문자 곱셈\n",
    "for i in range(len(string)-1):\n",
    "    for j in range(len(letter)):\n",
    "        for k in range(len(letter)):\n",
    "            if (string[i]==letter[j])and(string[i+1]==letter[k]):\n",
    "                string1=[]\n",
    "                string1=np.append(string[:i+1],index[10])\n",
    "                string=np.append(string1,string[i+1:])"
   ]
  },
  {
   "cell_type": "code",
   "execution_count": 24,
   "id": "f7cd1338",
   "metadata": {},
   "outputs": [],
   "source": [
    "#sympy 사용전 수식화\n",
    "arr=''.join(string)\n",
    "arr2=[]\n",
    "arr2=np.append(arr2,arr)"
   ]
  },
  {
   "cell_type": "code",
   "execution_count": 25,
   "id": "b6bc4dfe",
   "metadata": {},
   "outputs": [],
   "source": [
    "#sympy 변수지정 : C P i e 네개 제외\n",
    "a,b,c,d,f,g,h,j,k,l,m,n,o,p,q,r,s,t,u,v,w,x,y,z,A,B,D,E,F,G,H,I,J,K,L,M,N,O,Q,R,S,T,U,V,W,X,Y,Z = sp.symbols(\"a b c d f g h j k l m n o p q r s t u v w x y z A B D E F G H I J K L M N O Q R S T U V W X Y Z\")"
   ]
  },
  {
   "cell_type": "code",
   "execution_count": 26,
   "id": "2eff0324",
   "metadata": {},
   "outputs": [
    {
     "name": "stdout",
     "output_type": "stream",
     "text": [
      "{X*f - 2*k/3}\n"
     ]
    }
   ],
   "source": [
    "#식 변환 \n",
    "expr=sp.sympify(arr2[0])\n",
    "print( expr )"
   ]
  },
  {
   "cell_type": "code",
   "execution_count": 28,
   "id": "a4991b61",
   "metadata": {},
   "outputs": [
    {
     "data": {
      "text/latex": [
       "$\\displaystyle \\left\\{X f - \\frac{2 k}{3}\\right\\}$"
      ],
      "text/plain": [
       "{X*f - 2*k/3}"
      ]
     },
     "execution_count": 28,
     "metadata": {},
     "output_type": "execute_result"
    }
   ],
   "source": [
    "exprk = sp.simplify(expr)\n",
    "exprk"
   ]
  },
  {
   "cell_type": "code",
   "execution_count": 30,
   "id": "23930f38",
   "metadata": {},
   "outputs": [
    {
     "data": {
      "text/plain": [
       "sympy.sets.sets.FiniteSet"
      ]
     },
     "execution_count": 30,
     "metadata": {},
     "output_type": "execute_result"
    }
   ],
   "source": [
    "type(exprk)"
   ]
  },
  {
   "cell_type": "code",
   "execution_count": null,
   "id": "4802be34",
   "metadata": {},
   "outputs": [],
   "source": []
  }
 ],
 "metadata": {
  "kernelspec": {
   "display_name": "Python [conda env:idip_2021] *",
   "language": "python",
   "name": "conda-env-idip_2021-py"
  },
  "language_info": {
   "codemirror_mode": {
    "name": "ipython",
    "version": 3
   },
   "file_extension": ".py",
   "mimetype": "text/x-python",
   "name": "python",
   "nbconvert_exporter": "python",
   "pygments_lexer": "ipython3",
   "version": "3.6.13"
  }
 },
 "nbformat": 4,
 "nbformat_minor": 5
}
